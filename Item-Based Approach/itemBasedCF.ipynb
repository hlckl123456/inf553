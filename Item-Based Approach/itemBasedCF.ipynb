{
 "cells": [
  {
   "cell_type": "code",
   "execution_count": 1,
   "metadata": {
    "collapsed": true
   },
   "outputs": [],
   "source": [
    "import pandas as pd\n",
    "import numpy as np\n",
    "import math\n",
    "from time import time\n",
    "from pyspark import SparkContext \n",
    "from pyspark import SparkConf \n",
    "import sys\n",
    "import matplotlib.pyplot as plt"
   ]
  },
  {
   "cell_type": "code",
   "execution_count": 2,
   "metadata": {
    "collapsed": true
   },
   "outputs": [],
   "source": [
    "input_train_business = \"/Users/ar1607/Desktop/USC/FourthSem/finalProj/Restaurants_NEW/anshul_business_train_PA.csv\"\n",
    "input_test_business = \"/Users/ar1607/Desktop/USC/FourthSem/finalProj/Restaurants_NEW/anshul_business_test_PA.csv\"\n",
    "input_validation_business = \"/Users/ar1607/Desktop/USC/FourthSem/finalProj/Restaurants_NEW/anshul_business_val_PA.csv\"\n",
    "inputFile = \"/Users/ar1607/Desktop/USC/FourthSem/finalProj/Restaurants_NEW/train/PA_train_yelp_academic_dataset_review.csv\"\n",
    "testFile = \"/Users/ar1607/Desktop/USC/FourthSem/finalProj/Restaurants_NEW/test/PA_test_yelp_academic_dataset_review.csv\"\n",
    "valFile = \"/Users/ar1607/Desktop/USC/FourthSem/finalProj/Restaurants_NEW/valid/PA_valid_yelp_academic_dataset_review.csv\""
   ]
  },
  {
   "cell_type": "code",
   "execution_count": 3,
   "metadata": {
    "collapsed": false
   },
   "outputs": [],
   "source": [
    "#sc = SparkContext('local[2]', 'ItemBasedCF')\n",
    "conf = SparkConf().setAppName(\"ItemBasedCF\")\n",
    "conf = (conf.setMaster('local[*]')\n",
    "        .set('spark.executor.memory', '4G')\n",
    "        .set('spark.driver.memory', '45G')\n",
    "        .set('spark.driver.maxResultSize', '10G'))\n",
    "sc = SparkContext(conf=conf)"
   ]
  },
  {
   "cell_type": "code",
   "execution_count": 4,
   "metadata": {
    "collapsed": false
   },
   "outputs": [],
   "source": [
    "def _hash(a):\n",
    "    return hash(a)%100000000"
   ]
  },
  {
   "cell_type": "code",
   "execution_count": 5,
   "metadata": {
    "collapsed": false
   },
   "outputs": [
    {
     "name": "stdout",
     "output_type": "stream",
     "text": [
      "TEST DATA : \n",
      "[(45206826, 0, 0, 1, 0, 0, 0, 0, 0, 0, 0, 0, 0, 0.0, 0.0, 1.0, 2.0), (43466363, 1, 1, 1, 1, 1, 1, 0, 0, 0, 1, 0, 0, 3.0, 2.0, 2.0, 3.0), (2201188, 0, 0, 1, 0, 0, 0, 0, 0, 0, 0, 0, 0, 0.0, 0.0, 2.0, 1.5), (83227545, 1, 1, 1, 0, 0, 0, 0, 0, 0, 1, 0, 1, 1.0, 2.0, 2.0, 4.5), (74268317, 0, 0, 1, 0, 0, 1, 0, 0, 0, 0, 0, 0, 1.0, 2.0, 1.0, 2.5), (85385037, 0, 0, 0, 0, 0, 0, 0, 0, 0, 0, 0, 0, 0.0, 0.0, 0.0, 5.0), (80452614, 0, 1, 1, 0, 0, 0, 0, 0, 0, 0, 0, 0, 3.0, 2.0, 2.0, 3.5), (96568505, 0, 1, 1, 0, 1, 0, 0, 0, 0, 0, 0, 0, 0.0, 2.0, 1.0, 4.0), (87057478, 0, 0, 1, 0, 1, 1, 0, 0, 0, 0, 0, 1, 1.0, 0.0, 1.0, 4.0), (76660619, 0, 0, 1, 0, 1, 0, 0, 0, 0, 0, 0, 0, 3.0, 2.0, 2.0, 2.0)]\n",
      "\n",
      "TRAIN DATA : \n",
      "[(45206826, 0, 0, 1, 0, 0, 0, 0, 0, 0, 0, 0, 0, 0.0, 0.0, 1.0, 2.0), (43466363, 1, 1, 1, 1, 1, 1, 0, 0, 0, 1, 0, 0, 3.0, 2.0, 2.0, 3.0), (2201188, 0, 0, 1, 0, 0, 0, 0, 0, 0, 0, 0, 0, 0.0, 0.0, 2.0, 1.5), (83227545, 1, 1, 1, 0, 0, 0, 0, 0, 0, 1, 0, 1, 1.0, 2.0, 2.0, 4.5), (97673544, 0, 1, 1, 1, 0, 0, 0, 0, 0, 0, 0, 0, 0.0, 0.0, 0.0, 5.0), (74268317, 0, 0, 1, 0, 0, 1, 0, 0, 0, 0, 0, 0, 1.0, 2.0, 1.0, 2.5), (80452614, 0, 1, 1, 0, 0, 0, 0, 0, 0, 0, 0, 0, 3.0, 2.0, 2.0, 3.5), (39179368, 0, 0, 1, 0, 0, 0, 0, 0, 0, 0, 0, 0, 1.0, 0.0, 1.0, 3.0), (96568505, 0, 1, 1, 0, 1, 0, 0, 0, 0, 0, 0, 0, 0.0, 2.0, 1.0, 4.0), (87057478, 0, 0, 1, 0, 1, 1, 0, 0, 0, 0, 0, 1, 1.0, 0.0, 1.0, 4.0)]\n",
      "\n",
      "  []\n",
      "\n",
      "VAL DATA : \n",
      "[(45206826, 0, 0, 1, 0, 0, 0, 0, 0, 0, 0, 0, 0, 0.0, 0.0, 1.0, 2.0), (43466363, 1, 1, 1, 1, 1, 1, 0, 0, 0, 1, 0, 0, 3.0, 2.0, 2.0, 3.0), (2201188, 0, 0, 1, 0, 0, 0, 0, 0, 0, 0, 0, 0, 0.0, 0.0, 2.0, 1.5), (83227545, 1, 1, 1, 0, 0, 0, 0, 0, 0, 1, 0, 1, 1.0, 2.0, 2.0, 4.5), (97673544, 0, 1, 1, 1, 0, 0, 0, 0, 0, 0, 0, 0, 0.0, 0.0, 0.0, 5.0), (74268317, 0, 0, 1, 0, 0, 1, 0, 0, 0, 0, 0, 0, 1.0, 2.0, 1.0, 2.5), (85385037, 0, 0, 0, 0, 0, 0, 0, 0, 0, 0, 0, 0, 0.0, 0.0, 0.0, 5.0), (80452614, 0, 1, 1, 0, 0, 0, 0, 0, 0, 0, 0, 0, 3.0, 2.0, 2.0, 3.5), (96568505, 0, 1, 1, 0, 1, 0, 0, 0, 0, 0, 0, 0, 0.0, 2.0, 1.0, 4.0), (87057478, 0, 0, 1, 0, 1, 1, 0, 0, 0, 0, 0, 1, 1.0, 0.0, 1.0, 4.0)]\n",
      "\n",
      "train vector size : \n",
      "3644\n"
     ]
    }
   ],
   "source": [
    "#created Map of businessID hash to one-hot-vector of attributes\n",
    "test_data_one_hot = sc.textFile(input_test_business)\n",
    "test_header_one_hot = test_data_one_hot.first()\n",
    "test_data_one_hot = test_data_one_hot.filter(lambda line: line != test_header_one_hot).map(lambda line: line.split(','))\\\n",
    "            .map(lambda line: (_hash(line[0]), 0 if line[1]=='' else line[1], line[2], line[3], line[4], line[5], line[6], line[7], line[8], line[9], line[10], line[11], line[12], line[13], line[14], line[15], line[16]))\\\n",
    "            .map(lambda line: (line[0], 1 if line[1]=='True' else line[1], line[2], line[3], line[4], line[5], line[6], line[7], line[8], line[9], line[10], line[11], line[12], line[13], line[14], line[15], line[16]))\\\n",
    "            .map(lambda line: (line[0], 0 if line[1]=='False' else line[1], line[2], line[3], line[4], line[5], line[6], line[7], line[8], line[9], line[10], line[11], line[12], line[13], line[14], line[15], line[16]))\\\n",
    "            .map(lambda line: (line[0], line[1], 0 if line[2]=='' else line[2], line[3], line[4], line[5], line[6], line[7], line[8], line[9], line[10], line[11], line[12], line[13], line[14], line[15], line[16]))\\\n",
    "            .map(lambda line: (line[0], line[1], 1 if line[2]=='True' else line[2], line[3], line[4], line[5], line[6], line[7], line[8], line[9], line[10], line[11], line[12], line[13], line[14], line[15], line[16]))\\\n",
    "            .map(lambda line: (line[0], line[1], 0 if line[2]=='False' else line[2], line[3], line[4], line[5], line[6], line[7], line[8], line[9], line[10], line[11], line[12], line[13], line[14], line[15], line[16]))\\\n",
    "            .map(lambda line: (line[0], line[1], line[2], 0 if line[3]=='' else line[3], line[4], line[5], line[6], line[7], line[8], line[9], line[10], line[11], line[12], line[13], line[14], line[15], line[16]))\\\n",
    "            .map(lambda line: (line[0], line[1], line[2], 1 if line[3]=='True' else line[3], line[4], line[5], line[6], line[7], line[8], line[9], line[10], line[11], line[12], line[13], line[14], line[15], line[16]))\\\n",
    "            .map(lambda line: (line[0], line[1], line[2], 0 if line[3]=='False' else line[3], line[4], line[5], line[6], line[7], line[8], line[9], line[10], line[11], line[12], line[13], line[14], line[15], line[16]))\\\n",
    "            .map(lambda line: (line[0], line[1], line[2], line[3], 0 if line[4]=='' else line[4], line[5], line[6], line[7], line[8], line[9], line[10], line[11], line[12], line[13], line[14], line[15], line[16]))\\\n",
    "            .map(lambda line: (line[0], line[1], line[2], line[3], 1 if line[4]=='True' else line[4], line[5], line[6], line[7], line[8], line[9], line[10], line[11], line[12], line[13], line[14], line[15], line[16]))\\\n",
    "            .map(lambda line: (line[0], line[1], line[2], line[3], 0 if line[4]=='False' else line[4], line[5], line[6], line[7], line[8], line[9], line[10], line[11], line[12], line[13], line[14], line[15], line[16]))\\\n",
    "            .map(lambda line: (line[0], line[1], line[2], line[3], line[4], 0 if line[5]=='' else line[5], line[6], line[7], line[8], line[9], line[10], line[11], line[12], line[13], line[14], line[15], line[16]))\\\n",
    "            .map(lambda line: (line[0], line[1], line[2], line[3], line[4], 1 if line[5]=='True' else line[5], line[6], line[7], line[8], line[9], line[10], line[11], line[12], line[13], line[14], line[15], line[16]))\\\n",
    "            .map(lambda line: (line[0], line[1], line[2], line[3], line[4], 0 if line[5]=='False' else line[5], line[6], line[7], line[8], line[9], line[10], line[11], line[12], line[13], line[14], line[15], line[16]))\\\n",
    "            .map(lambda line: (line[0], line[1], line[2], line[3], line[4], line[5], 0 if line[6]=='' else line[6], line[7], line[8], line[9], line[10], line[11], line[12], line[13], line[14], line[15], line[16]))\\\n",
    "            .map(lambda line: (line[0], line[1], line[2], line[3], line[4], line[5], 1 if line[6]=='True' else line[6], line[7], line[8], line[9], line[10], line[11], line[12], line[13], line[14], line[15], line[16]))\\\n",
    "            .map(lambda line: (line[0], line[1], line[2], line[3], line[4], line[5], 0 if line[6]=='False' else line[6], line[7], line[8], line[9], line[10], line[11], line[12], line[13], line[14], line[15], line[16]))\\\n",
    "            .map(lambda line: (line[0], line[1], line[2], line[3], line[4], line[5], line[6], 0 if line[7]=='' else line[7], line[8], line[9], line[10], line[11], line[12], line[13], line[14], line[15], line[16]))\\\n",
    "            .map(lambda line: (line[0], line[1], line[2], line[3], line[4], line[5], line[6], 1 if line[7]=='True' else line[7], line[8], line[9], line[10], line[11], line[12], line[13], line[14], line[15], line[16]))\\\n",
    "            .map(lambda line: (line[0], line[1], line[2], line[3], line[4], line[5], line[6], 0 if line[7]=='False' else line[7], line[8], line[9], line[10], line[11], line[12], line[13], line[14], line[15], line[16]))\\\n",
    "            .map(lambda line: (line[0], line[1], line[2], line[3], line[4], line[5], line[6], line[7], 0 if line[8]=='' else line[8], line[9], line[10], line[11], line[12], line[13], line[14], line[15], line[16]))\\\n",
    "            .map(lambda line: (line[0], line[1], line[2], line[3], line[4], line[5], line[6], line[7], 1 if line[8]=='True' else line[8], line[9], line[10], line[11], line[12], line[13], line[14], line[15], line[16]))\\\n",
    "            .map(lambda line: (line[0], line[1], line[2], line[3], line[4], line[5], line[6], line[7], 0 if line[8]=='False' else line[8], line[9], line[10], line[11], line[12], line[13], line[14], line[15], line[16]))\\\n",
    "            .map(lambda line: (line[0], line[1], line[2], line[3], line[4], line[5], line[6], line[7], line[8], 0 if line[9]=='' else line[9], line[10], line[11], line[12], line[13], line[14], line[15], line[16]))\\\n",
    "            .map(lambda line: (line[0], line[1], line[2], line[3], line[4], line[5], line[6], line[7], line[8], 1 if line[9]=='True' else line[9], line[10], line[11], line[12], line[13], line[14], line[15], line[16]))\\\n",
    "            .map(lambda line: (line[0], line[1], line[2], line[3], line[4], line[5], line[6], line[7], line[8], 0 if line[9]=='False' else line[9], line[10], line[11], line[12], line[13], line[14], line[15], line[16]))\\\n",
    "            .map(lambda line: (line[0], line[1], line[2], line[3], line[4], line[5], line[6], line[7], line[8], line[9], 0 if line[10]=='' else line[10], line[11], line[12], line[13], line[14], line[15], line[16]))\\\n",
    "            .map(lambda line: (line[0], line[1], line[2], line[3], line[4], line[5], line[6], line[7], line[8], line[9], 1 if line[10]=='True' else line[10], line[11], line[12], line[13], line[14], line[15], line[16]))\\\n",
    "            .map(lambda line: (line[0], line[1], line[2], line[3], line[4], line[5], line[6], line[7], line[8], line[9], 0 if line[10]=='False' else line[10], line[11], line[12], line[13], line[14], line[15], line[16]))\\\n",
    "            .map(lambda line: (line[0], line[1], line[2], line[3], line[4], line[5], line[6], line[7], line[8], line[9], line[10], 0 if line[11]=='' else line[11], line[12], line[13], line[14], line[15], line[16]))\\\n",
    "            .map(lambda line: (line[0], line[1], line[2], line[3], line[4], line[5], line[6], line[7], line[8], line[9], line[10], 1 if line[11]=='True' else line[11], line[12], line[13], line[14], line[15], line[16]))\\\n",
    "            .map(lambda line: (line[0], line[1], line[2], line[3], line[4], line[5], line[6], line[7], line[8], line[9], line[10], 0 if line[11]=='False' else line[11], line[12], line[13], line[14], line[15], line[16]))\\\n",
    "            .map(lambda line: (line[0], line[1], line[2], line[3], line[4], line[5], line[6], line[7], line[8], line[9], line[10], line[11], 0 if line[12]=='' else line[12], line[13], line[14], line[15], line[16]))\\\n",
    "            .map(lambda line: (line[0], line[1], line[2], line[3], line[4], line[5], line[6], line[7], line[8], line[9], line[10], line[11], 1 if line[12]=='True' else line[12], line[13], line[14], line[15], line[16]))\\\n",
    "            .map(lambda line: (line[0], line[1], line[2], line[3], line[4], line[5], line[6], line[7], line[8], line[9], line[10], line[11], 0 if line[12]=='False' else line[12], line[13], line[14], line[15], line[16]))\\\n",
    "            .map(lambda line: (line[0], line[1], line[2], line[3], line[4], line[5], line[6], line[7], line[8], line[9], line[10], line[11], line[12], 0.0 if line[13]=='' else line[13], line[14], line[15], line[16]))\\\n",
    "            .map(lambda line: (line[0], line[1], line[2], line[3], line[4], line[5], line[6], line[7], line[8], line[9], line[10], line[11], line[12], 1.0 if line[13]=='none' else line[13], line[14], line[15], line[16]))\\\n",
    "            .map(lambda line: (line[0], line[1], line[2], line[3], line[4], line[5], line[6], line[7], line[8], line[9], line[10], line[11], line[12], 2.0 if line[13]=='beer_and_wine' else line[13], line[14], line[15], line[16]))\\\n",
    "            .map(lambda line: (line[0], line[1], line[2], line[3], line[4], line[5], line[6], line[7], line[8], line[9], line[10], line[11], line[12], 3.0 if line[13]=='full_bar' else line[13], line[14], line[15], line[16]))\\\n",
    "            .map(lambda line: (line[0], line[1], line[2], line[3], line[4], line[5], line[6], line[7], line[8], line[9], line[10], line[11], line[12], line[13], 0.0 if line[14]=='' else line[14], line[15], line[16]))\\\n",
    "            .map(lambda line: (line[0], line[1], line[2], line[3], line[4], line[5], line[6], line[7], line[8], line[9], line[10], line[11], line[12], line[13], 1.0 if line[14]=='quiet' else line[14], line[15], line[16]))\\\n",
    "            .map(lambda line: (line[0], line[1], line[2], line[3], line[4], line[5], line[6], line[7], line[8], line[9], line[10], line[11], line[12], line[13], 2.0 if line[14]=='average' else line[14], line[15], line[16]))\\\n",
    "            .map(lambda line: (line[0], line[1], line[2], line[3], line[4], line[5], line[6], line[7], line[8], line[9], line[10], line[11], line[12], line[13], 3.0 if line[14]=='very_loud' else line[14], line[15], line[16]))\\\n",
    "            .map(lambda line: (line[0], line[1], line[2], line[3], line[4], line[5], line[6], line[7], line[8], line[9], line[10], line[11], line[12], line[13], 4.0 if line[14]=='loud' else line[14], line[15], line[16]))\\\n",
    "            .map(lambda line: (line[0], line[1], line[2], line[3], line[4], line[5], line[6], line[7], line[8], line[9], line[10], line[11], line[12], line[13], line[14], 0.0 if line[15]=='' else float(line[15]), line[16]))\\\n",
    "            .map(lambda line: (line[0], line[1], line[2], line[3], line[4], line[5], line[6], line[7], line[8], line[9], line[10], line[11], line[12], line[13], line[14], line[15], 0.0 if line[16]=='' else float(line[16])))\n",
    "            \n",
    "print \"TEST DATA : \\n\", test_data_one_hot.take(10)\n",
    "\n",
    "train_data_one_hot = sc.textFile(input_train_business)\n",
    "train_header_one_hot = train_data_one_hot.first()\n",
    "xx = train_data_one_hot.map(lambda line: line.split(','))#.map(lambda line : (line[82], line[4], line[20], line[22], line[25], line[60], line[73], line[45], line[46], line[47], line[48], line[49], line[50], line[3], line[68], line[75]))\n",
    "\n",
    "train_data_one_hot = train_data_one_hot.filter(lambda line: line != train_header_one_hot).map(lambda line: line.split(','))\\\n",
    "            .map(lambda line: (_hash(line[0]), 0 if line[1]=='' else line[1], line[2], line[3], line[4], line[5], line[6], line[7], line[8], line[9], line[10], line[11], line[12], line[13], line[14], line[15], line[16]))\\\n",
    "            .map(lambda line: (line[0], 1 if line[1]=='True' else line[1], line[2], line[3], line[4], line[5], line[6], line[7], line[8], line[9], line[10], line[11], line[12], line[13], line[14], line[15], line[16]))\\\n",
    "            .map(lambda line: (line[0], 0 if line[1]=='False' else line[1], line[2], line[3], line[4], line[5], line[6], line[7], line[8], line[9], line[10], line[11], line[12], line[13], line[14], line[15], line[16]))\\\n",
    "            .map(lambda line: (line[0], line[1], 0 if line[2]=='' else line[2], line[3], line[4], line[5], line[6], line[7], line[8], line[9], line[10], line[11], line[12], line[13], line[14], line[15], line[16]))\\\n",
    "            .map(lambda line: (line[0], line[1], 1 if line[2]=='True' else line[2], line[3], line[4], line[5], line[6], line[7], line[8], line[9], line[10], line[11], line[12], line[13], line[14], line[15], line[16]))\\\n",
    "            .map(lambda line: (line[0], line[1], 0 if line[2]=='False' else line[2], line[3], line[4], line[5], line[6], line[7], line[8], line[9], line[10], line[11], line[12], line[13], line[14], line[15], line[16]))\\\n",
    "            .map(lambda line: (line[0], line[1], line[2], 0 if line[3]=='' else line[3], line[4], line[5], line[6], line[7], line[8], line[9], line[10], line[11], line[12], line[13], line[14], line[15], line[16]))\\\n",
    "            .map(lambda line: (line[0], line[1], line[2], 1 if line[3]=='True' else line[3], line[4], line[5], line[6], line[7], line[8], line[9], line[10], line[11], line[12], line[13], line[14], line[15], line[16]))\\\n",
    "            .map(lambda line: (line[0], line[1], line[2], 0 if line[3]=='False' else line[3], line[4], line[5], line[6], line[7], line[8], line[9], line[10], line[11], line[12], line[13], line[14], line[15], line[16]))\\\n",
    "            .map(lambda line: (line[0], line[1], line[2], line[3], 0 if line[4]=='' else line[4], line[5], line[6], line[7], line[8], line[9], line[10], line[11], line[12], line[13], line[14], line[15], line[16]))\\\n",
    "            .map(lambda line: (line[0], line[1], line[2], line[3], 1 if line[4]=='True' else line[4], line[5], line[6], line[7], line[8], line[9], line[10], line[11], line[12], line[13], line[14], line[15], line[16]))\\\n",
    "            .map(lambda line: (line[0], line[1], line[2], line[3], 0 if line[4]=='False' else line[4], line[5], line[6], line[7], line[8], line[9], line[10], line[11], line[12], line[13], line[14], line[15], line[16]))\\\n",
    "            .map(lambda line: (line[0], line[1], line[2], line[3], line[4], 0 if line[5]=='' else line[5], line[6], line[7], line[8], line[9], line[10], line[11], line[12], line[13], line[14], line[15], line[16]))\\\n",
    "            .map(lambda line: (line[0], line[1], line[2], line[3], line[4], 1 if line[5]=='True' else line[5], line[6], line[7], line[8], line[9], line[10], line[11], line[12], line[13], line[14], line[15], line[16]))\\\n",
    "            .map(lambda line: (line[0], line[1], line[2], line[3], line[4], 0 if line[5]=='False' else line[5], line[6], line[7], line[8], line[9], line[10], line[11], line[12], line[13], line[14], line[15], line[16]))\\\n",
    "            .map(lambda line: (line[0], line[1], line[2], line[3], line[4], line[5], 0 if line[6]=='' else line[6], line[7], line[8], line[9], line[10], line[11], line[12], line[13], line[14], line[15], line[16]))\\\n",
    "            .map(lambda line: (line[0], line[1], line[2], line[3], line[4], line[5], 1 if line[6]=='True' else line[6], line[7], line[8], line[9], line[10], line[11], line[12], line[13], line[14], line[15], line[16]))\\\n",
    "            .map(lambda line: (line[0], line[1], line[2], line[3], line[4], line[5], 0 if line[6]=='False' else line[6], line[7], line[8], line[9], line[10], line[11], line[12], line[13], line[14], line[15], line[16]))\\\n",
    "            .map(lambda line: (line[0], line[1], line[2], line[3], line[4], line[5], line[6], 0 if line[7]=='' else line[7], line[8], line[9], line[10], line[11], line[12], line[13], line[14], line[15], line[16]))\\\n",
    "            .map(lambda line: (line[0], line[1], line[2], line[3], line[4], line[5], line[6], 1 if line[7]=='True' else line[7], line[8], line[9], line[10], line[11], line[12], line[13], line[14], line[15], line[16]))\\\n",
    "            .map(lambda line: (line[0], line[1], line[2], line[3], line[4], line[5], line[6], 0 if line[7]=='False' else line[7], line[8], line[9], line[10], line[11], line[12], line[13], line[14], line[15], line[16]))\\\n",
    "            .map(lambda line: (line[0], line[1], line[2], line[3], line[4], line[5], line[6], line[7], 0 if line[8]=='' else line[8], line[9], line[10], line[11], line[12], line[13], line[14], line[15], line[16]))\\\n",
    "            .map(lambda line: (line[0], line[1], line[2], line[3], line[4], line[5], line[6], line[7], 1 if line[8]=='True' else line[8], line[9], line[10], line[11], line[12], line[13], line[14], line[15], line[16]))\\\n",
    "            .map(lambda line: (line[0], line[1], line[2], line[3], line[4], line[5], line[6], line[7], 0 if line[8]=='False' else line[8], line[9], line[10], line[11], line[12], line[13], line[14], line[15], line[16]))\\\n",
    "            .map(lambda line: (line[0], line[1], line[2], line[3], line[4], line[5], line[6], line[7], line[8], 0 if line[9]=='' else line[9], line[10], line[11], line[12], line[13], line[14], line[15], line[16]))\\\n",
    "            .map(lambda line: (line[0], line[1], line[2], line[3], line[4], line[5], line[6], line[7], line[8], 1 if line[9]=='True' else line[9], line[10], line[11], line[12], line[13], line[14], line[15], line[16]))\\\n",
    "            .map(lambda line: (line[0], line[1], line[2], line[3], line[4], line[5], line[6], line[7], line[8], 0 if line[9]=='False' else line[9], line[10], line[11], line[12], line[13], line[14], line[15], line[16]))\\\n",
    "            .map(lambda line: (line[0], line[1], line[2], line[3], line[4], line[5], line[6], line[7], line[8], line[9], 0 if line[10]=='' else line[10], line[11], line[12], line[13], line[14], line[15], line[16]))\\\n",
    "            .map(lambda line: (line[0], line[1], line[2], line[3], line[4], line[5], line[6], line[7], line[8], line[9], 1 if line[10]=='True' else line[10], line[11], line[12], line[13], line[14], line[15], line[16]))\\\n",
    "            .map(lambda line: (line[0], line[1], line[2], line[3], line[4], line[5], line[6], line[7], line[8], line[9], 0 if line[10]=='False' else line[10], line[11], line[12], line[13], line[14], line[15], line[16]))\\\n",
    "            .map(lambda line: (line[0], line[1], line[2], line[3], line[4], line[5], line[6], line[7], line[8], line[9], line[10], 0 if line[11]=='' else line[11], line[12], line[13], line[14], line[15], line[16]))\\\n",
    "            .map(lambda line: (line[0], line[1], line[2], line[3], line[4], line[5], line[6], line[7], line[8], line[9], line[10], 1 if line[11]=='True' else line[11], line[12], line[13], line[14], line[15], line[16]))\\\n",
    "            .map(lambda line: (line[0], line[1], line[2], line[3], line[4], line[5], line[6], line[7], line[8], line[9], line[10], 0 if line[11]=='False' else line[11], line[12], line[13], line[14], line[15], line[16]))\\\n",
    "            .map(lambda line: (line[0], line[1], line[2], line[3], line[4], line[5], line[6], line[7], line[8], line[9], line[10], line[11], 0 if line[12]=='' else line[12], line[13], line[14], line[15], line[16]))\\\n",
    "            .map(lambda line: (line[0], line[1], line[2], line[3], line[4], line[5], line[6], line[7], line[8], line[9], line[10], line[11], 1 if line[12]=='True' else line[12], line[13], line[14], line[15], line[16]))\\\n",
    "            .map(lambda line: (line[0], line[1], line[2], line[3], line[4], line[5], line[6], line[7], line[8], line[9], line[10], line[11], 0 if line[12]=='False' else line[12], line[13], line[14], line[15], line[16]))\\\n",
    "            .map(lambda line: (line[0], line[1], line[2], line[3], line[4], line[5], line[6], line[7], line[8], line[9], line[10], line[11], line[12], 0.0 if line[13]=='' else line[13], line[14], line[15], line[16]))\\\n",
    "            .map(lambda line: (line[0], line[1], line[2], line[3], line[4], line[5], line[6], line[7], line[8], line[9], line[10], line[11], line[12], 1.0 if line[13]=='none' else line[13], line[14], line[15], line[16]))\\\n",
    "            .map(lambda line: (line[0], line[1], line[2], line[3], line[4], line[5], line[6], line[7], line[8], line[9], line[10], line[11], line[12], 2.0 if line[13]=='beer_and_wine' else line[13], line[14], line[15], line[16]))\\\n",
    "            .map(lambda line: (line[0], line[1], line[2], line[3], line[4], line[5], line[6], line[7], line[8], line[9], line[10], line[11], line[12], 3.0 if line[13]=='full_bar' else line[13], line[14], line[15], line[16]))\\\n",
    "            .map(lambda line: (line[0], line[1], line[2], line[3], line[4], line[5], line[6], line[7], line[8], line[9], line[10], line[11], line[12], line[13], 0.0 if line[14]=='' else line[14], line[15], line[16]))\\\n",
    "            .map(lambda line: (line[0], line[1], line[2], line[3], line[4], line[5], line[6], line[7], line[8], line[9], line[10], line[11], line[12], line[13], 1.0 if line[14]=='quiet' else line[14], line[15], line[16]))\\\n",
    "            .map(lambda line: (line[0], line[1], line[2], line[3], line[4], line[5], line[6], line[7], line[8], line[9], line[10], line[11], line[12], line[13], 2.0 if line[14]=='average' else line[14], line[15], line[16]))\\\n",
    "            .map(lambda line: (line[0], line[1], line[2], line[3], line[4], line[5], line[6], line[7], line[8], line[9], line[10], line[11], line[12], line[13], 3.0 if line[14]=='very_loud' else line[14], line[15], line[16]))\\\n",
    "            .map(lambda line: (line[0], line[1], line[2], line[3], line[4], line[5], line[6], line[7], line[8], line[9], line[10], line[11], line[12], line[13], 4.0 if line[14]=='loud' else line[14], line[15], line[16]))\\\n",
    "            .map(lambda line: (line[0], line[1], line[2], line[3], line[4], line[5], line[6], line[7], line[8], line[9], line[10], line[11], line[12], line[13], line[14], 0.0 if line[15]=='' else float(line[15]), line[16]))\\\n",
    "            .map(lambda line: (line[0], line[1], line[2], line[3], line[4], line[5], line[6], line[7], line[8], line[9], line[10], line[11], line[12], line[13], line[14], line[15], 0.0 if line[16]=='' else float(line[16])))\n",
    "            \n",
    "            \n",
    "print \"\\nTRAIN DATA : \\n\", train_data_one_hot.take(10)\n",
    "xx = xx.filter(lambda line : line[15]=='True')  \n",
    "print \"\\n \",xx.take(1)\n",
    "\n",
    "val_data_one_hot = sc.textFile(input_validation_business)\n",
    "val_header_one_hot = val_data_one_hot.first()\n",
    "val_data_one_hot = val_data_one_hot.filter(lambda line: line != val_header_one_hot).map(lambda line: line.split(','))\\\n",
    "            .map(lambda line: (_hash(line[0]), 0 if line[1]=='' else line[1], line[2], line[3], line[4], line[5], line[6], line[7], line[8], line[9], line[10], line[11], line[12], line[13], line[14], line[15], line[16]))\\\n",
    "            .map(lambda line: (line[0], 1 if line[1]=='True' else line[1], line[2], line[3], line[4], line[5], line[6], line[7], line[8], line[9], line[10], line[11], line[12], line[13], line[14], line[15], line[16]))\\\n",
    "            .map(lambda line: (line[0], 0 if line[1]=='False' else line[1], line[2], line[3], line[4], line[5], line[6], line[7], line[8], line[9], line[10], line[11], line[12], line[13], line[14], line[15], line[16]))\\\n",
    "            .map(lambda line: (line[0], line[1], 0 if line[2]=='' else line[2], line[3], line[4], line[5], line[6], line[7], line[8], line[9], line[10], line[11], line[12], line[13], line[14], line[15], line[16]))\\\n",
    "            .map(lambda line: (line[0], line[1], 1 if line[2]=='True' else line[2], line[3], line[4], line[5], line[6], line[7], line[8], line[9], line[10], line[11], line[12], line[13], line[14], line[15], line[16]))\\\n",
    "            .map(lambda line: (line[0], line[1], 0 if line[2]=='False' else line[2], line[3], line[4], line[5], line[6], line[7], line[8], line[9], line[10], line[11], line[12], line[13], line[14], line[15], line[16]))\\\n",
    "            .map(lambda line: (line[0], line[1], line[2], 0 if line[3]=='' else line[3], line[4], line[5], line[6], line[7], line[8], line[9], line[10], line[11], line[12], line[13], line[14], line[15], line[16]))\\\n",
    "            .map(lambda line: (line[0], line[1], line[2], 1 if line[3]=='True' else line[3], line[4], line[5], line[6], line[7], line[8], line[9], line[10], line[11], line[12], line[13], line[14], line[15], line[16]))\\\n",
    "            .map(lambda line: (line[0], line[1], line[2], 0 if line[3]=='False' else line[3], line[4], line[5], line[6], line[7], line[8], line[9], line[10], line[11], line[12], line[13], line[14], line[15], line[16]))\\\n",
    "            .map(lambda line: (line[0], line[1], line[2], line[3], 0 if line[4]=='' else line[4], line[5], line[6], line[7], line[8], line[9], line[10], line[11], line[12], line[13], line[14], line[15], line[16]))\\\n",
    "            .map(lambda line: (line[0], line[1], line[2], line[3], 1 if line[4]=='True' else line[4], line[5], line[6], line[7], line[8], line[9], line[10], line[11], line[12], line[13], line[14], line[15], line[16]))\\\n",
    "            .map(lambda line: (line[0], line[1], line[2], line[3], 0 if line[4]=='False' else line[4], line[5], line[6], line[7], line[8], line[9], line[10], line[11], line[12], line[13], line[14], line[15], line[16]))\\\n",
    "            .map(lambda line: (line[0], line[1], line[2], line[3], line[4], 0 if line[5]=='' else line[5], line[6], line[7], line[8], line[9], line[10], line[11], line[12], line[13], line[14], line[15], line[16]))\\\n",
    "            .map(lambda line: (line[0], line[1], line[2], line[3], line[4], 1 if line[5]=='True' else line[5], line[6], line[7], line[8], line[9], line[10], line[11], line[12], line[13], line[14], line[15], line[16]))\\\n",
    "            .map(lambda line: (line[0], line[1], line[2], line[3], line[4], 0 if line[5]=='False' else line[5], line[6], line[7], line[8], line[9], line[10], line[11], line[12], line[13], line[14], line[15], line[16]))\\\n",
    "            .map(lambda line: (line[0], line[1], line[2], line[3], line[4], line[5], 0 if line[6]=='' else line[6], line[7], line[8], line[9], line[10], line[11], line[12], line[13], line[14], line[15], line[16]))\\\n",
    "            .map(lambda line: (line[0], line[1], line[2], line[3], line[4], line[5], 1 if line[6]=='True' else line[6], line[7], line[8], line[9], line[10], line[11], line[12], line[13], line[14], line[15], line[16]))\\\n",
    "            .map(lambda line: (line[0], line[1], line[2], line[3], line[4], line[5], 0 if line[6]=='False' else line[6], line[7], line[8], line[9], line[10], line[11], line[12], line[13], line[14], line[15], line[16]))\\\n",
    "            .map(lambda line: (line[0], line[1], line[2], line[3], line[4], line[5], line[6], 0 if line[7]=='' else line[7], line[8], line[9], line[10], line[11], line[12], line[13], line[14], line[15], line[16]))\\\n",
    "            .map(lambda line: (line[0], line[1], line[2], line[3], line[4], line[5], line[6], 1 if line[7]=='True' else line[7], line[8], line[9], line[10], line[11], line[12], line[13], line[14], line[15], line[16]))\\\n",
    "            .map(lambda line: (line[0], line[1], line[2], line[3], line[4], line[5], line[6], 0 if line[7]=='False' else line[7], line[8], line[9], line[10], line[11], line[12], line[13], line[14], line[15], line[16]))\\\n",
    "            .map(lambda line: (line[0], line[1], line[2], line[3], line[4], line[5], line[6], line[7], 0 if line[8]=='' else line[8], line[9], line[10], line[11], line[12], line[13], line[14], line[15], line[16]))\\\n",
    "            .map(lambda line: (line[0], line[1], line[2], line[3], line[4], line[5], line[6], line[7], 1 if line[8]=='True' else line[8], line[9], line[10], line[11], line[12], line[13], line[14], line[15], line[16]))\\\n",
    "            .map(lambda line: (line[0], line[1], line[2], line[3], line[4], line[5], line[6], line[7], 0 if line[8]=='False' else line[8], line[9], line[10], line[11], line[12], line[13], line[14], line[15], line[16]))\\\n",
    "            .map(lambda line: (line[0], line[1], line[2], line[3], line[4], line[5], line[6], line[7], line[8], 0 if line[9]=='' else line[9], line[10], line[11], line[12], line[13], line[14], line[15], line[16]))\\\n",
    "            .map(lambda line: (line[0], line[1], line[2], line[3], line[4], line[5], line[6], line[7], line[8], 1 if line[9]=='True' else line[9], line[10], line[11], line[12], line[13], line[14], line[15], line[16]))\\\n",
    "            .map(lambda line: (line[0], line[1], line[2], line[3], line[4], line[5], line[6], line[7], line[8], 0 if line[9]=='False' else line[9], line[10], line[11], line[12], line[13], line[14], line[15], line[16]))\\\n",
    "            .map(lambda line: (line[0], line[1], line[2], line[3], line[4], line[5], line[6], line[7], line[8], line[9], 0 if line[10]=='' else line[10], line[11], line[12], line[13], line[14], line[15], line[16]))\\\n",
    "            .map(lambda line: (line[0], line[1], line[2], line[3], line[4], line[5], line[6], line[7], line[8], line[9], 1 if line[10]=='True' else line[10], line[11], line[12], line[13], line[14], line[15], line[16]))\\\n",
    "            .map(lambda line: (line[0], line[1], line[2], line[3], line[4], line[5], line[6], line[7], line[8], line[9], 0 if line[10]=='False' else line[10], line[11], line[12], line[13], line[14], line[15], line[16]))\\\n",
    "            .map(lambda line: (line[0], line[1], line[2], line[3], line[4], line[5], line[6], line[7], line[8], line[9], line[10], 0 if line[11]=='' else line[11], line[12], line[13], line[14], line[15], line[16]))\\\n",
    "            .map(lambda line: (line[0], line[1], line[2], line[3], line[4], line[5], line[6], line[7], line[8], line[9], line[10], 1 if line[11]=='True' else line[11], line[12], line[13], line[14], line[15], line[16]))\\\n",
    "            .map(lambda line: (line[0], line[1], line[2], line[3], line[4], line[5], line[6], line[7], line[8], line[9], line[10], 0 if line[11]=='False' else line[11], line[12], line[13], line[14], line[15], line[16]))\\\n",
    "            .map(lambda line: (line[0], line[1], line[2], line[3], line[4], line[5], line[6], line[7], line[8], line[9], line[10], line[11], 0 if line[12]=='' else line[12], line[13], line[14], line[15], line[16]))\\\n",
    "            .map(lambda line: (line[0], line[1], line[2], line[3], line[4], line[5], line[6], line[7], line[8], line[9], line[10], line[11], 1 if line[12]=='True' else line[12], line[13], line[14], line[15], line[16]))\\\n",
    "            .map(lambda line: (line[0], line[1], line[2], line[3], line[4], line[5], line[6], line[7], line[8], line[9], line[10], line[11], 0 if line[12]=='False' else line[12], line[13], line[14], line[15], line[16]))\\\n",
    "            .map(lambda line: (line[0], line[1], line[2], line[3], line[4], line[5], line[6], line[7], line[8], line[9], line[10], line[11], line[12], 0.0 if line[13]=='' else line[13], line[14], line[15], line[16]))\\\n",
    "            .map(lambda line: (line[0], line[1], line[2], line[3], line[4], line[5], line[6], line[7], line[8], line[9], line[10], line[11], line[12], 1.0 if line[13]=='none' else line[13], line[14], line[15], line[16]))\\\n",
    "            .map(lambda line: (line[0], line[1], line[2], line[3], line[4], line[5], line[6], line[7], line[8], line[9], line[10], line[11], line[12], 2.0 if line[13]=='beer_and_wine' else line[13], line[14], line[15], line[16]))\\\n",
    "            .map(lambda line: (line[0], line[1], line[2], line[3], line[4], line[5], line[6], line[7], line[8], line[9], line[10], line[11], line[12], 3.0 if line[13]=='full_bar' else line[13], line[14], line[15], line[16]))\\\n",
    "            .map(lambda line: (line[0], line[1], line[2], line[3], line[4], line[5], line[6], line[7], line[8], line[9], line[10], line[11], line[12], line[13], 0.0 if line[14]=='' else line[14], line[15], line[16]))\\\n",
    "            .map(lambda line: (line[0], line[1], line[2], line[3], line[4], line[5], line[6], line[7], line[8], line[9], line[10], line[11], line[12], line[13], 1.0 if line[14]=='quiet' else line[14], line[15], line[16]))\\\n",
    "            .map(lambda line: (line[0], line[1], line[2], line[3], line[4], line[5], line[6], line[7], line[8], line[9], line[10], line[11], line[12], line[13], 2.0 if line[14]=='average' else line[14], line[15], line[16]))\\\n",
    "            .map(lambda line: (line[0], line[1], line[2], line[3], line[4], line[5], line[6], line[7], line[8], line[9], line[10], line[11], line[12], line[13], 3.0 if line[14]=='very_loud' else line[14], line[15], line[16]))\\\n",
    "            .map(lambda line: (line[0], line[1], line[2], line[3], line[4], line[5], line[6], line[7], line[8], line[9], line[10], line[11], line[12], line[13], 4.0 if line[14]=='loud' else line[14], line[15], line[16]))\\\n",
    "            .map(lambda line: (line[0], line[1], line[2], line[3], line[4], line[5], line[6], line[7], line[8], line[9], line[10], line[11], line[12], line[13], line[14], 0.0 if line[15]=='' else float(line[15]), line[16]))\\\n",
    "            .map(lambda line: (line[0], line[1], line[2], line[3], line[4], line[5], line[6], line[7], line[8], line[9], line[10], line[11], line[12], line[13], line[14], line[15], 0.0 if line[16]=='' else float(line[16])))\n",
    "            \n",
    "print \"\\nVAL DATA : \\n\", val_data_one_hot.take(10)\n",
    "print \"\\ntrain vector size : \\n\", train_data_one_hot.count()"
   ]
  },
  {
   "cell_type": "code",
   "execution_count": 6,
   "metadata": {
    "collapsed": false
   },
   "outputs": [
    {
     "data": {
      "text/plain": [
       "'\\ntrn = pd.read_csv(\"/Users/ar1607/Desktop/USC/FourthSem/finalProj/Restaurants_NEW/train/PA_train_yelp_academic_dataset_business.csv\")\\nnew_trn = trn.filter([\\'business_id\\',\\'attributes.Ambience.casual\\',\\'attributes.BikeParking\\',\\'attributes.BusinessAcceptsCreditCards\\',\\'attributes.BusinessParking.street\\',\\'attributes.HasTV\\',\\'attributes.RestaurantsDelivery\\',\\'attributes.GoodForMeal.breakfast\\',\\'attributes.GoodForMeal.brunch\\',\\'attributes.GoodForMeal.dessert\\',\\'attributes.GoodForMeal.dinner\\',\\'attributes.GoodForMeal.latenight\\',\\'attributes.GoodForMeal.lunch\\',\\'attributes.Alcohol\\',\\'attributes.NoiseLevel\\',\\'attributes.RestaurantsPriceRange2\\',\\'stars\\'], axis=1)\\nnew_trn.to_csv(\"./anshul_business_train_PA.csv\", encoding=\\'utf-8\\', index=False)\\n\\nval = pd.read_csv(\"/Users/ar1607/Desktop/USC/FourthSem/finalProj/Restaurants_NEW/valid/PA_valid_yelp_academic_dataset_business.csv\")\\nnew_val = val.filter([\\'business_id\\',\\'attributes.Ambience.casual\\',\\'attributes.BikeParking\\',\\'attributes.BusinessAcceptsCreditCards\\',\\'attributes.BusinessParking.street\\',\\'attributes.HasTV\\',\\'attributes.RestaurantsDelivery\\',\\'attributes.GoodForMeal.breakfast\\',\\'attributes.GoodForMeal.brunch\\',\\'attributes.GoodForMeal.dessert\\',\\'attributes.GoodForMeal.dinner\\',\\'attributes.GoodForMeal.latenight\\',\\'attributes.GoodForMeal.lunch\\',\\'attributes.Alcohol\\',\\'attributes.NoiseLevel\\',\\'attributes.RestaurantsPriceRange2\\',\\'stars\\'], axis=1)\\nnew_val.to_csv(\"./anshul_business_val_PA.csv\", encoding=\\'utf-8\\', index=False)\\n\\ntst = pd.read_csv(\"/Users/ar1607/Desktop/USC/FourthSem/finalProj/Restaurants_NEW/test/PA_test_yelp_academic_dataset_business.csv\")\\nnew_tst = tst.filter([\\'business_id\\',\\'attributes.Ambience.casual\\',\\'attributes.BikeParking\\',\\'attributes.BusinessAcceptsCreditCards\\',\\'attributes.BusinessParking.street\\',\\'attributes.HasTV\\',\\'attributes.RestaurantsDelivery\\',\\'attributes.GoodForMeal.breakfast\\',\\'attributes.GoodForMeal.brunch\\',\\'attributes.GoodForMeal.dessert\\',\\'attributes.GoodForMeal.dinner\\',\\'attributes.GoodForMeal.latenight\\',\\'attributes.GoodForMeal.lunch\\',\\'attributes.Alcohol\\',\\'attributes.NoiseLevel\\',\\'attributes.RestaurantsPriceRange2\\',\\'stars\\'], axis=1)\\nnew_tst.to_csv(\"./anshul_business_test_PA.csv\", encoding=\\'utf-8\\', index=False)\\n'"
      ]
     },
     "execution_count": 6,
     "metadata": {},
     "output_type": "execute_result"
    }
   ],
   "source": [
    "\"\"\"\n",
    "trn = pd.read_csv(inputFile)\n",
    "del trn['text']\n",
    "trn.to_csv(\"./anshul_review_train_PA.csv\", encoding='utf-8', index=False)\n",
    "val = pd.read_csv(valFile)\n",
    "del val['text']\n",
    "val.to_csv(\"./anshul_review_val_PA.csv\", encoding='utf-8', index=False)\n",
    "tst = pd.read_csv(testFile)\n",
    "del tst['text']\n",
    "tst.to_csv(\"./anshul_review_test_PA.csv\", encoding='utf-8', index=False)\n",
    "\"\"\"\n",
    "\n",
    "inputFile = \"./anshul_review_train_PA.csv\"\n",
    "valFile = \"./anshul_review_val_PA.csv\"\n",
    "testFile = \"./anshul_review_test_PA.csv\"\n",
    "\n",
    "\"\"\"\n",
    "trn = pd.read_csv(\"/Users/ar1607/Desktop/USC/FourthSem/finalProj/Restaurants_NEW/train/PA_train_yelp_academic_dataset_business.csv\")\n",
    "new_trn = trn.filter(['business_id','attributes.Ambience.casual','attributes.BikeParking','attributes.BusinessAcceptsCreditCards','attributes.BusinessParking.street','attributes.HasTV','attributes.RestaurantsDelivery','attributes.GoodForMeal.breakfast','attributes.GoodForMeal.brunch','attributes.GoodForMeal.dessert','attributes.GoodForMeal.dinner','attributes.GoodForMeal.latenight','attributes.GoodForMeal.lunch','attributes.Alcohol','attributes.NoiseLevel','attributes.RestaurantsPriceRange2','stars'], axis=1)\n",
    "new_trn.to_csv(\"./anshul_business_train_PA.csv\", encoding='utf-8', index=False)\n",
    "\n",
    "val = pd.read_csv(\"/Users/ar1607/Desktop/USC/FourthSem/finalProj/Restaurants_NEW/valid/PA_valid_yelp_academic_dataset_business.csv\")\n",
    "new_val = val.filter(['business_id','attributes.Ambience.casual','attributes.BikeParking','attributes.BusinessAcceptsCreditCards','attributes.BusinessParking.street','attributes.HasTV','attributes.RestaurantsDelivery','attributes.GoodForMeal.breakfast','attributes.GoodForMeal.brunch','attributes.GoodForMeal.dessert','attributes.GoodForMeal.dinner','attributes.GoodForMeal.latenight','attributes.GoodForMeal.lunch','attributes.Alcohol','attributes.NoiseLevel','attributes.RestaurantsPriceRange2','stars'], axis=1)\n",
    "new_val.to_csv(\"./anshul_business_val_PA.csv\", encoding='utf-8', index=False)\n",
    "\n",
    "tst = pd.read_csv(\"/Users/ar1607/Desktop/USC/FourthSem/finalProj/Restaurants_NEW/test/PA_test_yelp_academic_dataset_business.csv\")\n",
    "new_tst = tst.filter(['business_id','attributes.Ambience.casual','attributes.BikeParking','attributes.BusinessAcceptsCreditCards','attributes.BusinessParking.street','attributes.HasTV','attributes.RestaurantsDelivery','attributes.GoodForMeal.breakfast','attributes.GoodForMeal.brunch','attributes.GoodForMeal.dessert','attributes.GoodForMeal.dinner','attributes.GoodForMeal.latenight','attributes.GoodForMeal.lunch','attributes.Alcohol','attributes.NoiseLevel','attributes.RestaurantsPriceRange2','stars'], axis=1)\n",
    "new_tst.to_csv(\"./anshul_business_test_PA.csv\", encoding='utf-8', index=False)\n",
    "\"\"\""
   ]
  },
  {
   "cell_type": "code",
   "execution_count": 7,
   "metadata": {
    "collapsed": false
   },
   "outputs": [
    {
     "name": "stdout",
     "output_type": "stream",
     "text": [
      "\n",
      "TRAIN DATA : \n",
      "[((95456344, 16468096), 4.0), ((15550168, 5713139), 4.0), ((51998740, 30916773), 3.0), ((10099958, 30916773), 4.0), ((87905139, 30916773), 4.0), ((31626270, 30916773), 4.0), ((39111954, 30916773), 4.0), ((314381, 30916773), 1.0), ((26797418, 30916773), 4.0), ((46147123, 30916773), 5.0)]\n",
      "\n",
      "VAL DATA : \n",
      "[((47719706, 16468096), 5.0), ((4084006, 16468096), 5.0), ((79786736, 30916773), 4.0), ((882477, 30916773), 5.0), ((11411919, 30916773), 3.0), ((59804841, 95762994), 5.0), ((65161490, 52554862), 1.0), ((9484790, 52554862), 5.0), ((31759712, 15591569), 5.0), ((13392708, 99671206), 4.0)]\n",
      "\n",
      "TEST DATA : \n",
      "[((56668287, 30916773), 4.0), ((91365596, 30916773), 2.0), ((44755039, 93819697), 5.0), ((24397155, 93819697), 3.0), ((77783735, 11191924), 2.0), ((31042311, 11191924), 4.0), ((95873029, 39020287), 4.0), ((52943122, 39020287), 4.0), ((84320461, 46234978), 4.0), ((86494668, 46234978), 4.0)]\n",
      "count test :  35611\n"
     ]
    }
   ],
   "source": [
    "ratings_train_data = sc.textFile(inputFile)\n",
    "ratings_train_data_header = ratings_train_data.first()\n",
    "ratings_train_data = ratings_train_data.filter(lambda line: line != ratings_train_data_header)\\\n",
    "                    .map(lambda line: line.split(','))\\\n",
    "                    .map(lambda line: ((_hash(line[3]), _hash(line[1])), float(line[4])))\n",
    "                    #.map(lambda line: ((line[3], line[1]), float(line[4])))\n",
    "print \"\\nTRAIN DATA : \\n\", ratings_train_data.take(10)\n",
    "\n",
    "ratings_val_data = sc.textFile(valFile)\n",
    "ratings_val_data_header = ratings_val_data.first()\n",
    "ratings_val_data = ratings_val_data.filter(lambda line: line != ratings_val_data_header)\\\n",
    "                    .map(lambda line: line.split(','))\\\n",
    "                    .map(lambda line: ((_hash(line[3]), _hash(line[1])), float(line[4])))\n",
    "                    #.map(lambda line: ((line[3], line[1]), float(line[4])))\n",
    "print \"\\nVAL DATA : \\n\", ratings_val_data.take(10)\n",
    "\n",
    "ratings_test_data = sc.textFile(testFile)\n",
    "ratings_test_data_header = ratings_test_data.first()\n",
    "ratings_test_data = ratings_test_data.filter(lambda line: line != ratings_test_data_header)\\\n",
    "                    .map(lambda line: line.split(','))\\\n",
    "                    .map(lambda line: ((_hash(line[3]), _hash(line[1])), float(line[4])))\n",
    "                    #.map(lambda line: ((line[3], line[1]), float(line[4])))\n",
    "print \"\\nTEST DATA : \\n\", ratings_test_data.take(10)\n",
    "print \"count test : \", ratings_test_data.count()"
   ]
  },
  {
   "cell_type": "code",
   "execution_count": 8,
   "metadata": {
    "collapsed": false
   },
   "outputs": [],
   "source": [
    "usrBizDict = ratings_train_data.map(lambda x: tuple((x[0][0], {x[0][1]: x[1]})))\\\n",
    "    .reduceByKey(lambda a, b: dict(a.items() + b.items()))\n",
    "#print usrBizDict.take(10)"
   ]
  },
  {
   "cell_type": "code",
   "execution_count": 9,
   "metadata": {
    "collapsed": false
   },
   "outputs": [],
   "source": [
    "#lines.saveAsTextFile()\n",
    "#np_train_data_one_hot = genfromtxt('train_ohv.csv', delimiter=',')\n",
    "#print np_train_data_one_hot\n",
    "import math\n",
    "\n",
    "def calculateSimilarityScore(a, b):\n",
    "    res = 0\n",
    "    n = len(a)\n",
    "    numerator, den_A, den_B = 0,0,0\n",
    "    for i in range(n):\n",
    "        numerator += (a[i]*b[i])\n",
    "        den_A += a[i]**2\n",
    "        den_B += b[i]**2\n",
    "    denominator = math.sqrt(den_A) * math.sqrt(den_B)\n",
    "    if denominator==0.0:\n",
    "        return 0.0\n",
    "    return numerator/denominator\n",
    "\n",
    "\n",
    "#union_of_two = train_data_one_hot.union(val_data_one_hot)\n",
    "#union_of_all = union_of_two.union(test_data_one_hot)\n",
    "train_data_simi_matrix_tmp = train_data_one_hot.cartesian(train_data_one_hot)#union_of_all.cartesian(union_of_all)#\n",
    "train_data_simi_matrix = train_data_simi_matrix_tmp.map(lambda line : ((line[0][0], line[1][0]), calculateSimilarityScore(line[0][1:], line[1][1:])))\n",
    "\n",
    "train_data_simi_matrix = train_data_simi_matrix.filter(lambda x : x[0][0]!=x[0][1])\\\n",
    "                        .map(lambda x: tuple((x[0][0], {x[0][1]: x[1]})))\\\n",
    "                        .reduceByKey(lambda a, b: dict(a.items() + b.items()))\n",
    "#print train_data_simi_matrix.take(10)\n",
    "#print train_data_simi_matrix.count()"
   ]
  },
  {
   "cell_type": "code",
   "execution_count": 10,
   "metadata": {
    "collapsed": false
   },
   "outputs": [],
   "source": [
    "#biz_to_biz_simi = train_data_simi_matrix.map(lambda x: tuple((x[0][0], {x[0][1]: x[1]})))\\\n",
    "#    .reduceByKey(lambda a, b: dict(a.items() + b.items()))\n",
    "utilityDict = sc.broadcast(usrBizDict.collectAsMap())\n",
    "similarityMatrix = sc.broadcast(train_data_simi_matrix.collectAsMap()) #-- IMPLMENT THE NUMPY SOLUTION\n",
    "#biz2BizSimiMatrix = sc.broadcast(biz_to_biz_simi.collectAsMap())"
   ]
  },
  {
   "cell_type": "code",
   "execution_count": 11,
   "metadata": {
    "collapsed": false
   },
   "outputs": [
    {
     "name": "stdout",
     "output_type": "stream",
     "text": [
      "[(45206826, (45206826, 0, 0, 1, 0, 0, 0, 0, 0, 0, 0, 0, 0, 0.0, 0.0, 1.0, 2.0)), (43466363, (43466363, 1, 1, 1, 1, 1, 1, 0, 0, 0, 1, 0, 0, 3.0, 2.0, 2.0, 3.0)), (2201188, (2201188, 0, 0, 1, 0, 0, 0, 0, 0, 0, 0, 0, 0, 0.0, 0.0, 2.0, 1.5)), (83227545, (83227545, 1, 1, 1, 0, 0, 0, 0, 0, 0, 1, 0, 1, 1.0, 2.0, 2.0, 4.5)), (74268317, (74268317, 0, 0, 1, 0, 0, 1, 0, 0, 0, 0, 0, 0, 1.0, 2.0, 1.0, 2.5))]\n",
      "[(45206826, (45206826, 0, 0, 1, 0, 0, 0, 0, 0, 0, 0, 0, 0, 0.0, 0.0, 1.0, 2.0)), (43466363, (43466363, 1, 1, 1, 1, 1, 1, 0, 0, 0, 1, 0, 0, 3.0, 2.0, 2.0, 3.0)), (2201188, (2201188, 0, 0, 1, 0, 0, 0, 0, 0, 0, 0, 0, 0, 0.0, 0.0, 2.0, 1.5)), (83227545, (83227545, 1, 1, 1, 0, 0, 0, 0, 0, 0, 1, 0, 1, 1.0, 2.0, 2.0, 4.5)), (74268317, (74268317, 0, 0, 1, 0, 0, 1, 0, 0, 0, 0, 0, 0, 1.0, 2.0, 1.0, 2.5))]\n",
      "[(45206826, (45206826, 0, 0, 1, 0, 0, 0, 0, 0, 0, 0, 0, 0, 0.0, 0.0, 1.0, 2.0)), (43466363, (43466363, 1, 1, 1, 1, 1, 1, 0, 0, 0, 1, 0, 0, 3.0, 2.0, 2.0, 3.0)), (2201188, (2201188, 0, 0, 1, 0, 0, 0, 0, 0, 0, 0, 0, 0, 0.0, 0.0, 2.0, 1.5)), (83227545, (83227545, 1, 1, 1, 0, 0, 0, 0, 0, 0, 1, 0, 1, 1.0, 2.0, 2.0, 4.5)), (97673544, (97673544, 0, 1, 1, 1, 0, 0, 0, 0, 0, 0, 0, 0, 0.0, 0.0, 0.0, 5.0))]\n"
     ]
    }
   ],
   "source": [
    "test_data_ohv = test_data_one_hot.map(lambda line: (line[0],(line)))\n",
    "print test_data_ohv.take(5)\n",
    "train_data_ohv = train_data_one_hot.map(lambda line: (line[0],(line)))\n",
    "print test_data_ohv.take(5)\n",
    "val_data_ohv = val_data_one_hot.map(lambda line: (line[0],(line)))\n",
    "print val_data_ohv.take(5)\n",
    "#union_tmp = train_data_ohv.union(test_data_ohv)\n",
    "#all_businesses = union_tmp.union(val_data_ohv)\n",
    "#biz_data_ohv = sc.broadcast(all_businesses.collectAsMap())"
   ]
  },
  {
   "cell_type": "code",
   "execution_count": 12,
   "metadata": {
    "collapsed": false,
    "scrolled": false
   },
   "outputs": [],
   "source": [
    "#now take the test data and for the test data, create predictions. test data is of the format ((business, user), rating).\n",
    "#ratings_test_data\n",
    "#import operator\n",
    "def predictedRating(record,utilityDictObj,similarityMatrixObj):\n",
    "    #record is a tuple of (business,user)\n",
    "    #user to Business Rating -> usrBizDict [FORMAT : (user1, {business1:rating1, business2:rating2,.....})]\n",
    "    #similarity matrix -> train_data_simi_matrix\n",
    "    business,user = record[0],record[1]\n",
    "    utilityDict, similarityMatrix= utilityDictObj.value, similarityMatrixObj.value\n",
    "    #find the similar businesses to our current business from the usrBizDict\n",
    "    similar_biz = utilityDict.get(user, None)#.filter(lambda line: line[0][1]==user)\n",
    "    if similar_biz==None:\n",
    "        print \"ERROR-- user doesn't exist\"\n",
    "        #then we need to find the average of the similarities of the business's similar businesses\n",
    "        if business not in similarityMatrix:\n",
    "            return 3.0\n",
    "        sim_biz = similarityMatrix[business]\n",
    "        count=0\n",
    "        simi_sum = 0\n",
    "        for i in sorted(sim_biz.items(), key=lambda x: x[1], reverse=True):\n",
    "            if i[0]!=business:\n",
    "                simi_sum += i[1]\n",
    "                count+=1\n",
    "                if count==10: #5->0.330467540921\n",
    "                    break\n",
    "        return (simi_sum*3.0)/10 #5->0.330467540921\n",
    "            \n",
    "        \"\"\"n = 0\n",
    "        simi_sum = 0\n",
    "        res = []\n",
    "        for i in similarityMatrix:\n",
    "            if i[0]==business or i[1]==business:\n",
    "                n+=1\n",
    "                if len(res)==0:\n",
    "                    res.append(similarityMatrix[i])\n",
    "                else:\n",
    "                    res.sort()\n",
    "                    if similarityMatrix[i]>res[0]:\n",
    "                        if len(res)==10:\n",
    "                            res.pop(0)\n",
    "                        res.append(similarityMatrix[i])\n",
    "                #simi_sum = similarityMatrix[i]\n",
    "        if n==0:\n",
    "            return 0.0\n",
    "        #ss = ','.join([str(i) for i in res])\n",
    "        return (sum(res)*3.5)/10#simi_sum/n\"\"\"\n",
    "    #similar_biz = similar_biz.take(1).collect()\n",
    "    #similar_biz = similar_biz[0][1]\n",
    "    else:\n",
    "        #user exists\n",
    "        if business not in similarityMatrix:\n",
    "            n = len(similar_biz)\n",
    "            return sum(similar_biz.values())/n\n",
    "        \n",
    "        sim_biz = similarityMatrix[business]\n",
    "        user_rated_businesses = set(similar_biz.keys())\n",
    "        all_similar_businesses = set(sim_biz.keys())\n",
    "        common_biz = user_rated_businesses.intersection(all_similar_businesses)\n",
    "        num, den = 0,0\n",
    "        count = 0\n",
    "        for i in common_biz:\n",
    "            den += sim_biz[i]\n",
    "            num += (sim_biz[i] * similar_biz[i])\n",
    "            count+=1\n",
    "            if count==10:\n",
    "                break\n",
    "        if den==0:\n",
    "            return sum(similar_biz.values())/len(similar_biz.keys())\n",
    "        return num/10"
   ]
  },
  {
   "cell_type": "code",
   "execution_count": 13,
   "metadata": {
    "collapsed": false
   },
   "outputs": [
    {
     "name": "stdout",
     "output_type": "stream",
     "text": [
      "[((56668287, 30916773), 0.8, 0.5873977232662447), ((91365596, 30916773), 0.4, 0.5966273941367516), ((44755039, 93819697), 1.0, 0.5901637111563038), ((24397155, 93819697), 0.6, 0.5977072490170497), ((77783735, 11191924), 0.4, 0.5962779761931708), ((31042311, 11191924), 0.8, 0.5956518001966173), ((95873029, 39020287), 0.8, 0.5879289668514917), ((52943122, 39020287), 0.8, 0.584570160695076), ((84320461, 46234978), 0.8, 0.5996775546466881), ((86494668, 46234978), 0.8, 0.5907631577050649)]\n"
     ]
    }
   ],
   "source": [
    "ratings_test_result = ratings_test_data.map(lambda line: ((line[0][0], line[0][1]), line[1]/5, predictedRating(line[0],utilityDict,similarityMatrix)/5))\n",
    "print ratings_test_result.take(10)"
   ]
  },
  {
   "cell_type": "code",
   "execution_count": 14,
   "metadata": {
    "collapsed": false
   },
   "outputs": [
    {
     "name": "stdout",
     "output_type": "stream",
     "text": [
      "RMSE: 0.322686760085\n"
     ]
    }
   ],
   "source": [
    "RMSE = (ratings_test_result.map(lambda x: (x[1] - x[2])**2).mean())**0.5\n",
    "print \"RMSE: \" + str(RMSE)"
   ]
  },
  {
   "cell_type": "code",
   "execution_count": 15,
   "metadata": {
    "collapsed": false
   },
   "outputs": [],
   "source": [
    "def findAttrSimilarity(business, curr_attr, similarityMatrixObj,AttrMatrixObj):\n",
    "    similarityMatrix, AttrMatrix = similarityMatrixObj.value, AttrMatrixObj.value\n",
    "    s = similarityMatrix[business]\n",
    "    f = AttrMatrix[business]\n",
    "    res = 0\n",
    "    for i in s:\n",
    "        if f[i][curr_attr]==0:\n",
    "            res-=s[i]\n",
    "        else:\n",
    "            res+=s[i]\n",
    "    if res<0:\n",
    "        return 0\n",
    "    return 1"
   ]
  },
  {
   "cell_type": "code",
   "execution_count": 16,
   "metadata": {
    "collapsed": false
   },
   "outputs": [],
   "source": [
    "train_first_attr_matrix = train_data_simi_matrix_tmp.map(lambda x : (x[0][0], x[1][0], -1 if x[1][1]==0 else x[1][1]))\\\n",
    "                                .map(lambda x : tuple((x[0], {x[1]:x[2]})))\\\n",
    "                                .reduceByKey(lambda a, b: dict(a.items() + b.items()))"
   ]
  },
  {
   "cell_type": "code",
   "execution_count": 17,
   "metadata": {
    "collapsed": false
   },
   "outputs": [],
   "source": [
    "#first_attr_matrix = sc.broadcast(train_first_attr_matrix.collectAsMap())"
   ]
  },
  {
   "cell_type": "code",
   "execution_count": 18,
   "metadata": {
    "collapsed": false
   },
   "outputs": [],
   "source": [
    "train_attr_matrix = train_data_simi_matrix_tmp.map(lambda x : (x[0][0], {x[1][0] : x[1][1:]}))\\\n",
    "                    .reduceByKey(lambda a, b: dict(a.items() + b.items()))\n",
    "attr_matrix = sc.broadcast(train_attr_matrix.collectAsMap())"
   ]
  },
  {
   "cell_type": "code",
   "execution_count": 20,
   "metadata": {
    "collapsed": false
   },
   "outputs": [
    {
     "data": {
      "text/plain": [
       "'train_data_one_hot_first = train_data_one_hot.map(lambda x : (x[0], x[1]))                            .map(lambda x: (x[0], x[1], findAttrSimilarity(x[0], 0, similarityMatrix, attr_matrix)))                            #.map(lambda x: (x[0], 0 if x[1]<0 else 1, 0 if x[2]<0 else 1))\\ntrain_pred_vectors = train_data_one_hot_first.map(lambda line: (line[0], line[2]))\\nRMSE_first = (train_data_one_hot_first.map(lambda x: (x[1] - x[2])**2).mean())**0.5\\nprint \"RMSE_first: \" + str(RMSE_first)'"
      ]
     },
     "execution_count": 20,
     "metadata": {},
     "output_type": "execute_result"
    }
   ],
   "source": [
    "\"\"\"train_data_one_hot_first = train_data_one_hot.map(lambda x : (x[0], x[1]))\\\n",
    "                            .map(lambda x: (x[0], x[1], findAttrSimilarity(x[0], 0, similarityMatrix, attr_matrix)))\\\n",
    "                            #.map(lambda x: (x[0], 0 if x[1]<0 else 1, 0 if x[2]<0 else 1))\n",
    "train_pred_vectors = train_data_one_hot_first.map(lambda line: (line[0], line[2]))\n",
    "RMSE_first = (train_data_one_hot_first.map(lambda x: (x[1] - x[2])**2).mean())**0.5\n",
    "print \"RMSE_first: \" + str(RMSE_first)\"\"\""
   ]
  },
  {
   "cell_type": "code",
   "execution_count": 21,
   "metadata": {
    "collapsed": false
   },
   "outputs": [
    {
     "data": {
      "text/plain": [
       "'res = []\\nres.append(RMSE_first)\\nfor i in range(1, 12):\\n    train_data_one_hot_curr = train_data_one_hot.map(lambda x : (x[0],x[i+1]))                            .map(lambda x: (x[0], x[1], findAttrSimilarity(x[0], i, similarityMatrix, attr_matrix)))\\n    #curr_pred = train_data_one_hot_curr.map(lambda line : (line[2]))\\n    #train_pred_vectors = train_pred_vectors.zip(curr_pred)\\n    RMSE_curr = (train_data_one_hot_curr.map(lambda x: (x[1] - x[2])**2).mean())**0.5\\n    print \"RMSE_curr : \" + str(RMSE_curr)\\n    res.append(RMSE_curr)'"
      ]
     },
     "execution_count": 21,
     "metadata": {},
     "output_type": "execute_result"
    }
   ],
   "source": [
    "\"\"\"res = []\n",
    "res.append(RMSE_first)\n",
    "for i in range(1, 12):\n",
    "    train_data_one_hot_curr = train_data_one_hot.map(lambda x : (x[0],x[i+1]))\\\n",
    "                            .map(lambda x: (x[0], x[1], findAttrSimilarity(x[0], i, similarityMatrix, attr_matrix)))\n",
    "    #curr_pred = train_data_one_hot_curr.map(lambda line : (line[2]))\n",
    "    #train_pred_vectors = train_pred_vectors.zip(curr_pred)\n",
    "    RMSE_curr = (train_data_one_hot_curr.map(lambda x: (x[1] - x[2])**2).mean())**0.5\n",
    "    print \"RMSE_curr : \" + str(RMSE_curr)\n",
    "    res.append(RMSE_curr)\"\"\""
   ]
  },
  {
   "cell_type": "code",
   "execution_count": 22,
   "metadata": {
    "collapsed": false
   },
   "outputs": [
    {
     "data": {
      "text/plain": [
       "'print res'"
      ]
     },
     "execution_count": 22,
     "metadata": {},
     "output_type": "execute_result"
    }
   ],
   "source": [
    "\"\"\"print res\"\"\""
   ]
  },
  {
   "cell_type": "code",
   "execution_count": 23,
   "metadata": {
    "collapsed": true
   },
   "outputs": [],
   "source": [
    "def findAttrSimilarityCat(business, curr_attr, similarityMatrixObj,AttrMatrixObj):\n",
    "    similarityMatrix, AttrMatrix = similarityMatrixObj.value, AttrMatrixObj.value\n",
    "    s = similarityMatrix[business]\n",
    "    f = AttrMatrix[business]\n",
    "    op_class = {}\n",
    "    for i in s:\n",
    "        currVal = f[i][curr_attr]\n",
    "        op_class[currVal] = op_class.get(currVal, 0)+s[i]    \n",
    "    return max(op_class, key=op_class.get)"
   ]
  },
  {
   "cell_type": "code",
   "execution_count": null,
   "metadata": {
    "collapsed": false,
    "scrolled": true
   },
   "outputs": [
    {
     "name": "stdout",
     "output_type": "stream",
     "text": [
      "RMSE_curr : 0.595215095473\n",
      "RMSE_curr : 0.488057148765\n",
      "RMSE_curr : 0.341511459308\n",
      "RMSE_curr : 0.551666470452\n",
      "RMSE_curr : 0.663250486215\n",
      "RMSE_curr : 0.493647905561"
     ]
    }
   ],
   "source": [
    "\"\"\"for i in range(12, 16):\n",
    "    train_data_one_hot_curr = train_data_one_hot.map(lambda x : (x[0],x[i+1], findAttrSimilarityCat(x[0], i, similarityMatrix, attr_matrix)))#\\\n",
    "                            #.map(lambda x: (x[0], x[1], findAttrSimilarityCat(x[0], i, similarityMatrix, attr_matrix)))\n",
    "    #curr_pred = train_data_one_hot_curr.map(lambda line : (line[2]))\n",
    "    #train_pred_vectors = train_pred_vectors.zip(curr_pred)\n",
    "    RMSE_curr = (train_data_one_hot_curr.map(lambda x: (x[1] - x[2])**2).mean())**0.5\n",
    "    print \"RMSE_curr : \" + str(RMSE_curr)\n",
    "    res.append(RMSE_curr)\n",
    "\"\"\"\n",
    "res = []\n",
    "for i in range(0, 16):\n",
    "    train_data_one_hot_curr = train_data_one_hot.map(lambda x : (x[0],x[i+1], findAttrSimilarityCat(x[0], i, similarityMatrix, attr_matrix)))#\\\n",
    "\n",
    "    RMSE_curr = (train_data_one_hot_curr.map(lambda x: (x[1] - x[2])**2).mean())**0.5\n",
    "    print \"RMSE_curr : \" + str(RMSE_curr)\n",
    "    res.append(RMSE_curr)"
   ]
  },
  {
   "cell_type": "code",
   "execution_count": null,
   "metadata": {
    "collapsed": false
   },
   "outputs": [],
   "source": [
    "print res"
   ]
  },
  {
   "cell_type": "code",
   "execution_count": null,
   "metadata": {
    "collapsed": true
   },
   "outputs": [],
   "source": [
    "#print train_pred_vectors.take(10)"
   ]
  },
  {
   "cell_type": "code",
   "execution_count": null,
   "metadata": {
    "collapsed": true
   },
   "outputs": [],
   "source": [
    "#predicting attributes for Validation dataset\n",
    "val_data_simi_matrix_tmp = val_data_one_hot.cartesian(val_data_one_hot)\n",
    "val_data_simi_matrix = val_data_simi_matrix_tmp.map(lambda line : ((line[0][0], line[1][0]), calculateSimilarityScore(line[0][1:], line[1][1:])))\n",
    "val_data_simi_matrix = val_data_simi_matrix.filter(lambda x : x[0][0]!=x[0][1])\\\n",
    "                        .map(lambda x: tuple((x[0][0], {x[0][1]: x[1]})))\\\n",
    "                        .reduceByKey(lambda a, b: dict(a.items() + b.items()))"
   ]
  },
  {
   "cell_type": "code",
   "execution_count": null,
   "metadata": {
    "collapsed": false
   },
   "outputs": [],
   "source": [
    "val_data_attr_matrix = val_data_simi_matrix_tmp.map(lambda x : (x[0][0], {x[1][0] : x[1][1:]}))\\\n",
    "                    .reduceByKey(lambda a, b: dict(a.items() + b.items()))"
   ]
  },
  {
   "cell_type": "code",
   "execution_count": null,
   "metadata": {
    "collapsed": false
   },
   "outputs": [],
   "source": [
    "val_simi_matrix = sc.broadcast(val_data_simi_matrix.collectAsMap())"
   ]
  },
  {
   "cell_type": "code",
   "execution_count": null,
   "metadata": {
    "collapsed": true
   },
   "outputs": [],
   "source": [
    "val_attr_matrix = sc.broadcast(val_data_attr_matrix.collectAsMap())"
   ]
  },
  {
   "cell_type": "code",
   "execution_count": null,
   "metadata": {
    "collapsed": false
   },
   "outputs": [],
   "source": [
    "val_res = []\n",
    "for i in range(0, 16):\n",
    "    val_data_one_hot_curr = val_data_one_hot.map(lambda x : (x[0],x[i+1], findAttrSimilarityCat(x[0], i, val_simi_matrix, val_attr_matrix)))#\\\n",
    "\n",
    "    RMSE_curr = (val_data_one_hot_curr.map(lambda x: (x[1] - x[2])**2).mean())**0.5\n",
    "    print \"RMSE_curr : \" + str(RMSE_curr)\n",
    "    val_res.append(RMSE_curr)"
   ]
  },
  {
   "cell_type": "code",
   "execution_count": null,
   "metadata": {
    "collapsed": false
   },
   "outputs": [],
   "source": [
    "print val_res\n",
    "\"\"\"val_data_one_hot_curr = val_data_one_hot.map(lambda x : (x[0],x[1]))\\\n",
    "                        .map(lambda x: (x[0], x[1], findAttrSimilarityCat(x[0], 0, val_simi_matrix, val_attr_matrix)))\n",
    "    \n",
    "RMSE_curr = (val_data_one_hot_curr.map(lambda x: (x[1] - x[2])**2).mean())**0.5\n",
    "print \"RMSE_curr : \" + str(RMSE_curr)\"\"\""
   ]
  },
  {
   "cell_type": "code",
   "execution_count": null,
   "metadata": {
    "collapsed": true
   },
   "outputs": [],
   "source": [
    "#predicting attributes for test dataset\n",
    "test_data_simi_matrix_tmp = test_data_one_hot.cartesian(test_data_one_hot)\n",
    "test_data_simi_matrix = test_data_simi_matrix_tmp.map(lambda line : ((line[0][0], line[1][0]), calculateSimilarityScore(line[0][1:], line[1][1:])))\n",
    "test_data_simi_matrix = test_data_simi_matrix.filter(lambda x : x[0][0]!=x[0][1])\\\n",
    "                        .map(lambda x: tuple((x[0][0], {x[0][1]: x[1]})))\\\n",
    "                        .reduceByKey(lambda a, b: dict(a.items() + b.items()))\n",
    "test_data_attr_matrix = test_data_simi_matrix_tmp.map(lambda x : (x[0][0], {x[1][0] : x[1][1:]}))\\\n",
    "                    .reduceByKey(lambda a, b: dict(a.items() + b.items()))"
   ]
  },
  {
   "cell_type": "code",
   "execution_count": null,
   "metadata": {
    "collapsed": true
   },
   "outputs": [],
   "source": [
    "test_simi_matrix = sc.broadcast(test_data_simi_matrix.collectAsMap())"
   ]
  },
  {
   "cell_type": "code",
   "execution_count": null,
   "metadata": {
    "collapsed": true
   },
   "outputs": [],
   "source": [
    "test_attr_matrix = sc.broadcast(test_data_attr_matrix.collectAsMap())"
   ]
  },
  {
   "cell_type": "code",
   "execution_count": null,
   "metadata": {
    "collapsed": false
   },
   "outputs": [],
   "source": [
    "test_res = []\n",
    "for i in range(0, 16):\n",
    "    test_data_one_hot_curr = test_data_one_hot.map(lambda x : (x[0],x[i+1],findAttrSimilarityCat(x[0], i, test_simi_matrix, test_attr_matrix)))#\\\n",
    "\n",
    "    RMSE_curr = (test_data_one_hot_curr.map(lambda x: (x[1] - x[2])**2).mean())**0.5\n",
    "    print \"RMSE_curr : \" + str(RMSE_curr)\n",
    "    test_res.append(RMSE_curr)"
   ]
  },
  {
   "cell_type": "code",
   "execution_count": null,
   "metadata": {
    "collapsed": false
   },
   "outputs": [],
   "source": [
    "print test_res"
   ]
  },
  {
   "cell_type": "code",
   "execution_count": null,
   "metadata": {
    "collapsed": false
   },
   "outputs": [],
   "source": [
    "print \"Train Results : \\n\",res\n",
    "print \"Val Results : \\n\",val_res\n",
    "print \"Test Results : \\n\",test_res"
   ]
  },
  {
   "cell_type": "code",
   "execution_count": null,
   "metadata": {
    "collapsed": true
   },
   "outputs": [],
   "source": [
    "for i in range(0, 16):\n",
    "    test_data_one_hot_curr = test_data_one_hot.map(lambda x : (x[0],x[i+1],findAttrSimilarityCat(x[0], i, test_simi_matrix, test_attr_matrix)))#\\\n",
    "                            #.map(lambda x: (x[0], x[1], findAttrSimilarityCat(x[0], i, test_simi_matrix, test_attr_matrix)))\n",
    "    if i==0:\n",
    "        test_pred_vectors = test_data_one_hot_curr.map(lambda line: (line[0], line[2]))\n",
    "    else:\n",
    "        curr_pred = test_data_one_hot_curr.map(lambda line: (line[2]))\n",
    "        test_pred_vectors = test_pred_vectors.zip(curr_pred)"
   ]
  },
  {
   "cell_type": "code",
   "execution_count": null,
   "metadata": {
    "collapsed": false
   },
   "outputs": [],
   "source": [
    "for i in range(0, 16):\n",
    "    val_data_one_hot_curr = val_data_one_hot.map(lambda x : (x[0],x[i+1],findAttrSimilarityCat(x[0], i, val_simi_matrix, val_attr_matrix)))#\\\n",
    "                            #.map(lambda x: (x[0], x[1], findAttrSimilarityCat(x[0], i, test_simi_matrix, test_attr_matrix)))\n",
    "    if i==0:\n",
    "        val_pred_vectors = val_data_one_hot_curr.map(lambda line: (line[0], line[2]))\n",
    "    else:\n",
    "        curr_pred = val_data_one_hot_curr.map(lambda line: (line[2]))\n",
    "        val_pred_vectors = val_pred_vectors.zip(curr_pred)"
   ]
  },
  {
   "cell_type": "code",
   "execution_count": null,
   "metadata": {
    "collapsed": true
   },
   "outputs": [],
   "source": [
    "for i in range(0, 16):\n",
    "    train_data_one_hot_curr = train_data_one_hot.map(lambda x : (x[0],x[i+1],findAttrSimilarityCat(x[0], i, similarityMatrix, attr_matrix)))#\\\n",
    "                            #.map(lambda x: (x[0], x[1], findAttrSimilarityCat(x[0], i, test_simi_matrix, test_attr_matrix)))\n",
    "    if i==0:\n",
    "        train_pred_vectors = train_data_one_hot_curr.map(lambda line: (line[0], line[2]))\n",
    "    else:\n",
    "        curr_pred = train_data_one_hot_curr.map(lambda line: (line[2]))\n",
    "        train_pred_vectors = train_pred_vectors.zip(curr_pred)"
   ]
  },
  {
   "cell_type": "code",
   "execution_count": null,
   "metadata": {
    "collapsed": true
   },
   "outputs": [],
   "source": [
    "print test_pred_vectors.count()\n",
    "print test_data_one_hot.count()"
   ]
  }
 ],
 "metadata": {
  "kernelspec": {
   "display_name": "Python 2",
   "language": "python",
   "name": "python2"
  },
  "language_info": {
   "codemirror_mode": {
    "name": "ipython",
    "version": 2
   },
   "file_extension": ".py",
   "mimetype": "text/x-python",
   "name": "python",
   "nbconvert_exporter": "python",
   "pygments_lexer": "ipython2",
   "version": "2.7.10"
  }
 },
 "nbformat": 4,
 "nbformat_minor": 0
}
