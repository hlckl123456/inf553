{
 "cells": [
  {
   "cell_type": "code",
   "execution_count": 1,
   "metadata": {},
   "outputs": [
    {
     "name": "stdout",
     "output_type": "stream",
     "text": [
      "[nltk_data] Downloading package stopwords to\n",
      "[nltk_data]     C:\\Users\\Ragini\\AppData\\Roaming\\nltk_data...\n",
      "[nltk_data]   Package stopwords is already up-to-date!\n"
     ]
    },
    {
     "name": "stderr",
     "output_type": "stream",
     "text": [
      "c:\\users\\ragini\\appdata\\local\\programs\\python\\python37\\lib\\site-packages\\gensim\\utils.py:1212: UserWarning: detected Windows; aliasing chunkize to chunkize_serial\n",
      "  warnings.warn(\"detected Windows; aliasing chunkize to chunkize_serial\")\n",
      "c:\\users\\ragini\\appdata\\local\\programs\\python\\python37\\lib\\site-packages\\thinc\\check.py:1: DeprecationWarning: Using or importing the ABCs from 'collections' instead of from 'collections.abc' is deprecated, and in 3.8 it will stop working\n",
      "  from collections import defaultdict, Sequence, Sized, Iterable, Callable\n",
      "c:\\users\\ragini\\appdata\\local\\programs\\python\\python37\\lib\\site-packages\\thinc\\check.py:1: DeprecationWarning: Using or importing the ABCs from 'collections' instead of from 'collections.abc' is deprecated, and in 3.8 it will stop working\n",
      "  from collections import defaultdict, Sequence, Sized, Iterable, Callable\n"
     ]
    }
   ],
   "source": [
    "import pandas as pd\n",
    "import nltk\n",
    "nltk.download('stopwords')\n",
    "\n",
    "import re\n",
    "import numpy\n",
    "import pandas as pd\n",
    "\n",
    "\n",
    "import gensim\n",
    "import gensim.corpora as corpora\n",
    "from gensim.utils import simple_preprocess\n",
    "from gensim.models import CoherenceModel\n",
    "\n",
    "import pyLDAvis\n",
    "import pyLDAvis.gensim  # don't skip this\n",
    "import matplotlib.pyplot as plt\n",
    "\n",
    "\n",
    "import spacy\n",
    "\n",
    "import matplotlib.pyplot as pt\n",
    "\n",
    "# NLTK Stop words\n",
    "from nltk.corpus import stopwords\n",
    "\n",
    "# Initialize spacy 'en' model, keeping only tagger component (for efficiency)\n",
    "nlp = spacy.load('en_core_web_sm', disable=['parser', 'ner'])\n",
    "\n",
    "\n",
    "\n",
    "def format_topics_sentences(ldamodel, corpus, texts):\n",
    "        # Init output\n",
    "        sent_topics_df = pd.DataFrame()\n",
    "\n",
    "        # Get main topic in each document\n",
    "        for i, row in enumerate(ldamodel[corpus]):\n",
    "            row = sorted(row, key=lambda x: (x[1]), reverse=True)\n",
    "            # Get the Dominant topic, Perc Contribution and Keywords for each document\n",
    "            for j, (topic_num, prop_topic) in enumerate(row):\n",
    "                if j == 0:  # => dominant topic\n",
    "                    wp = ldamodel.show_topic(topic_num)\n",
    "                    topic_keywords = \", \".join([word for word, prop in wp])\n",
    "                    sent_topics_df = sent_topics_df.append(pd.Series([int(topic_num), round(prop_topic,4), topic_keywords]), ignore_index=True)\n",
    "                else:\n",
    "                    break\n",
    "        sent_topics_df.columns = ['Dominant_Topic', 'Perc_Contribution', 'Topic_Keywords']\n",
    "\n",
    "        # Add original text to the end of the output\n",
    "        contents = pd.Series(texts)\n",
    "        sent_topics_df = pd.concat([sent_topics_df, contents], axis=1)\n",
    "        return(sent_topics_df)\n",
    "\n",
    "\n",
    "def sent_to_words(sentences):\n",
    "    for sentence in sentences:\n",
    "        yield(gensim.utils.simple_preprocess(str(sentence), deacc=True))  # deacc=True removes punctuations\n",
    "\n",
    "# Define functions for stopwords, bigrams, trigrams and lemmatization\n",
    "def remove_stopwords(texts,stop_words):\n",
    "    return [[word for word in simple_preprocess(str(doc)) if word not in stop_words] for doc in texts]\n",
    "\n",
    "def make_bigrams(texts,bigram_mod):\n",
    "    return [bigram_mod[doc] for doc in texts]\n",
    "\n",
    "def make_trigrams(texts):\n",
    "    return [trigram_mod[bigram_mod[doc]] for doc in texts]\n",
    "\n",
    "def lemmatization(texts, allowed_postags=['NOUN', 'ADJ', 'VERB', 'ADV']):\n",
    "    \"\"\"https://spacy.io/api/annotation\"\"\"\n",
    "    texts_out = []\n",
    "    for review in texts:\n",
    "        doc = nlp(\" \".join(review)) \n",
    "        texts_out.append([token.lemma_ for token in doc if token.pos_ in allowed_postags])\n",
    "    return texts_out"
   ]
  },
  {
   "cell_type": "code",
   "execution_count": 2,
   "metadata": {},
   "outputs": [],
   "source": [
    "def preprocess_text(data_text):\n",
    "\n",
    "    #data_text['index'] = data_text.index\n",
    "    stop_words = stopwords.words('english')\n",
    "    #stop_words.extend(['from', 'subject', 're', 'edu', 'use'])\n",
    "    data_words = list(sent_to_words(data_text))\n",
    "\n",
    "    # Build the bigram and trigram models\n",
    "    bigram = gensim.models.Phrases(data_words, min_count=5, threshold=100) # higher threshold fewer phrases.\n",
    "    #trigram = gensim.models.Phrases(bigram[data_words], threshold=100)  \n",
    "\n",
    "    # Faster way to get a sentence clubbed as a trigram/bigram\n",
    "    bigram_mod = gensim.models.phrases.Phraser(bigram)\n",
    "    #trigram_mod = gensim.models.phrases.Phraser(trigram)\n",
    "\n",
    "    # See trigram example\n",
    "    #print(bigram_mod[data_words[0]])\n",
    "\n",
    "    #Remove Stop Words\n",
    "    data_words_nostops = remove_stopwords(data_words,stop_words)\n",
    "\n",
    "    # Form Bigrams\n",
    "    data_words_bigrams = make_bigrams(data_words_nostops,bigram_mod)\n",
    "\n",
    "    # Do lemmatization keeping only noun, adj, vb, adv\n",
    "    data_lemmatized = lemmatization(data_words_bigrams, allowed_postags=['NOUN', 'ADJ', 'VERB', 'ADV'])\n",
    "\n",
    "    # Create Dictionary\n",
    "    id2word = corpora.Dictionary(data_lemmatized)\n",
    "    \n",
    "    # filter words occurring in more than 80% of reviews or below 20 reviews\n",
    "    id2word.filter_extremes(no_below=20, no_above=0.8)\n",
    "    \n",
    "    # Create Corpus\n",
    "    texts = data_lemmatized\n",
    "    # Term Document Frequency\n",
    "    return [id2word.doc2bow(text) for text in texts],id2word\n",
    "    "
   ]
  },
  {
   "cell_type": "code",
   "execution_count": 15,
   "metadata": {},
   "outputs": [
    {
     "name": "stdout",
     "output_type": "stream",
     "text": [
      "Wall time: 0 ns\n"
     ]
    }
   ],
   "source": [
    "%%time\n",
    "\n",
    "\n",
    "\n",
    "def getModel(corpus,id2word):\n",
    "\n",
    "    # View\n",
    "    #print(corpus[:10])\n",
    "\n",
    "    # Build LDA model\n",
    "    lda_model = gensim.models.ldamodel.LdaModel(corpus=corpus,\n",
    "                                           id2word=id2word,\n",
    "                                           num_topics=20, \n",
    "                                           random_state=100,\n",
    "                                           update_every=1,\n",
    "                                           chunksize=100,\n",
    "                                           passes=10,\n",
    "                                           alpha=0.1,\n",
    "                                           per_word_topics=True)\n",
    "    return lda_model\n",
    "\n",
    "\n",
    "    #print(lda_model.print_topics())\n",
    "\n",
    "    #df_topic_sents_keywords = format_topics_sentences(lda_model, corpus=corpus, texts=data_text)\n",
    "\n",
    "    # Format\n",
    "    #df_dominant_topic = df_topic_sents_keywords.reset_index()\n",
    "    #df_dominant_topic.columns = ['Document_No', 'Dominant_Topic', 'Topic_Perc_Contrib', 'Keywords', 'Text']\n",
    "\n",
    "    # Show\n",
    "    #df_dominant_topic.head(10)"
   ]
  },
  {
   "cell_type": "code",
   "execution_count": 4,
   "metadata": {},
   "outputs": [],
   "source": [
    "import pickle"
   ]
  },
  {
   "cell_type": "code",
   "execution_count": 15,
   "metadata": {},
   "outputs": [],
   "source": [
    "# with open('lda_model.pkl', 'wb') as fp:\n",
    "#     pickle.dump(lda_model, fp)"
   ]
  },
  {
   "cell_type": "code",
   "execution_count": 25,
   "metadata": {},
   "outputs": [],
   "source": [
    "with open('lda_model_10.pkl', 'rb') as fp:\n",
    "    lda_model_10 = pickle.load(fp)"
   ]
  },
  {
   "cell_type": "code",
   "execution_count": 19,
   "metadata": {},
   "outputs": [
    {
     "name": "stdout",
     "output_type": "stream",
     "text": [
      "[(0, '0.048*\"coffee\" + 0.024*\"home\" + 0.020*\"work\" + 0.020*\"business\" + 0.017*\"away\" + 0.017*\"lamb\" + 0.016*\"location\" + 0.016*\"shop\" + 0.015*\"move\" + 0.014*\"guess\"'), (1, '0.010*\"mushroom\" + 0.009*\"pack\" + 0.009*\"less\" + 0.009*\"space\" + 0.009*\"today\" + 0.008*\"garlic\" + 0.008*\"care\" + 0.008*\"weekend\" + 0.007*\"easy\" + 0.007*\"downtown\"'), (2, '0.103*\"cheese\" + 0.063*\"wing\" + 0.030*\"mac\" + 0.024*\"bread\" + 0.023*\"night\" + 0.023*\"butter\" + 0.022*\"sauce\" + 0.022*\"buffalo\" + 0.018*\"plan\" + 0.017*\"duck\"'), (3, '0.118*\"bar\" + 0.105*\"beer\" + 0.075*\"drink\" + 0.063*\"selection\" + 0.028*\"cocktail\" + 0.026*\"night\" + 0.023*\"happy_hour\" + 0.016*\"great\" + 0.015*\"music\" + 0.015*\"list\"'), (4, '0.157*\"sandwich\" + 0.055*\"bacon\" + 0.034*\"sunday\" + 0.030*\"cream\" + 0.027*\"game\" + 0.026*\"watch\" + 0.018*\"fairly\" + 0.017*\"half\" + 0.017*\"world\" + 0.011*\"french_toast\"'), (5, '0.138*\"burger\" + 0.091*\"fry\" + 0.039*\"chip\" + 0.029*\"mexican\" + 0.025*\"bland\" + 0.025*\"potato\" + 0.022*\"burrito\" + 0.021*\"salsa\" + 0.020*\"waffle\" + 0.016*\"medium\"'), (6, '0.169*\"pizza\" + 0.031*\"cheese\" + 0.031*\"good\" + 0.029*\"order\" + 0.022*\"crust\" + 0.019*\"delivery\" + 0.018*\"stay\" + 0.018*\"italian\" + 0.018*\"yet\" + 0.017*\"extra\"'), (7, '0.041*\"table\" + 0.037*\"room\" + 0.024*\"pm\" + 0.024*\"party\" + 0.023*\"dining\" + 0.022*\"do\" + 0.021*\"reservation\" + 0.020*\"seat\" + 0.018*\"manager\" + 0.013*\"cost\"'), (8, '0.090*\"breakfast\" + 0.070*\"brunch\" + 0.055*\"egg\" + 0.050*\"thai\" + 0.037*\"curry\" + 0.032*\"diner\" + 0.030*\"toast\" + 0.020*\"sausage\" + 0.018*\"omelet\" + 0.015*\"home\"'), (9, '0.041*\"sauce\" + 0.041*\"bread\" + 0.036*\"fresh\" + 0.032*\"meat\" + 0.026*\"tomato\" + 0.021*\"make\" + 0.020*\"veggie\" + 0.020*\"potato\" + 0.019*\"cheese\" + 0.017*\"ingredient\"'), (10, '0.060*\"dish\" + 0.042*\"restaurant\" + 0.038*\"entree\" + 0.034*\"menu\" + 0.022*\"meal\" + 0.019*\"waiter\" + 0.017*\"pasta\" + 0.017*\"vegetable\" + 0.015*\"plate\" + 0.015*\"appetizer\"'), (11, '0.072*\"cook\" + 0.064*\"sauce\" + 0.042*\"perfectly\" + 0.035*\"amount\" + 0.031*\"size\" + 0.030*\"shrimp\" + 0.028*\"flavor\" + 0.026*\"chocolate\" + 0.024*\"cake\" + 0.021*\"average\"'), (12, '0.016*\"good\" + 0.015*\"nice\" + 0.014*\"would\" + 0.013*\"restaurant\" + 0.012*\"small\" + 0.012*\"menu\" + 0.012*\"bit\" + 0.012*\"steak\" + 0.012*\"dinner\" + 0.011*\"wine\"'), (13, '0.037*\"good\" + 0.031*\"get\" + 0.027*\"try\" + 0.023*\"go\" + 0.020*\"place\" + 0.019*\"really\" + 0.018*\"also\" + 0.017*\"order\" + 0.016*\"love\" + 0.015*\"delicious\"'), (14, '0.048*\"fry\" + 0.036*\"topping\" + 0.030*\"hot\" + 0.028*\"french\" + 0.028*\"dog\" + 0.025*\"homemade\" + 0.021*\"bun\" + 0.017*\"turkey\" + 0.015*\"classic\" + 0.014*\"ice\"'), (15, '0.120*\"chicken\" + 0.042*\"fry\" + 0.039*\"food\" + 0.037*\"rice\" + 0.035*\"order\" + 0.034*\"soup\" + 0.025*\"spicy\" + 0.023*\"good\" + 0.021*\"chinese\" + 0.020*\"hot\"'), (16, '0.056*\"food\" + 0.052*\"good\" + 0.042*\"place\" + 0.037*\"great\" + 0.025*\"service\" + 0.023*\"always\" + 0.021*\"go\" + 0.017*\"friendly\" + 0.016*\"love\" + 0.014*\"price\"'), (17, '0.034*\"order\" + 0.028*\"get\" + 0.026*\"go\" + 0.026*\"food\" + 0.026*\"time\" + 0.020*\"take\" + 0.019*\"come\" + 0.019*\"wait\" + 0.018*\"say\" + 0.014*\"ask\"'), (18, '0.146*\"salad\" + 0.036*\"tea\" + 0.032*\"lunch\" + 0.031*\"wife\" + 0.031*\"chicken\" + 0.022*\"soup\" + 0.022*\"wrap\" + 0.019*\"ice_cream\" + 0.018*\"crepe\" + 0.015*\"dress\"'), (19, '0.085*\"fish\" + 0.059*\"sushi\" + 0.055*\"roll\" + 0.038*\"authentic\" + 0.030*\"crab\" + 0.026*\"together\" + 0.024*\"combination\" + 0.024*\"salmon\" + 0.021*\"fresh\" + 0.020*\"tuna\"')]\n"
     ]
    }
   ],
   "source": [
    "with open('lda_model_20_21.pkl', 'rb') as fp:\n",
    "    lda_model = pickle.load(fp)\n",
    "print(lda_model.print_topics())"
   ]
  },
  {
   "cell_type": "code",
   "execution_count": 17,
   "metadata": {},
   "outputs": [],
   "source": [
    "def getFeatureVector(review,lda_model):\n",
    "    topics = lda_model.get_document_topics(review)\n",
    "    values = map(lambda x:x[1],topics)\n",
    "    return values"
   ]
  },
  {
   "cell_type": "code",
   "execution_count": 56,
   "metadata": {},
   "outputs": [],
   "source": [
    "user_review_vector = list(map(lambda x:getFeatureVector(x,lda_model),corpus_user_reviews))"
   ]
  },
  {
   "cell_type": "code",
   "execution_count": 57,
   "metadata": {},
   "outputs": [],
   "source": [
    "user_review_vector_df = pd.DataFrame(user_review_vector,columns=[\"topic_\"+str(x) for x in range(20) ])"
   ]
  },
  {
   "cell_type": "code",
   "execution_count": 58,
   "metadata": {
    "scrolled": true
   },
   "outputs": [
    {
     "data": {
      "text/html": [
       "<div>\n",
       "<style scoped>\n",
       "    .dataframe tbody tr th:only-of-type {\n",
       "        vertical-align: middle;\n",
       "    }\n",
       "\n",
       "    .dataframe tbody tr th {\n",
       "        vertical-align: top;\n",
       "    }\n",
       "\n",
       "    .dataframe thead th {\n",
       "        text-align: right;\n",
       "    }\n",
       "</style>\n",
       "<table border=\"1\" class=\"dataframe\">\n",
       "  <thead>\n",
       "    <tr style=\"text-align: right;\">\n",
       "      <th></th>\n",
       "      <th>topic_0</th>\n",
       "      <th>topic_1</th>\n",
       "      <th>topic_2</th>\n",
       "      <th>topic_3</th>\n",
       "      <th>topic_4</th>\n",
       "      <th>topic_5</th>\n",
       "      <th>topic_6</th>\n",
       "      <th>topic_7</th>\n",
       "      <th>topic_8</th>\n",
       "      <th>topic_9</th>\n",
       "      <th>topic_10</th>\n",
       "      <th>topic_11</th>\n",
       "      <th>topic_12</th>\n",
       "      <th>topic_13</th>\n",
       "      <th>topic_14</th>\n",
       "      <th>topic_15</th>\n",
       "      <th>topic_16</th>\n",
       "      <th>topic_17</th>\n",
       "      <th>topic_18</th>\n",
       "      <th>topic_19</th>\n",
       "    </tr>\n",
       "  </thead>\n",
       "  <tbody>\n",
       "    <tr>\n",
       "      <th>0</th>\n",
       "      <td>0.503811</td>\n",
       "      <td>0.091667</td>\n",
       "      <td>0.165955</td>\n",
       "      <td>0.105207</td>\n",
       "      <td>NaN</td>\n",
       "      <td>NaN</td>\n",
       "      <td>NaN</td>\n",
       "      <td>NaN</td>\n",
       "      <td>NaN</td>\n",
       "      <td>NaN</td>\n",
       "      <td>NaN</td>\n",
       "      <td>NaN</td>\n",
       "      <td>NaN</td>\n",
       "      <td>NaN</td>\n",
       "      <td>NaN</td>\n",
       "      <td>NaN</td>\n",
       "      <td>NaN</td>\n",
       "      <td>NaN</td>\n",
       "      <td>NaN</td>\n",
       "      <td>NaN</td>\n",
       "    </tr>\n",
       "    <tr>\n",
       "      <th>1</th>\n",
       "      <td>0.116446</td>\n",
       "      <td>0.216631</td>\n",
       "      <td>0.333195</td>\n",
       "      <td>0.162287</td>\n",
       "      <td>0.099999</td>\n",
       "      <td>NaN</td>\n",
       "      <td>NaN</td>\n",
       "      <td>NaN</td>\n",
       "      <td>NaN</td>\n",
       "      <td>NaN</td>\n",
       "      <td>NaN</td>\n",
       "      <td>NaN</td>\n",
       "      <td>NaN</td>\n",
       "      <td>NaN</td>\n",
       "      <td>NaN</td>\n",
       "      <td>NaN</td>\n",
       "      <td>NaN</td>\n",
       "      <td>NaN</td>\n",
       "      <td>NaN</td>\n",
       "      <td>NaN</td>\n",
       "    </tr>\n",
       "    <tr>\n",
       "      <th>2</th>\n",
       "      <td>0.207667</td>\n",
       "      <td>0.148213</td>\n",
       "      <td>0.117325</td>\n",
       "      <td>0.069857</td>\n",
       "      <td>0.408544</td>\n",
       "      <td>NaN</td>\n",
       "      <td>NaN</td>\n",
       "      <td>NaN</td>\n",
       "      <td>NaN</td>\n",
       "      <td>NaN</td>\n",
       "      <td>NaN</td>\n",
       "      <td>NaN</td>\n",
       "      <td>NaN</td>\n",
       "      <td>NaN</td>\n",
       "      <td>NaN</td>\n",
       "      <td>NaN</td>\n",
       "      <td>NaN</td>\n",
       "      <td>NaN</td>\n",
       "      <td>NaN</td>\n",
       "      <td>NaN</td>\n",
       "    </tr>\n",
       "    <tr>\n",
       "      <th>3</th>\n",
       "      <td>0.023138</td>\n",
       "      <td>0.104023</td>\n",
       "      <td>0.050598</td>\n",
       "      <td>0.065595</td>\n",
       "      <td>0.053862</td>\n",
       "      <td>0.667778</td>\n",
       "      <td>NaN</td>\n",
       "      <td>NaN</td>\n",
       "      <td>NaN</td>\n",
       "      <td>NaN</td>\n",
       "      <td>NaN</td>\n",
       "      <td>NaN</td>\n",
       "      <td>NaN</td>\n",
       "      <td>NaN</td>\n",
       "      <td>NaN</td>\n",
       "      <td>NaN</td>\n",
       "      <td>NaN</td>\n",
       "      <td>NaN</td>\n",
       "      <td>NaN</td>\n",
       "      <td>NaN</td>\n",
       "    </tr>\n",
       "    <tr>\n",
       "      <th>4</th>\n",
       "      <td>0.160643</td>\n",
       "      <td>0.023968</td>\n",
       "      <td>0.038849</td>\n",
       "      <td>0.552838</td>\n",
       "      <td>0.064222</td>\n",
       "      <td>0.043658</td>\n",
       "      <td>0.094850</td>\n",
       "      <td>NaN</td>\n",
       "      <td>NaN</td>\n",
       "      <td>NaN</td>\n",
       "      <td>NaN</td>\n",
       "      <td>NaN</td>\n",
       "      <td>NaN</td>\n",
       "      <td>NaN</td>\n",
       "      <td>NaN</td>\n",
       "      <td>NaN</td>\n",
       "      <td>NaN</td>\n",
       "      <td>NaN</td>\n",
       "      <td>NaN</td>\n",
       "      <td>NaN</td>\n",
       "    </tr>\n",
       "    <tr>\n",
       "      <th>5</th>\n",
       "      <td>0.110115</td>\n",
       "      <td>0.118748</td>\n",
       "      <td>0.087446</td>\n",
       "      <td>0.081881</td>\n",
       "      <td>0.328401</td>\n",
       "      <td>0.062149</td>\n",
       "      <td>0.044124</td>\n",
       "      <td>0.137130</td>\n",
       "      <td>NaN</td>\n",
       "      <td>NaN</td>\n",
       "      <td>NaN</td>\n",
       "      <td>NaN</td>\n",
       "      <td>NaN</td>\n",
       "      <td>NaN</td>\n",
       "      <td>NaN</td>\n",
       "      <td>NaN</td>\n",
       "      <td>NaN</td>\n",
       "      <td>NaN</td>\n",
       "      <td>NaN</td>\n",
       "      <td>NaN</td>\n",
       "    </tr>\n",
       "    <tr>\n",
       "      <th>6</th>\n",
       "      <td>0.288536</td>\n",
       "      <td>0.113894</td>\n",
       "      <td>0.076791</td>\n",
       "      <td>0.077628</td>\n",
       "      <td>0.256606</td>\n",
       "      <td>0.039694</td>\n",
       "      <td>0.041202</td>\n",
       "      <td>0.071360</td>\n",
       "      <td>NaN</td>\n",
       "      <td>NaN</td>\n",
       "      <td>NaN</td>\n",
       "      <td>NaN</td>\n",
       "      <td>NaN</td>\n",
       "      <td>NaN</td>\n",
       "      <td>NaN</td>\n",
       "      <td>NaN</td>\n",
       "      <td>NaN</td>\n",
       "      <td>NaN</td>\n",
       "      <td>NaN</td>\n",
       "      <td>NaN</td>\n",
       "    </tr>\n",
       "    <tr>\n",
       "      <th>7</th>\n",
       "      <td>0.032577</td>\n",
       "      <td>0.058556</td>\n",
       "      <td>0.887343</td>\n",
       "      <td>NaN</td>\n",
       "      <td>NaN</td>\n",
       "      <td>NaN</td>\n",
       "      <td>NaN</td>\n",
       "      <td>NaN</td>\n",
       "      <td>NaN</td>\n",
       "      <td>NaN</td>\n",
       "      <td>NaN</td>\n",
       "      <td>NaN</td>\n",
       "      <td>NaN</td>\n",
       "      <td>NaN</td>\n",
       "      <td>NaN</td>\n",
       "      <td>NaN</td>\n",
       "      <td>NaN</td>\n",
       "      <td>NaN</td>\n",
       "      <td>NaN</td>\n",
       "      <td>NaN</td>\n",
       "    </tr>\n",
       "    <tr>\n",
       "      <th>8</th>\n",
       "      <td>0.037225</td>\n",
       "      <td>0.030321</td>\n",
       "      <td>0.053044</td>\n",
       "      <td>0.039477</td>\n",
       "      <td>0.084128</td>\n",
       "      <td>0.375705</td>\n",
       "      <td>0.033422</td>\n",
       "      <td>0.047848</td>\n",
       "      <td>0.022045</td>\n",
       "      <td>0.014038</td>\n",
       "      <td>0.210698</td>\n",
       "      <td>0.044776</td>\n",
       "      <td>NaN</td>\n",
       "      <td>NaN</td>\n",
       "      <td>NaN</td>\n",
       "      <td>NaN</td>\n",
       "      <td>NaN</td>\n",
       "      <td>NaN</td>\n",
       "      <td>NaN</td>\n",
       "      <td>NaN</td>\n",
       "    </tr>\n",
       "    <tr>\n",
       "      <th>9</th>\n",
       "      <td>0.047109</td>\n",
       "      <td>0.031893</td>\n",
       "      <td>0.035458</td>\n",
       "      <td>0.041712</td>\n",
       "      <td>0.099720</td>\n",
       "      <td>0.030184</td>\n",
       "      <td>0.275677</td>\n",
       "      <td>0.077027</td>\n",
       "      <td>0.079376</td>\n",
       "      <td>0.158896</td>\n",
       "      <td>0.106581</td>\n",
       "      <td>NaN</td>\n",
       "      <td>NaN</td>\n",
       "      <td>NaN</td>\n",
       "      <td>NaN</td>\n",
       "      <td>NaN</td>\n",
       "      <td>NaN</td>\n",
       "      <td>NaN</td>\n",
       "      <td>NaN</td>\n",
       "      <td>NaN</td>\n",
       "    </tr>\n",
       "  </tbody>\n",
       "</table>\n",
       "</div>"
      ],
      "text/plain": [
       "    topic_0   topic_1   topic_2   topic_3   topic_4   topic_5   topic_6  \\\n",
       "0  0.503811  0.091667  0.165955  0.105207       NaN       NaN       NaN   \n",
       "1  0.116446  0.216631  0.333195  0.162287  0.099999       NaN       NaN   \n",
       "2  0.207667  0.148213  0.117325  0.069857  0.408544       NaN       NaN   \n",
       "3  0.023138  0.104023  0.050598  0.065595  0.053862  0.667778       NaN   \n",
       "4  0.160643  0.023968  0.038849  0.552838  0.064222  0.043658  0.094850   \n",
       "5  0.110115  0.118748  0.087446  0.081881  0.328401  0.062149  0.044124   \n",
       "6  0.288536  0.113894  0.076791  0.077628  0.256606  0.039694  0.041202   \n",
       "7  0.032577  0.058556  0.887343       NaN       NaN       NaN       NaN   \n",
       "8  0.037225  0.030321  0.053044  0.039477  0.084128  0.375705  0.033422   \n",
       "9  0.047109  0.031893  0.035458  0.041712  0.099720  0.030184  0.275677   \n",
       "\n",
       "    topic_7   topic_8   topic_9  topic_10  topic_11  topic_12  topic_13  \\\n",
       "0       NaN       NaN       NaN       NaN       NaN       NaN       NaN   \n",
       "1       NaN       NaN       NaN       NaN       NaN       NaN       NaN   \n",
       "2       NaN       NaN       NaN       NaN       NaN       NaN       NaN   \n",
       "3       NaN       NaN       NaN       NaN       NaN       NaN       NaN   \n",
       "4       NaN       NaN       NaN       NaN       NaN       NaN       NaN   \n",
       "5  0.137130       NaN       NaN       NaN       NaN       NaN       NaN   \n",
       "6  0.071360       NaN       NaN       NaN       NaN       NaN       NaN   \n",
       "7       NaN       NaN       NaN       NaN       NaN       NaN       NaN   \n",
       "8  0.047848  0.022045  0.014038  0.210698  0.044776       NaN       NaN   \n",
       "9  0.077027  0.079376  0.158896  0.106581       NaN       NaN       NaN   \n",
       "\n",
       "   topic_14  topic_15  topic_16  topic_17  topic_18  topic_19  \n",
       "0       NaN       NaN       NaN       NaN       NaN       NaN  \n",
       "1       NaN       NaN       NaN       NaN       NaN       NaN  \n",
       "2       NaN       NaN       NaN       NaN       NaN       NaN  \n",
       "3       NaN       NaN       NaN       NaN       NaN       NaN  \n",
       "4       NaN       NaN       NaN       NaN       NaN       NaN  \n",
       "5       NaN       NaN       NaN       NaN       NaN       NaN  \n",
       "6       NaN       NaN       NaN       NaN       NaN       NaN  \n",
       "7       NaN       NaN       NaN       NaN       NaN       NaN  \n",
       "8       NaN       NaN       NaN       NaN       NaN       NaN  \n",
       "9       NaN       NaN       NaN       NaN       NaN       NaN  "
      ]
     },
     "execution_count": 58,
     "metadata": {},
     "output_type": "execute_result"
    }
   ],
   "source": [
    "user_review_vector_df.head(10)"
   ]
  },
  {
   "cell_type": "code",
   "execution_count": 6,
   "metadata": {},
   "outputs": [],
   "source": [
    "import pandas as pd\n",
    "data = pd.read_csv('D:\\\\Data Mining\\\\yelp_dataset\\\\PA\\\\Restaurants-new\\\\Restaurants\\\\train\\\\PA_train_yelp_academic_dataset_review.csv', error_bad_lines=False);\n",
    "pd.set_option('display.max_colwidth', -1)\n",
    "data['new_text']=data['text']+\" \"+(data['stars']).astype(str)+\"stars\"\n",
    "data = data.drop(['funny','stars','date','useful','cool','text'],axis=1)\n",
    "user_reviews = data.groupby([\"user_id\"])[\"new_text\"].apply(lambda x:' '.join(x)).reset_index()\n",
    "business_reviews = data.groupby([\"business_id\"])[\"new_text\"].apply(lambda x:' '.join(x)).reset_index()"
   ]
  },
  {
   "cell_type": "code",
   "execution_count": null,
   "metadata": {},
   "outputs": [],
   "source": [
    "corpus_user_reviews_new,id2word_user = preprocess_text(user_reviews[[\"new_text\"]].values.tolist())"
   ]
  },
  {
   "cell_type": "code",
   "execution_count": 21,
   "metadata": {},
   "outputs": [],
   "source": [
    "corpus_business_reviews_new,id2word_business = preprocess_text(business_reviews[[\"new_text\"]].values.tolist())"
   ]
  },
  {
   "cell_type": "code",
   "execution_count": null,
   "metadata": {},
   "outputs": [],
   "source": []
  },
  {
   "cell_type": "code",
   "execution_count": 7,
   "metadata": {},
   "outputs": [],
   "source": [
    "corpus_new,id2word_new = preprocess_text(data[[\"new_text\"]].values.tolist())"
   ]
  },
  {
   "cell_type": "code",
   "execution_count": 21,
   "metadata": {},
   "outputs": [
    {
     "name": "stdout",
     "output_type": "stream",
     "text": [
      "Stored 'corpus_new' (list)\n",
      "Stored 'id2word_new' (Dictionary)\n"
     ]
    }
   ],
   "source": [
    "%store corpus_new\n",
    "%store id2word_new"
   ]
  },
  {
   "cell_type": "code",
   "execution_count": null,
   "metadata": {},
   "outputs": [],
   "source": []
  },
  {
   "cell_type": "code",
   "execution_count": 41,
   "metadata": {},
   "outputs": [],
   "source": [
    "lda_model_20_user = getModel(corpus_user_reviews_new,id2word_user)\n"
   ]
  },
  {
   "cell_type": "code",
   "execution_count": 42,
   "metadata": {},
   "outputs": [],
   "source": [
    "lda_model_20_business = getModel(corpus_business_reviews_new,id2word_business)"
   ]
  },
  {
   "cell_type": "code",
   "execution_count": 44,
   "metadata": {},
   "outputs": [
    {
     "data": {
      "text/plain": [
       "<gensim.models.ldamodel.LdaModel at 0x267c2adab00>"
      ]
     },
     "execution_count": 44,
     "metadata": {},
     "output_type": "execute_result"
    }
   ],
   "source": [
    "lda_model_20_business"
   ]
  },
  {
   "cell_type": "code",
   "execution_count": 18,
   "metadata": {},
   "outputs": [],
   "source": [
    "import pickle"
   ]
  },
  {
   "cell_type": "code",
   "execution_count": 45,
   "metadata": {},
   "outputs": [],
   "source": [
    "pickle.dump(lda_model_20_user, open('lda_model_20_user.pkl', 'wb'))"
   ]
  },
  {
   "cell_type": "code",
   "execution_count": 46,
   "metadata": {},
   "outputs": [],
   "source": [
    "pickle.dump(lda_model_20_business, open('lda_model_20_business.pkl', 'wb'))"
   ]
  },
  {
   "cell_type": "code",
   "execution_count": 36,
   "metadata": {},
   "outputs": [],
   "source": [
    "def get_topics_weight(data,lda_model,corpus):\n",
    "    review_vector = list(map(lambda x:getFeatureVector(x,lda_model),corpus))\n",
    "    review_vector_df = pd.DataFrame(review_vector,columns=[\"topic_\"+str(x) for x in range(20) ])\n",
    "    reviews_topic= pd.concat([data,review_vector_df],axis=1).drop(['new_text'],axis=1)\n",
    "    return reviews_topic"
   ]
  },
  {
   "cell_type": "code",
   "execution_count": 50,
   "metadata": {},
   "outputs": [],
   "source": [
    "user_reviews_topic= get_topics_weight(user_reviews,lda_model_20_user,corpus_user_reviews_new)"
   ]
  },
  {
   "cell_type": "code",
   "execution_count": 51,
   "metadata": {},
   "outputs": [],
   "source": [
    "user_reviews_topic.to_csv('user_reviews_topic.csv',index=False)"
   ]
  },
  {
   "cell_type": "code",
   "execution_count": 52,
   "metadata": {},
   "outputs": [],
   "source": [
    "business_reviews_topic = get_topics_weight(business_reviews,lda_model_20_business,corpus_business_reviews_new)"
   ]
  },
  {
   "cell_type": "code",
   "execution_count": 53,
   "metadata": {},
   "outputs": [],
   "source": [
    "business_reviews_topic.to_csv('business_reviews_topic.csv',index=False)"
   ]
  },
  {
   "cell_type": "code",
   "execution_count": 54,
   "metadata": {},
   "outputs": [],
   "source": [
    "lda_model_20_21 = getModel(corpus_new,id2word_new)"
   ]
  },
  {
   "cell_type": "code",
   "execution_count": 58,
   "metadata": {},
   "outputs": [],
   "source": [
    "pickle.dump(lda_model_20_21, open('lda_model_20_21.pkl', 'wb'))"
   ]
  },
  {
   "cell_type": "code",
   "execution_count": 59,
   "metadata": {},
   "outputs": [],
   "source": [
    "reviews_topic = get_topics_weight(data,lda_model_20_21,corpus_new)"
   ]
  },
  {
   "cell_type": "code",
   "execution_count": 60,
   "metadata": {},
   "outputs": [],
   "source": [
    "reviews_topic.to_csv('reviews_topic_new.csv',index=False)"
   ]
  },
  {
   "cell_type": "code",
   "execution_count": 14,
   "metadata": {},
   "outputs": [],
   "source": [
    "corpus_new,id2word_new = preprocess_text(data[[\"new_text\"]].values.tolist())\n",
    "with open('lda_model_20_21.pkl', 'rb') as fp:\n",
    "    lda_model_20_21 = pickle.load(fp)\n",
    "\n",
    "data_vis = pyLDAvis.gensim.prepare(lda_model_20_21, corpus_new, id2word_new)"
   ]
  },
  {
   "cell_type": "code",
   "execution_count": 17,
   "metadata": {},
   "outputs": [],
   "source": [
    "pyLDAvis.enable_notebook()"
   ]
  },
  {
   "cell_type": "code",
   "execution_count": 18,
   "metadata": {},
   "outputs": [
    {
     "data": {
      "text/html": [
       "\n",
       "<link rel=\"stylesheet\" type=\"text/css\" href=\"https://cdn.rawgit.com/bmabey/pyLDAvis/files/ldavis.v1.0.0.css\">\n",
       "\n",
       "\n",
       "<div id=\"ldavis_el4612021346809431368588031118\"></div>\n",
       "<script type=\"text/javascript\">\n",
       "\n",
       "var ldavis_el4612021346809431368588031118_data = {\"mdsDat\": {\"x\": [0.30039058835416443, 0.3137331372916374, 0.32661526838017285, 0.24324509140527767, -0.1300359321465957, -0.042337501400639896, 0.03408262300983835, 0.040121923346603784, 0.0036794420211626114, -0.03309270915010798, -0.05194698912846779, 0.06197492761414806, -0.11582885930377644, -0.10958650590372138, -0.10758297678059905, -0.1632788409366358, -0.15046442629239223, -0.1263142168293568, -0.13506765751596736, -0.15830638603474562], \"y\": [0.02374816674301876, -0.010681422385264698, -0.020785771900944664, 0.05382341876669465, 0.10991801714229708, -0.148467062100757, 0.019104866697217827, -0.22424670503066377, 0.17334567981970683, 0.18022312515103828, 0.23484828143559103, -0.1252651713000217, -0.08572651513728952, -0.0991636492878207, -0.14688297052532456, -0.09970780987092863, -0.054559699043848046, 0.15119571697478007, 0.022991170758104355, 0.04628833309441362], \"topics\": [1, 2, 3, 4, 5, 6, 7, 8, 9, 10, 11, 12, 13, 14, 15, 16, 17, 18, 19, 20], \"cluster\": [1, 1, 1, 1, 1, 1, 1, 1, 1, 1, 1, 1, 1, 1, 1, 1, 1, 1, 1, 1], \"Freq\": [15.576319694519043, 14.9081449508667, 14.422887802124023, 10.147037506103516, 6.639474868774414, 3.83402156829834, 3.581024646759033, 3.2303922176361084, 3.086932897567749, 2.9036660194396973, 2.874458074569702, 2.6003544330596924, 2.46889591217041, 2.2451171875, 2.235567092895508, 2.025822639465332, 1.9970295429229736, 1.8716309070587158, 1.717094898223877, 1.6341326236724854]}, \"tinfo\": {\"Category\": [\"Default\", \"Default\", \"Default\", \"Default\", \"Default\", \"Default\", \"Default\", \"Default\", \"Default\", \"Default\", \"Default\", \"Default\", \"Default\", \"Default\", \"Default\", \"Default\", \"Default\", \"Default\", \"Default\", \"Default\", \"Default\", \"Default\", \"Default\", \"Default\", \"Default\", \"Default\", \"Default\", \"Default\", \"Default\", \"Default\", \"Topic1\", \"Topic1\", \"Topic1\", \"Topic1\", \"Topic1\", \"Topic1\", \"Topic1\", \"Topic1\", \"Topic1\", \"Topic1\", \"Topic1\", \"Topic1\", \"Topic1\", \"Topic1\", \"Topic1\", \"Topic1\", \"Topic1\", \"Topic1\", \"Topic1\", \"Topic1\", \"Topic1\", \"Topic1\", \"Topic1\", \"Topic1\", \"Topic1\", \"Topic1\", \"Topic1\", \"Topic1\", \"Topic1\", \"Topic1\", \"Topic1\", \"Topic1\", \"Topic1\", \"Topic1\", \"Topic1\", \"Topic1\", \"Topic1\", \"Topic1\", \"Topic1\", \"Topic1\", \"Topic1\", \"Topic1\", \"Topic1\", \"Topic1\", \"Topic1\", \"Topic1\", \"Topic1\", \"Topic1\", \"Topic1\", \"Topic1\", \"Topic1\", \"Topic1\", \"Topic1\", \"Topic1\", \"Topic1\", \"Topic1\", \"Topic1\", \"Topic1\", \"Topic1\", \"Topic1\", \"Topic1\", \"Topic1\", \"Topic1\", \"Topic1\", \"Topic1\", \"Topic2\", \"Topic2\", \"Topic2\", \"Topic2\", \"Topic2\", \"Topic2\", \"Topic2\", \"Topic2\", \"Topic2\", \"Topic2\", \"Topic2\", \"Topic2\", \"Topic2\", \"Topic2\", \"Topic2\", \"Topic2\", \"Topic2\", \"Topic2\", \"Topic2\", \"Topic2\", \"Topic2\", \"Topic2\", \"Topic2\", \"Topic2\", \"Topic2\", \"Topic2\", \"Topic2\", \"Topic2\", \"Topic2\", \"Topic2\", \"Topic2\", \"Topic2\", \"Topic2\", \"Topic2\", \"Topic2\", \"Topic2\", \"Topic2\", \"Topic2\", \"Topic2\", \"Topic2\", \"Topic2\", \"Topic2\", \"Topic2\", \"Topic2\", \"Topic2\", \"Topic2\", \"Topic2\", \"Topic2\", \"Topic2\", \"Topic2\", \"Topic2\", \"Topic2\", \"Topic2\", \"Topic2\", \"Topic2\", \"Topic2\", \"Topic2\", \"Topic2\", \"Topic2\", \"Topic2\", \"Topic2\", \"Topic2\", \"Topic2\", \"Topic2\", \"Topic2\", \"Topic2\", \"Topic2\", \"Topic2\", \"Topic2\", \"Topic2\", \"Topic2\", \"Topic3\", \"Topic3\", \"Topic3\", \"Topic3\", \"Topic3\", \"Topic3\", \"Topic3\", \"Topic3\", \"Topic3\", \"Topic3\", \"Topic3\", \"Topic3\", \"Topic3\", \"Topic3\", \"Topic3\", \"Topic3\", \"Topic3\", \"Topic3\", \"Topic3\", \"Topic3\", \"Topic3\", \"Topic3\", \"Topic3\", \"Topic3\", \"Topic3\", \"Topic3\", \"Topic3\", \"Topic3\", \"Topic3\", \"Topic3\", \"Topic3\", \"Topic3\", \"Topic3\", \"Topic3\", \"Topic3\", \"Topic3\", \"Topic3\", \"Topic3\", \"Topic3\", \"Topic3\", \"Topic3\", \"Topic3\", \"Topic3\", \"Topic3\", \"Topic3\", \"Topic3\", \"Topic3\", \"Topic3\", \"Topic3\", \"Topic3\", \"Topic3\", \"Topic3\", \"Topic3\", \"Topic3\", \"Topic3\", \"Topic3\", \"Topic3\", \"Topic3\", \"Topic3\", \"Topic3\", \"Topic3\", \"Topic3\", \"Topic3\", \"Topic3\", \"Topic3\", \"Topic3\", \"Topic4\", \"Topic4\", \"Topic4\", \"Topic4\", \"Topic4\", \"Topic4\", \"Topic4\", \"Topic4\", \"Topic4\", \"Topic4\", \"Topic4\", \"Topic4\", \"Topic4\", \"Topic4\", \"Topic4\", \"Topic4\", \"Topic4\", \"Topic4\", \"Topic4\", \"Topic4\", \"Topic4\", \"Topic4\", \"Topic4\", \"Topic4\", \"Topic4\", \"Topic4\", \"Topic4\", \"Topic4\", \"Topic4\", \"Topic4\", \"Topic4\", \"Topic4\", \"Topic4\", \"Topic4\", \"Topic4\", \"Topic4\", \"Topic4\", \"Topic4\", \"Topic4\", \"Topic4\", \"Topic4\", \"Topic4\", \"Topic4\", \"Topic4\", \"Topic4\", \"Topic4\", \"Topic4\", \"Topic4\", \"Topic4\", \"Topic4\", \"Topic4\", \"Topic4\", \"Topic4\", \"Topic4\", \"Topic4\", \"Topic4\", \"Topic4\", \"Topic4\", \"Topic4\", \"Topic4\", \"Topic4\", \"Topic4\", \"Topic4\", \"Topic4\", \"Topic4\", \"Topic5\", \"Topic5\", \"Topic5\", \"Topic5\", \"Topic5\", \"Topic5\", \"Topic5\", \"Topic5\", \"Topic5\", \"Topic5\", \"Topic5\", \"Topic5\", \"Topic5\", \"Topic5\", \"Topic5\", \"Topic5\", \"Topic5\", \"Topic5\", \"Topic5\", \"Topic5\", \"Topic5\", \"Topic5\", \"Topic5\", \"Topic5\", \"Topic5\", \"Topic5\", \"Topic5\", \"Topic5\", \"Topic5\", \"Topic5\", \"Topic5\", \"Topic5\", \"Topic5\", \"Topic5\", \"Topic5\", \"Topic6\", \"Topic6\", \"Topic6\", \"Topic6\", \"Topic6\", \"Topic6\", \"Topic6\", \"Topic6\", \"Topic6\", \"Topic6\", \"Topic6\", \"Topic6\", \"Topic6\", \"Topic6\", \"Topic6\", \"Topic6\", \"Topic6\", \"Topic6\", \"Topic6\", \"Topic6\", \"Topic6\", \"Topic6\", \"Topic6\", \"Topic6\", \"Topic6\", \"Topic6\", \"Topic6\", \"Topic6\", \"Topic6\", \"Topic6\", \"Topic6\", \"Topic6\", \"Topic6\", \"Topic6\", \"Topic6\", \"Topic6\", \"Topic6\", \"Topic6\", \"Topic6\", \"Topic6\", \"Topic6\", \"Topic6\", \"Topic6\", \"Topic6\", \"Topic6\", \"Topic6\", \"Topic6\", \"Topic6\", \"Topic6\", \"Topic6\", \"Topic6\", \"Topic7\", \"Topic7\", \"Topic7\", \"Topic7\", \"Topic7\", \"Topic7\", \"Topic7\", \"Topic7\", \"Topic7\", \"Topic7\", \"Topic7\", \"Topic7\", \"Topic7\", \"Topic7\", \"Topic7\", \"Topic7\", \"Topic7\", \"Topic7\", \"Topic7\", \"Topic7\", \"Topic7\", \"Topic7\", \"Topic7\", \"Topic7\", \"Topic7\", \"Topic7\", \"Topic7\", \"Topic7\", \"Topic7\", \"Topic7\", \"Topic7\", \"Topic7\", \"Topic7\", \"Topic7\", \"Topic7\", \"Topic7\", \"Topic7\", \"Topic7\", \"Topic7\", \"Topic7\", \"Topic7\", \"Topic7\", \"Topic7\", \"Topic7\", \"Topic7\", \"Topic7\", \"Topic7\", \"Topic7\", \"Topic7\", \"Topic7\", \"Topic7\", \"Topic7\", \"Topic7\", \"Topic7\", \"Topic8\", \"Topic8\", \"Topic8\", \"Topic8\", \"Topic8\", \"Topic8\", \"Topic8\", \"Topic8\", \"Topic8\", \"Topic8\", \"Topic8\", \"Topic8\", \"Topic8\", \"Topic8\", \"Topic8\", \"Topic8\", \"Topic8\", \"Topic8\", \"Topic8\", \"Topic8\", \"Topic8\", \"Topic8\", \"Topic8\", \"Topic8\", \"Topic8\", \"Topic8\", \"Topic8\", \"Topic8\", \"Topic8\", \"Topic8\", \"Topic8\", \"Topic8\", \"Topic8\", \"Topic8\", \"Topic8\", \"Topic8\", \"Topic8\", \"Topic8\", \"Topic8\", \"Topic8\", \"Topic8\", \"Topic8\", \"Topic8\", \"Topic8\", \"Topic8\", \"Topic8\", \"Topic8\", \"Topic8\", \"Topic8\", \"Topic8\", \"Topic9\", \"Topic9\", \"Topic9\", \"Topic9\", \"Topic9\", \"Topic9\", \"Topic9\", \"Topic9\", \"Topic9\", \"Topic9\", \"Topic9\", \"Topic9\", \"Topic9\", \"Topic9\", \"Topic9\", \"Topic9\", \"Topic9\", \"Topic9\", \"Topic9\", \"Topic9\", \"Topic9\", \"Topic9\", \"Topic9\", \"Topic9\", \"Topic9\", \"Topic9\", \"Topic9\", \"Topic9\", \"Topic9\", \"Topic9\", \"Topic9\", \"Topic9\", \"Topic9\", \"Topic9\", \"Topic9\", \"Topic9\", \"Topic9\", \"Topic9\", \"Topic9\", \"Topic9\", \"Topic9\", \"Topic9\", \"Topic9\", \"Topic9\", \"Topic9\", \"Topic9\", \"Topic9\", \"Topic9\", \"Topic10\", \"Topic10\", \"Topic10\", \"Topic10\", \"Topic10\", \"Topic10\", \"Topic10\", \"Topic10\", \"Topic10\", \"Topic10\", \"Topic10\", \"Topic10\", \"Topic10\", \"Topic10\", \"Topic10\", \"Topic10\", \"Topic10\", \"Topic10\", \"Topic10\", \"Topic10\", \"Topic10\", \"Topic10\", \"Topic10\", \"Topic10\", \"Topic10\", \"Topic10\", \"Topic10\", \"Topic10\", \"Topic10\", \"Topic10\", \"Topic10\", \"Topic10\", \"Topic10\", \"Topic10\", \"Topic10\", \"Topic10\", \"Topic10\", \"Topic10\", \"Topic10\", \"Topic10\", \"Topic10\", \"Topic10\", \"Topic10\", \"Topic10\", \"Topic10\", \"Topic10\", \"Topic10\", \"Topic10\", \"Topic10\", \"Topic11\", \"Topic11\", \"Topic11\", \"Topic11\", \"Topic11\", \"Topic11\", \"Topic11\", \"Topic11\", \"Topic11\", \"Topic11\", \"Topic11\", \"Topic11\", \"Topic11\", \"Topic11\", \"Topic11\", \"Topic11\", \"Topic11\", \"Topic11\", \"Topic11\", \"Topic11\", \"Topic11\", \"Topic11\", \"Topic11\", \"Topic11\", \"Topic11\", \"Topic11\", \"Topic11\", \"Topic11\", \"Topic11\", \"Topic11\", \"Topic11\", \"Topic11\", \"Topic11\", \"Topic11\", \"Topic11\", \"Topic11\", \"Topic11\", \"Topic11\", \"Topic11\", \"Topic11\", \"Topic11\", \"Topic11\", \"Topic11\", \"Topic11\", \"Topic11\", \"Topic11\", \"Topic11\", \"Topic11\", \"Topic12\", \"Topic12\", \"Topic12\", \"Topic12\", \"Topic12\", \"Topic12\", \"Topic12\", \"Topic12\", \"Topic12\", \"Topic12\", \"Topic12\", \"Topic12\", \"Topic12\", \"Topic12\", \"Topic12\", \"Topic12\", \"Topic12\", \"Topic12\", \"Topic12\", \"Topic12\", \"Topic12\", \"Topic12\", \"Topic12\", \"Topic12\", \"Topic12\", \"Topic12\", \"Topic12\", \"Topic12\", \"Topic12\", \"Topic12\", \"Topic12\", \"Topic12\", \"Topic12\", \"Topic12\", \"Topic12\", \"Topic12\", \"Topic12\", \"Topic12\", \"Topic12\", \"Topic12\", \"Topic12\", \"Topic12\", \"Topic12\", \"Topic12\", \"Topic13\", \"Topic13\", \"Topic13\", \"Topic13\", \"Topic13\", \"Topic13\", \"Topic13\", \"Topic13\", \"Topic13\", \"Topic13\", \"Topic13\", \"Topic13\", \"Topic13\", \"Topic13\", \"Topic13\", \"Topic13\", \"Topic13\", \"Topic13\", \"Topic13\", \"Topic13\", \"Topic13\", \"Topic13\", \"Topic13\", \"Topic13\", \"Topic13\", \"Topic13\", \"Topic13\", \"Topic13\", \"Topic13\", \"Topic13\", \"Topic13\", \"Topic13\", \"Topic13\", \"Topic13\", \"Topic13\", \"Topic13\", \"Topic13\", \"Topic13\", \"Topic13\", \"Topic13\", \"Topic13\", \"Topic13\", \"Topic13\", \"Topic13\", \"Topic13\", \"Topic13\", \"Topic13\", \"Topic13\", \"Topic13\", \"Topic13\", \"Topic14\", \"Topic14\", \"Topic14\", \"Topic14\", \"Topic14\", \"Topic14\", \"Topic14\", \"Topic14\", \"Topic14\", \"Topic14\", \"Topic14\", \"Topic14\", \"Topic14\", \"Topic14\", \"Topic14\", \"Topic14\", \"Topic14\", \"Topic14\", \"Topic14\", \"Topic14\", \"Topic14\", \"Topic14\", \"Topic14\", \"Topic14\", \"Topic14\", \"Topic14\", \"Topic14\", \"Topic14\", \"Topic14\", \"Topic14\", \"Topic14\", \"Topic14\", \"Topic14\", \"Topic14\", \"Topic14\", \"Topic14\", \"Topic14\", \"Topic14\", \"Topic14\", \"Topic14\", \"Topic14\", \"Topic14\", \"Topic15\", \"Topic15\", \"Topic15\", \"Topic15\", \"Topic15\", \"Topic15\", \"Topic15\", \"Topic15\", \"Topic15\", \"Topic15\", \"Topic15\", \"Topic15\", \"Topic15\", \"Topic15\", \"Topic15\", \"Topic15\", \"Topic15\", \"Topic15\", \"Topic15\", \"Topic15\", \"Topic15\", \"Topic15\", \"Topic15\", \"Topic15\", \"Topic15\", \"Topic15\", \"Topic15\", \"Topic15\", \"Topic15\", \"Topic15\", \"Topic15\", \"Topic15\", \"Topic15\", \"Topic15\", \"Topic15\", \"Topic15\", \"Topic15\", \"Topic15\", \"Topic15\", \"Topic15\", \"Topic15\", \"Topic15\", \"Topic15\", \"Topic16\", \"Topic16\", \"Topic16\", \"Topic16\", \"Topic16\", \"Topic16\", \"Topic16\", \"Topic16\", \"Topic16\", \"Topic16\", \"Topic16\", \"Topic16\", \"Topic16\", \"Topic16\", \"Topic16\", \"Topic16\", \"Topic16\", \"Topic16\", \"Topic16\", \"Topic16\", \"Topic16\", \"Topic16\", \"Topic16\", \"Topic16\", \"Topic16\", \"Topic16\", \"Topic16\", \"Topic16\", \"Topic16\", \"Topic16\", \"Topic16\", \"Topic16\", \"Topic16\", \"Topic16\", \"Topic16\", \"Topic16\", \"Topic16\", \"Topic16\", \"Topic16\", \"Topic16\", \"Topic16\", \"Topic17\", \"Topic17\", \"Topic17\", \"Topic17\", \"Topic17\", \"Topic17\", \"Topic17\", \"Topic17\", \"Topic17\", \"Topic17\", \"Topic17\", \"Topic17\", \"Topic17\", \"Topic17\", \"Topic17\", \"Topic17\", \"Topic17\", \"Topic17\", \"Topic17\", \"Topic17\", \"Topic17\", \"Topic17\", \"Topic17\", \"Topic17\", \"Topic17\", \"Topic17\", \"Topic17\", \"Topic17\", \"Topic17\", \"Topic17\", \"Topic17\", \"Topic17\", \"Topic17\", \"Topic17\", \"Topic17\", \"Topic17\", \"Topic17\", \"Topic17\", \"Topic17\", \"Topic17\", \"Topic17\", \"Topic18\", \"Topic18\", \"Topic18\", \"Topic18\", \"Topic18\", \"Topic18\", \"Topic18\", \"Topic18\", \"Topic18\", \"Topic18\", \"Topic18\", \"Topic18\", \"Topic18\", \"Topic18\", \"Topic18\", \"Topic18\", \"Topic18\", \"Topic18\", \"Topic18\", \"Topic18\", \"Topic18\", \"Topic18\", \"Topic18\", \"Topic18\", \"Topic18\", \"Topic18\", \"Topic18\", \"Topic18\", \"Topic18\", \"Topic18\", \"Topic18\", \"Topic18\", \"Topic18\", \"Topic18\", \"Topic18\", \"Topic18\", \"Topic18\", \"Topic19\", \"Topic19\", \"Topic19\", \"Topic19\", \"Topic19\", \"Topic19\", \"Topic19\", \"Topic19\", \"Topic19\", \"Topic19\", \"Topic19\", \"Topic19\", \"Topic19\", \"Topic19\", \"Topic19\", \"Topic19\", \"Topic19\", \"Topic19\", \"Topic19\", \"Topic19\", \"Topic19\", \"Topic19\", \"Topic19\", \"Topic19\", \"Topic19\", \"Topic19\", \"Topic19\", \"Topic19\", \"Topic19\", \"Topic19\", \"Topic19\", \"Topic19\", \"Topic19\", \"Topic19\", \"Topic19\", \"Topic19\", \"Topic19\", \"Topic20\", \"Topic20\", \"Topic20\", \"Topic20\", \"Topic20\", \"Topic20\", \"Topic20\", \"Topic20\", \"Topic20\", \"Topic20\", \"Topic20\", \"Topic20\", \"Topic20\", \"Topic20\", \"Topic20\", \"Topic20\", \"Topic20\", \"Topic20\", \"Topic20\", \"Topic20\", \"Topic20\", \"Topic20\", \"Topic20\", \"Topic20\", \"Topic20\", \"Topic20\", \"Topic20\", \"Topic20\", \"Topic20\", \"Topic20\", \"Topic20\", \"Topic20\", \"Topic20\", \"Topic20\", \"Topic20\", \"Topic20\"], \"Freq\": [67362.0, 21697.0, 84127.0, 22503.0, 19693.0, 49313.0, 16131.0, 21464.0, 15225.0, 14503.0, 14903.0, 19276.0, 36691.0, 16239.0, 55518.0, 19467.0, 54281.0, 13982.0, 51618.0, 25678.0, 17247.0, 22523.0, 10142.0, 25917.0, 38864.0, 13579.0, 16934.0, 8920.0, 13053.0, 29728.0, 9474.1533203125, 8778.001953125, 8106.6513671875, 4710.98583984375, 4080.26953125, 3426.614990234375, 2705.1845703125, 2639.836181640625, 2396.87939453125, 2265.988037109375, 1817.9638671875, 1811.70751953125, 1703.431884765625, 1584.3980712890625, 1448.8345947265625, 1434.063720703125, 1349.10498046875, 1180.599365234375, 1164.9276123046875, 1098.1280517578125, 1062.499267578125, 1032.2503662109375, 923.5899658203125, 867.73828125, 866.5391235351562, 849.1404418945312, 827.1135864257812, 810.4246826171875, 772.3933715820312, 767.6279907226562, 3136.06201171875, 10670.3095703125, 6374.67236328125, 14509.9150390625, 1669.8306884765625, 3616.632080078125, 14995.4609375, 4219.685546875, 13971.5732421875, 1803.3388671875, 25859.771484375, 5431.224609375, 3319.3955078125, 19837.53515625, 9579.763671875, 6529.08740234375, 9150.08984375, 4169.92529296875, 21630.09765625, 14818.1552734375, 20032.84765625, 8894.2451171875, 6687.22216796875, 6581.7431640625, 7193.7734375, 20026.8828125, 9737.9482421875, 9786.7587890625, 8267.64453125, 5809.43310546875, 6274.32763671875, 8715.4326171875, 7685.11474609375, 9755.34375, 6359.0556640625, 16933.400390625, 12612.0400390625, 4065.157958984375, 2464.14404296875, 2245.51220703125, 1420.9393310546875, 1100.4757080078125, 839.30029296875, 815.7144165039062, 774.0919799804688, 702.8158569335938, 694.9609985351562, 688.5607299804688, 679.5274658203125, 621.7849731445312, 616.8225708007812, 573.055419921875, 560.5376586914062, 550.970703125, 481.42236328125, 457.5243835449219, 453.3737487792969, 452.3777770996094, 439.2621154785156, 415.7740173339844, 386.26385498046875, 355.16290283203125, 346.3081970214844, 343.8898010253906, 340.341796875, 3091.72705078125, 10485.8623046875, 3626.898681640625, 3276.4609375, 2374.2080078125, 27532.029296875, 6065.53955078125, 3562.34326171875, 3012.10400390625, 18231.619140625, 3180.556396484375, 41052.2890625, 3102.85693359375, 5703.91845703125, 10543.8779296875, 30600.822265625, 1728.7799072265625, 38239.6015625, 4968.7626953125, 2006.504638671875, 11668.6328125, 4828.49169921875, 9813.3046875, 6933.87548828125, 6858.9345703125, 4502.56884765625, 3768.287353515625, 15491.5283203125, 8613.6484375, 6342.365234375, 5059.58544921875, 8232.212890625, 7547.19384765625, 10382.970703125, 8683.8046875, 6853.3896484375, 4424.02490234375, 5201.33837890625, 5946.84326171875, 4891.9951171875, 4904.56884765625, 8450.53125, 4242.99072265625, 2577.503662109375, 2433.306884765625, 1975.9808349609375, 1842.5205078125, 1798.5994873046875, 1620.088134765625, 1451.1011962890625, 1265.2657470703125, 1197.45556640625, 1176.5823974609375, 1029.484619140625, 991.9323120117188, 988.407470703125, 943.9773559570312, 940.1914672851562, 938.9906616210938, 889.7096557617188, 857.9349975585938, 842.2137451171875, 828.4193115234375, 809.4641723632812, 808.8089599609375, 791.3699951171875, 782.8228149414062, 744.7333374023438, 735.7503662109375, 687.9515380859375, 680.322265625, 19541.501953125, 3962.484619140625, 2013.52978515625, 13634.55078125, 10870.705078125, 11332.89453125, 22108.78515625, 12546.2177734375, 7175.8818359375, 7728.51708984375, 4641.3544921875, 6439.4033203125, 4615.41845703125, 8380.8779296875, 3819.477294921875, 26271.349609375, 3470.722900390625, 5091.75244140625, 16092.8515625, 10661.455078125, 8288.0166015625, 14172.2998046875, 6790.72900390625, 8645.91015625, 12241.0146484375, 10342.240234375, 5571.81640625, 8646.5224609375, 7090.18994140625, 5243.21240234375, 4517.650390625, 5684.74951171875, 6920.30712890625, 5330.65087890625, 5610.96826171875, 5437.08740234375, 5955.80712890625, 5669.3583984375, 3577.644775390625, 3498.989013671875, 2586.692626953125, 2361.896240234375, 2312.93701171875, 2237.674072265625, 2144.43359375, 2069.604248046875, 1858.6175537109375, 1831.1446533203125, 1764.3973388671875, 1676.64990234375, 1650.072509765625, 1582.29736328125, 1565.6300048828125, 1527.299560546875, 1495.2833251953125, 1377.7767333984375, 1306.3280029296875, 1217.574951171875, 1201.88916015625, 971.8505249023438, 968.1926879882812, 926.5391845703125, 917.3624267578125, 854.1701049804688, 853.8399658203125, 846.0386962890625, 1583.544921875, 1899.003173828125, 2112.077392578125, 1506.4227294921875, 3972.292724609375, 3630.71240234375, 3014.490234375, 6243.6943359375, 5962.15380859375, 3432.391845703125, 5846.28955078125, 4649.1015625, 3425.403076171875, 4639.48779296875, 7710.75146484375, 4920.23779296875, 7022.423828125, 3765.16015625, 6242.37646484375, 4773.24853515625, 4191.98681640625, 5271.240234375, 6355.79833984375, 5054.3876953125, 4972.5302734375, 4667.708984375, 4659.77978515625, 7957.72802734375, 4176.0654296875, 3929.119384765625, 3684.81494140625, 4214.87353515625, 3975.221923828125, 4080.778564453125, 3639.023681640625, 2977.586669921875, 2890.9384765625, 2844.964599609375, 2680.239013671875, 2660.8251953125, 2592.116943359375, 2393.817626953125, 2378.50634765625, 2357.7041015625, 2342.872802734375, 2270.655029296875, 2140.24169921875, 2090.590576171875, 2029.2991943359375, 1945.9254150390625, 1942.2176513671875, 1926.2515869140625, 1896.57666015625, 1841.414794921875, 1805.6051025390625, 1785.0732421875, 1781.740966796875, 1756.3165283203125, 1728.4091796875, 1704.2042236328125, 1669.53662109375, 1664.680419921875, 1638.26513671875, 1512.7647705078125, 1494.6142578125, 3124.28955078125, 2918.8017578125, 1688.7252197265625, 1996.422119140625, 1788.6910400390625, 4822.59375, 3815.508544921875, 3236.0576171875, 2934.720458984375, 2873.225830078125, 2554.717041015625, 1971.03466796875, 1812.6102294921875, 1794.7435302734375, 1326.7591552734375, 1149.278564453125, 1049.1646728515625, 984.6702880859375, 975.759033203125, 925.2317504882812, 906.9186401367188, 887.999267578125, 855.5997924804688, 816.3262329101562, 813.570556640625, 747.0880737304688, 731.3341674804688, 730.4194946289062, 711.6869506835938, 697.3773803710938, 689.6909790039062, 685.8115234375, 649.6552124023438, 627.73486328125, 625.1323852539062, 7657.0244140625, 2998.09228515625, 3047.7373046875, 6051.58349609375, 1580.1982421875, 6736.99755859375, 3733.715576171875, 7690.86181640625, 1953.6031494140625, 1884.0262451171875, 2826.341796875, 3111.124755859375, 3505.632080078125, 4045.680908203125, 2218.9921875, 2115.78857421875, 2293.024169921875, 1884.4747314453125, 2032.3038330078125, 1672.862548828125, 1861.1873779296875, 6644.11376953125, 3356.330810546875, 2933.092041015625, 2253.3154296875, 1779.587646484375, 1774.2469482421875, 1684.9122314453125, 1466.7672119140625, 1443.530029296875, 1098.4854736328125, 1091.4232177734375, 963.5842895507812, 925.1538696289062, 828.2107543945312, 698.763427734375, 664.8394775390625, 612.0512084960938, 601.2800903320312, 599.0185546875, 593.5580444335938, 590.6179809570312, 578.7850952148438, 555.5896606445312, 541.751953125, 525.2396850585938, 512.8353881835938, 493.1961975097656, 477.2499084472656, 474.4876403808594, 434.8061828613281, 10674.5869140625, 2177.688232421875, 1639.273681640625, 2313.281982421875, 2314.550537109375, 2971.8515625, 1375.1129150390625, 1531.8011474609375, 1459.8206787109375, 2700.2490234375, 7369.77490234375, 5975.65966796875, 2510.1669921875, 2560.484130859375, 3796.8125, 1364.1278076171875, 1221.325439453125, 1335.5513916015625, 1396.173583984375, 1948.677490234375, 1497.3284912109375, 1502.2353515625, 1581.5723876953125, 1536.8099365234375, 5845.82568359375, 3342.98828125, 2748.636962890625, 2274.676025390625, 2237.251708984375, 1686.694091796875, 1554.22021484375, 1540.1510009765625, 1329.6566162109375, 1145.3883056640625, 1052.3756103515625, 846.998779296875, 673.232421875, 653.182373046875, 649.6649169921875, 630.5073852539062, 577.805908203125, 523.730712890625, 507.6094970703125, 472.7343444824219, 457.2222595214844, 451.5108337402344, 438.7826232910156, 418.1458435058594, 407.79486083984375, 387.7925109863281, 379.5289306640625, 373.81646728515625, 357.1191101074219, 332.0797119140625, 19087.16015625, 2762.23876953125, 5357.9189453125, 4026.04052734375, 1692.90185546875, 1794.0667724609375, 2007.43701171875, 1891.728759765625, 6639.416015625, 3136.015625, 5605.11376953125, 6282.62353515625, 2585.469970703125, 1632.516845703125, 1768.354248046875, 1292.7987060546875, 3610.974853515625, 1594.989501953125, 1767.0162353515625, 1484.7662353515625, 7312.3046875, 3022.640869140625, 2512.066162109375, 2212.875244140625, 2021.6610107421875, 1945.5338134765625, 1838.07373046875, 1805.9034423828125, 1755.75537109375, 1634.8206787109375, 1572.945556640625, 1351.736572265625, 1200.3447265625, 1176.343017578125, 1080.830810546875, 964.289306640625, 885.2990112304688, 811.997314453125, 750.0621337890625, 736.7111206054688, 688.075927734375, 645.4859008789062, 620.9129028320312, 574.8363647460938, 572.7022094726562, 550.5236206054688, 547.9578857421875, 547.6893920898438, 543.98095703125, 524.7584838867188, 2363.89208984375, 1045.0570068359375, 2192.375, 2623.620361328125, 1887.6795654296875, 1418.6038818359375, 3707.21533203125, 3114.25, 1982.61865234375, 2370.50830078125, 1366.3890380859375, 2050.869140625, 1769.4852294921875, 1856.7965087890625, 1972.8560791015625, 1465.3428955078125, 1355.6944580078125, 1262.3895263671875, 5327.1611328125, 3477.008056640625, 3447.578369140625, 2601.412841796875, 1895.0064697265625, 1802.58056640625, 1705.482421875, 1574.9381103515625, 1427.75927734375, 1424.894287109375, 1423.6636962890625, 1397.3968505859375, 1388.1676025390625, 1158.70263671875, 1054.2789306640625, 1023.0178833007812, 935.7031860351562, 928.982666015625, 919.46826171875, 806.1298828125, 764.2820434570312, 748.0074462890625, 700.6697998046875, 673.1690673828125, 671.1314086914062, 654.210693359375, 515.994140625, 502.711669921875, 484.694091796875, 479.8060607910156, 1027.5908203125, 3118.1103515625, 3031.1201171875, 3250.53076171875, 5915.384765625, 1779.0235595703125, 1068.070068359375, 2822.48779296875, 1039.6065673828125, 1278.989501953125, 1672.4700927734375, 1425.822265625, 1244.95849609375, 1064.5203857421875, 1326.851806640625, 1294.991455078125, 1247.1568603515625, 1174.786865234375, 1153.2042236328125, 14902.451171875, 8919.0712890625, 3993.793701171875, 3290.7470703125, 2165.81591796875, 2014.8458251953125, 1975.4776611328125, 1424.57080078125, 1108.2864990234375, 953.5311279296875, 821.4276123046875, 790.1619873046875, 785.3607177734375, 722.8489990234375, 627.3045654296875, 545.5143432617188, 528.2338256835938, 502.488037109375, 485.97052001953125, 464.177734375, 457.40447998046875, 454.5741882324219, 431.8933410644531, 424.0290832519531, 403.3265075683594, 380.1866149902344, 367.9674987792969, 358.0566101074219, 353.5851745605469, 352.7779541015625, 16710.14453125, 10569.779296875, 2126.8271484375, 789.6866455078125, 917.201171875, 3697.436767578125, 1515.8170166015625, 625.6823120117188, 1454.9293212890625, 833.8651123046875, 1929.2242431640625, 2238.706787109375, 938.23046875, 1165.6029052734375, 783.0166015625, 760.5759887695312, 878.9447021484375, 752.5044555664062, 21696.857421875, 2871.61962890625, 2421.008544921875, 2304.514404296875, 2246.98095703125, 1631.7318115234375, 1582.048828125, 1327.6224365234375, 1313.3179931640625, 1301.9517822265625, 1261.186767578125, 992.7454833984375, 955.1358642578125, 953.870849609375, 877.296875, 867.2860717773438, 833.6325073242188, 780.3030395507812, 769.5352783203125, 679.5150146484375, 618.7807006835938, 552.4534912109375, 508.92974853515625, 503.40020751953125, 458.7109680175781, 455.3002624511719, 405.9602966308594, 374.4443359375, 369.1009826660156, 362.8052978515625, 1668.8848876953125, 2153.93359375, 2285.721435546875, 842.816650390625, 4009.293701171875, 3710.768798828125, 3940.048095703125, 1784.4609375, 929.7890014648438, 801.0797729492188, 968.6276245117188, 885.5247192382812, 974.3452758789062, 806.4271850585938, 5123.0859375, 4271.48876953125, 3831.05322265625, 3205.55419921875, 2448.9130859375, 1659.8681640625, 1619.1890869140625, 1242.42626953125, 983.03173828125, 926.8894653320312, 827.9209594726562, 806.0804443359375, 773.4943237304688, 721.5202026367188, 708.4080810546875, 662.9694213867188, 635.1829833984375, 615.1207885742188, 612.2542724609375, 552.3137817382812, 518.9713134765625, 515.868896484375, 507.7115478515625, 499.3596496582031, 475.400634765625, 451.75299072265625, 429.6374816894531, 425.26806640625, 421.279541015625, 407.4696044921875, 2981.658203125, 8814.3837890625, 1398.0675048828125, 3704.732421875, 2504.094482421875, 7832.6357421875, 2503.90380859375, 3423.286865234375, 1022.0580444335938, 1619.027587890625, 2268.796630859375, 909.2014770507812, 1240.7506103515625, 1014.3199462890625, 1654.40283203125, 1189.9339599609375, 1144.591796875, 930.8846435546875, 917.3006591796875, 925.0841064453125, 16130.654296875, 4000.614990234375, 3478.881591796875, 2439.465576171875, 2095.399658203125, 2038.326171875, 1710.5877685546875, 1571.4600830078125, 1551.245361328125, 1368.9395751953125, 1261.1270751953125, 1234.93017578125, 1124.1854248046875, 1116.25, 1075.337158203125, 1019.0601806640625, 871.1512451171875, 856.8983154296875, 813.1283569335938, 809.9468994140625, 799.245361328125, 789.053955078125, 785.6882934570312, 770.8761596679688, 770.7086791992188, 741.2756958007812, 693.6033325195312, 615.28759765625, 573.9984130859375, 497.032958984375, 1135.893310546875, 3533.111083984375, 2449.19287109375, 1623.4189453125, 3415.596435546875, 1635.1790771484375, 1250.22314453125, 918.7435913085938, 1023.6455688476562, 981.197998046875, 1045.14111328125, 830.0802612304688, 15224.7509765625, 4318.50341796875, 3213.078369140625, 2750.561767578125, 2413.934326171875, 2315.25390625, 2152.50732421875, 1721.650390625, 1407.283935546875, 1276.8184814453125, 1053.0018310546875, 1028.824951171875, 1024.080810546875, 935.7052001953125, 839.039794921875, 837.436279296875, 814.1286010742188, 719.1593017578125, 666.6651000976562, 652.0015258789062, 635.9381713867188, 575.3922119140625, 516.599365234375, 511.6502685546875, 508.3585510253906, 481.61798095703125, 469.02655029296875, 461.8931884765625, 415.1911315917969, 407.06317138671875, 10014.2490234375, 1508.930419921875, 2746.798095703125, 1353.93115234375, 1385.56982421875, 1669.525634765625, 1622.5885009765625, 839.0509643554688, 905.2611083984375, 938.2289428710938, 903.8088989257812, 944.2838745117188, 832.2268676757812, 3589.00146484375, 2837.942138671875, 2767.69091796875, 2489.6533203125, 2107.78515625, 1720.3892822265625, 1475.8328857421875, 1385.669677734375, 1164.83740234375, 1078.4609375, 925.2713623046875, 880.5759887695312, 850.4780883789062, 779.5722045898438, 732.601806640625, 681.5357055664062, 667.9226684570312, 665.2733154296875, 648.0886840820312, 632.1825561523438, 602.029541015625, 588.223876953125, 582.5137329101562, 582.037109375, 575.1287841796875, 564.0604858398438, 562.7610473632812, 549.836181640625, 520.9447021484375, 516.8539428710938, 3014.359130859375, 4810.10302734375, 1223.6453857421875, 779.9658813476562, 1024.8424072265625, 721.4970092773438, 651.9633178710938, 806.1038818359375, 710.2391967773438, 723.892822265625, 634.6080322265625, 6220.98388671875, 2937.7333984375, 2283.64013671875, 2140.60791015625, 1806.72216796875, 1707.357177734375, 1590.6773681640625, 1473.172607421875, 1356.28564453125, 1299.8323974609375, 1229.5045166015625, 1194.6380615234375, 1185.1295166015625, 1156.2105712890625, 957.958740234375, 777.3633422851562, 735.0679321289062, 704.8212280273438, 676.0078735351562, 636.4542236328125, 616.1529541015625, 615.7874145507812, 615.6357421875, 605.7763671875, 592.1068725585938, 592.1546630859375, 578.0333862304688, 571.0934448242188, 567.9564819335938, 558.0967407226562, 10137.8935546875, 1410.1397705078125, 2407.818603515625, 1355.620849609375, 1355.1324462890625, 2310.574462890625, 1253.525390625, 2158.378173828125, 783.3727416992188, 786.2083129882812, 638.15234375, 14502.7861328125, 5112.548828125, 3122.802734375, 2783.579345703125, 2531.60888671875, 1641.22216796875, 1602.614990234375, 1061.0758056640625, 1023.1372680664062, 971.2415771484375, 949.8995361328125, 945.964111328125, 925.8997802734375, 915.1067504882812, 899.6337280273438, 855.9505004882812, 855.5333251953125, 770.9099731445312, 727.4942626953125, 689.9325561523438, 644.6857299804688, 643.5527954101562, 625.078857421875, 621.0828857421875, 540.8670654296875, 529.1188354492188, 498.5180969238281, 493.7345275878906, 490.1371154785156, 478.91864013671875, 2395.830078125, 1610.2369384765625, 942.4530029296875, 781.2969360351562, 603.3280639648438, 647.0950317382812, 638.3199462890625, 7225.93115234375, 4975.72607421875, 3175.112060546875, 2550.958984375, 2160.05224609375, 2029.7830810546875, 1663.3487548828125, 1609.0943603515625, 1037.1336669921875, 977.2809448242188, 876.9295654296875, 851.0689697265625, 786.3268432617188, 783.4519653320312, 614.8333129882812, 595.944580078125, 589.9881591796875, 564.5802001953125, 559.5974731445312, 544.54541015625, 539.6052856445312, 518.2265625, 482.14312744140625, 415.7613830566406, 414.6892395019531, 412.5034484863281, 402.14093017578125, 391.92431640625, 380.59075927734375, 379.831787109375, 4681.58154296875, 2025.616943359375, 651.2024536132812, 1804.474365234375, 935.595458984375, 1542.59375, 896.6344604492188, 7237.4453125, 5627.20654296875, 4004.94189453125, 2960.924560546875, 2566.8828125, 2455.561279296875, 1449.0057373046875, 1141.0474853515625, 1107.841064453125, 1099.536865234375, 1069.192138671875, 922.5857543945312, 852.828125, 840.1820678710938, 787.04833984375, 745.6812133789062, 737.637939453125, 710.736572265625, 706.815673828125, 665.3200073242188, 508.42138671875, 492.0086669921875, 489.2000427246094, 475.3096618652344, 449.0633544921875, 447.005615234375, 438.0741271972656, 405.907470703125, 404.98638916015625, 404.7996520996094, 4420.57470703125, 1575.8095703125, 1113.5452880859375, 1217.4014892578125, 630.5355834960938, 495.80145263671875], \"Term\": [\"food\", \"pizza\", \"good\", \"chicken\", \"bar\", \"order\", \"salad\", \"fry\", \"burger\", \"sandwich\", \"beer\", \"cheese\", \"great\", \"drink\", \"place\", \"sauce\", \"get\", \"dish\", \"go\", \"restaurant\", \"table\", \"menu\", \"cook\", \"service\", \"time\", \"fresh\", \"always\", \"selection\", \"lunch\", \"try\", \"tell\", \"minute\", \"long\", \"hour\", \"arrive\", \"finally\", \"buffet\", \"someone\", \"later\", \"money\", \"indian\", \"understand\", \"sign\", \"disappointing\", \"rush\", \"min\", \"lady\", \"rude\", \"answer\", \"awful\", \"smile\", \"din\", \"gross\", \"lose\", \"third\", \"nwhen\", \"waste\", \"suck\", \"online\", \"yesterday\", \"line\", \"ask\", \"waitress\", \"wait\", \"ready\", \"least\", \"take\", \"call\", \"say\", \"man\", \"order\", \"leave\", \"customer\", \"time\", \"even\", \"bad\", \"want\", \"walk\", \"get\", \"come\", \"go\", \"give\", \"never\", \"people\", \"know\", \"food\", \"back\", \"would\", \"eat\", \"see\", \"could\", \"make\", \"service\", \"place\", \"table\", \"always\", \"friendly\", \"quick\", \"highly_recommend\", \"pancake\", \"tiny\", \"nachos\", \"ntheir\", \"massive\", \"gem\", \"host\", \"actual\", \"thursday\", \"top_notch\", \"mother\", \"highly\", \"hole\", \"wednesday\", \"hubby\", \"cater\", \"exception\", \"whenever\", \"brewery\", \"filling\", \"regularly\", \"accord\", \"south_hill\", \"dance\", \"bloomfield\", \"dude\", \"reasonable\", \"staff\", \"fast\", \"often\", \"neighborhood\", \"great\", \"excellent\", \"family\", \"fun\", \"service\", \"local\", \"food\", \"cheap\", \"atmosphere\", \"price\", \"place\", \"solid\", \"good\", \"location\", \"standard\", \"love\", \"area\", \"nice\", \"lunch\", \"pittsburgh\", \"quality\", \"super\", \"go\", \"delicious\", \"definitely\", \"favorite\", \"really\", \"restaurant\", \"get\", \"time\", \"also\", \"option\", \"pretty\", \"make\", \"well\", \"back\", \"taco\", \"noodle\", \"dip\", \"disappoint\", \"tap\", \"pad_thai\", \"scallop\", \"asian\", \"vibe\", \"perfection\", \"margarita\", \"dumpling\", \"airport\", \"popular\", \"guacamole\", \"raman\", \"personally\", \"rock\", \"pastry\", \"tortilla\", \"personal\", \"grit\", \"pork_belly\", \"generally\", \"limit\", \"damn\", \"downstairs\", \"parent\", \"chorizo\", \"delish\", \"try\", \"fill\", \"bean\", \"really\", \"delicious\", \"love\", \"get\", \"also\", \"thing\", \"definitely\", \"different\", \"flavor\", \"start\", \"think\", \"next\", \"good\", \"like\", \"amazing\", \"go\", \"come\", \"back\", \"place\", \"little\", \"would\", \"order\", \"time\", \"friend\", \"make\", \"eat\", \"first\", \"everything\", \"want\", \"great\", \"much\", \"say\", \"menu\", \"steak\", \"wine\", \"regular\", \"glass\", \"lack\", \"date\", \"grab\", \"beautiful\", \"mouth\", \"consider\", \"byob\", \"sample\", \"pleasant\", \"typical\", \"view\", \"pass\", \"impressed\", \"fancy\", \"upstairs\", \"fair\", \"nas\", \"booth\", \"oil\", \"overprice\", \"filet\", \"particularly\", \"presentation\", \"nfood\", \"somewhat\", \"mistake\", \"chance\", \"other\", \"expensive\", \"outside\", \"quite\", \"bite\", \"course\", \"small\", \"bit\", \"high\", \"dinner\", \"seem\", \"half\", \"tasty\", \"nice\", \"night\", \"would\", \"large\", \"menu\", \"serve\", \"nthe\", \"little\", \"restaurant\", \"meal\", \"table\", \"price\", \"much\", \"good\", \"side\", \"enjoy\", \"special\", \"think\", \"well\", \"also\", \"pretty\", \"pack\", \"space\", \"today\", \"garlic\", \"care\", \"weekend\", \"easy\", \"downtown\", \"meatball\", \"boyfriend\", \"seating\", \"seafood\", \"slightly\", \"soft\", \"app\", \"american\", \"traditional\", \"stick\", \"summer\", \"receive\", \"smell\", \"addition\", \"non\", \"smoke\", \"window\", \"life\", \"welcome\", \"mussel\", \"notice\", \"easily\", \"mushroom\", \"less\", \"terrible\", \"light\", \"serve\", \"tomato\", \"veggie\", \"ingredient\", \"slice\", \"white\", \"pie\", \"vegan\", \"thin\", \"healthy\", \"apple\", \"dine\", \"beet\", \"raw\", \"freshly\", \"usual\", \"juice\", \"mozzarella\", \"jalapeno\", \"chunk\", \"version\", \"olive\", \"straight\", \"cheesecake\", \"cilantro\", \"inexpensive\", \"oven\", \"chipotle\", \"spoon\", \"dream\", \"color\", \"bread\", \"red\", \"onion\", \"meat\", \"greasy\", \"fresh\", \"potato\", \"sauce\", \"green\", \"flavorful\", \"top\", \"serve\", \"cheese\", \"make\", \"sweet\", \"tasty\", \"taste\", \"side\", \"delicious\", \"use\", \"also\", \"entree\", \"waiter\", \"vegetable\", \"salty\", \"issue\", \"rest\", \"lobster\", \"lovely\", \"burn\", \"section\", \"suggestion\", \"concept\", \"allow\", \"martini\", \"exceptional\", \"management\", \"neat\", \"nalso\", \"air\", \"nin\", \"hint\", \"restroom\", \"panera\", \"shame\", \"cooking\", \"prime\", \"machine\", \"oily\", \"steep\", \"diverse\", \"dish\", \"fact\", \"completely\", \"door\", \"chef\", \"pasta\", \"spinach\", \"salt\", \"bill\", \"plate\", \"restaurant\", \"menu\", \"item\", \"appetizer\", \"meal\", \"prepare\", \"unfortunately\", \"vegetarian\", \"decor\", \"dinner\", \"dining\", \"portion\", \"serve\", \"experience\", \"rice\", \"chinese\", \"bbq\", \"suggest\", \"loud\", \"tofu\", \"rib\", \"melt\", \"brisket\", \"broccoli\", \"oakland\", \"coconut\", \"mild\", \"general_tso\", \"hibachi\", \"theme\", \"bomb\", \"wide\", \"monroeville\", \"pitcher\", \"improvement\", \"cornbread\", \"annoying\", \"wonton\", \"nhowever\", \"practically\", \"yellow\", \"soooo\", \"nnot\", \"cat\", \"chicken\", \"pork\", \"soup\", \"spicy\", \"hungry\", \"bowl\", \"beef\", \"tender\", \"fry\", \"hot\", \"order\", \"food\", \"lunch\", \"roll\", \"portion\", \"pepper\", \"good\", \"tasty\", \"taste\", \"restaurant\", \"coffee\", \"business\", \"lamb\", \"move\", \"write\", \"buy\", \"sound\", \"honestly\", \"drive\", \"gyro\", \"cafe\", \"hate\", \"mom\", \"folk\", \"pop\", \"carry\", \"product\", \"sorry\", \"consistent\", \"hipster\", \"fix\", \"finger\", \"joke\", \"wear\", \"entrance\", \"ample\", \"member\", \"naan\", \"ridiculous\", \"swear\", \"shop\", \"continue\", \"guess\", \"away\", \"slow\", \"cup\", \"home\", \"work\", \"close\", \"location\", \"parking\", \"may\", \"year\", \"new\", \"find\", \"right\", \"review\", \"offer\", \"room\", \"pm\", \"party\", \"manager\", \"cost\", \"tip\", \"hostess\", \"throw\", \"refill\", \"past\", \"appreciate\", \"poor\", \"build\", \"chair\", \"ranch\", \"obviously\", \"clear\", \"waitstaff\", \"skip\", \"dozen\", \"chat\", \"medium_rare\", \"child\", \"reuben\", \"fire\", \"garden\", \"major\", \"coworker\", \"effort\", \"holiday\", \"bag\", \"do\", \"reservation\", \"dining\", \"table\", \"water\", \"middle\", \"seat\", \"due\", \"charge\", \"group\", \"kid\", \"show\", \"floor\", \"cook\", \"right\", \"server\", \"area\", \"ask\", \"beer\", \"selection\", \"cocktail\", \"happy_hour\", \"music\", \"birthday\", \"draft\", \"pub\", \"anywhere\", \"meh\", \"post\", \"negative\", \"whiskey\", \"shot\", \"honest\", \"company\", \"appeal\", \"sampler\", \"listen\", \"fail\", \"attend\", \"brother\", \"ignore\", \"liquor\", \"drunk\", \"specific\", \"belgian\", \"adequate\", \"trivium\", \"rustic\", \"bar\", \"drink\", \"list\", \"recommendation\", \"patio\", \"night\", \"cool\", \"creative\", \"average\", \"play\", \"friend\", \"great\", \"city\", \"sit\", \"slow\", \"bottle\", \"atmosphere\", \"guess\", \"pizza\", \"crust\", \"delivery\", \"stay\", \"yet\", \"dough\", \"hoagie\", \"conversation\", \"ok\", \"hold\", \"horrible\", \"pepperoni\", \"bagel\", \"consistently\", \"excite\", \"modern\", \"ordering\", \"feta\", \"frequent\", \"regret\", \"zucchini\", \"warn\", \"depend\", \"age\", \"inedible\", \"gelato\", \"register\", \"frank\", \"preference\", \"thoroughly_enjoy\", \"deliver\", \"extra\", \"italian\", \"box\", \"cheese\", \"order\", \"good\", \"sauce\", \"fan\", \"best\", \"taste\", \"large\", \"place\", \"try\", \"perfectly\", \"amount\", \"size\", \"chocolate\", \"not\", \"certainly\", \"can\", \"heat\", \"limited\", \"rare\", \"quesadilla\", \"quantity\", \"nearby\", \"win\", \"moist\", \"dipping\", \"soy\", \"match\", \"pleased\", \"orange\", \"brussel_sprout\", \"properly\", \"hat\", \"recipe\", \"berry\", \"spice_level\", \"diet\", \"omg\", \"ribeye\", \"pricy\", \"cake\", \"cook\", \"prefer\", \"shrimp\", \"average\", \"sauce\", \"dessert\", \"flavor\", \"base\", \"fan\", \"sweet\", \"thick\", \"dry\", \"main\", \"taste\", \"perfect\", \"home\", \"cut\", \"red\", \"portion\", \"salad\", \"tea\", \"wife\", \"wrap\", \"ice_cream\", \"crepe\", \"dress\", \"request\", \"thank\", \"sell\", \"accommodate\", \"boy\", \"parmesan\", \"fruit\", \"avocado\", \"coupon\", \"mango\", \"strawberry\", \"winter\", \"learn\", \"market\", \"yum\", \"load\", \"efficient\", \"sister\", \"square\", \"pesto\", \"market_square\", \"marinara\", \"plentiful\", \"lemon\", \"lunch\", \"soup\", \"extra\", \"chicken\", \"pasta\", \"dessert\", \"glad\", \"grill\", \"house\", \"side\", \"stop\", \"burger\", \"chip\", \"mexican\", \"bland\", \"burrito\", \"salsa\", \"waffle\", \"medium\", \"truly\", \"soggy\", \"mess\", \"nicely\", \"sad\", \"seasonal\", \"okay\", \"patty\", \"burgatory\", \"milk\", \"milkshake\", \"risotto\", \"fajita\", \"attempt\", \"freeze\", \"enchilada\", \"nif\", \"aware\", \"disgusting\", \"flavorless\", \"replace\", \"edible\", \"fry\", \"joint\", \"potato\", \"dry\", \"do\", \"side\", \"cheese\", \"grill\", \"home\", \"meat\", \"taste\", \"order\", \"well\", \"topping\", \"french\", \"dog\", \"homemade\", \"bun\", \"turkey\", \"classic\", \"ice\", \"crazy\", \"shake\", \"relatively\", \"assume\", \"coleslaw\", \"bakery\", \"picture\", \"jam\", \"nbut\", \"mustard\", \"looking_forward\", \"form\", \"affordable\", \"pastrami\", \"braise\", \"pound\", \"ricotta\", \"bed\", \"scoop\", \"desire\", \"decision\", \"buttery\", \"hot\", \"fry\", \"pepper\", \"dollar\", \"onion\", \"buck\", \"fat\", \"crispy\", \"salt\", \"cut\", \"basically\", \"wing\", \"mac\", \"butter\", \"buffalo\", \"plan\", \"duck\", \"morning\", \"sub\", \"save\", \"juicy\", \"bake\", \"blue\", \"roast\", \"goat\", \"bright\", \"blow\", \"basket\", \"goodness\", \"cheesy\", \"outdoor\", \"caesar\", \"flight\", \"pulled_pork\", \"ago\", \"lawrenceville\", \"packed\", \"vinegar\", \"refresh\", \"yum_yum\", \"support\", \"cheese\", \"late\", \"bread\", \"tender\", \"crispy\", \"night\", \"away\", \"sauce\", \"friday\", \"saturday\", \"local\", \"sandwich\", \"bacon\", \"sunday\", \"cream\", \"game\", \"fairly\", \"world\", \"french_toast\", \"dive\", \"hype\", \"kinda\", \"craft\", \"gnocchi\", \"extensive\", \"enjoyable\", \"tv\", \"nand\", \"famous\", \"deli\", \"story\", \"attitude\", \"_\", \"rye\", \"giant\", \"proper\", \"important\", \"cheesesteak\", \"rarely\", \"crap\", \"toddler\", \"watch\", \"half\", \"grill\", \"old\", \"play\", \"street\", \"pittsburgh\", \"fish\", \"sushi\", \"authentic\", \"crab\", \"together\", \"combination\", \"tuna\", \"outstanding\", \"nthere\", \"original\", \"pan\", \"sashimi\", \"japanese\", \"lay\", \"takeout\", \"cole_slaw\", \"church\", \"delightful\", \"overlook\", \"octopus\", \"squirrel_hill\", \"tempura\", \"california\", \"strip_mall\", \"anyways\", \"sake\", \"emiliano\", \"gorgeous\", \"brand\", \"familiar\", \"roll\", \"salmon\", \"ginger\", \"fresh\", \"chef\", \"pittsburgh\", \"piece\", \"breakfast\", \"brunch\", \"thai\", \"curry\", \"diner\", \"toast\", \"omelet\", \"cheddar\", \"fabulous\", \"pumpkin\", \"combo\", \"banana\", \"gravy\", \"cinnamon\", \"cauliflower\", \"fluffy\", \"ham\", \"omelette\", \"pamela\", \"look_forward\", \"biscuit\", \"vinaigrette\", \"hash\", \"bf\", \"divine\", \"raspberry\", \"croissant\", \"brownie\", \"exist\", \"paint\", \"egg\", \"sausage\", \"fill\", \"home\", \"hungry\", \"cute\"], \"Total\": [67362.0, 21697.0, 84127.0, 22503.0, 19693.0, 49313.0, 16131.0, 21464.0, 15225.0, 14503.0, 14903.0, 19276.0, 36691.0, 16239.0, 55518.0, 19467.0, 54281.0, 13982.0, 51618.0, 25678.0, 17247.0, 22523.0, 10142.0, 25917.0, 38864.0, 13579.0, 16934.0, 8920.0, 13053.0, 29728.0, 9475.08984375, 8778.9384765625, 8107.58740234375, 4711.921875, 4081.206298828125, 3427.5517578125, 2706.121337890625, 2640.77294921875, 2397.816162109375, 2266.9248046875, 1818.9007568359375, 1812.6444091796875, 1704.3687744140625, 1585.3349609375, 1449.771484375, 1435.0006103515625, 1350.0418701171875, 1181.5362548828125, 1165.864501953125, 1099.06494140625, 1063.4361572265625, 1033.187255859375, 924.5265502929688, 868.6748657226562, 867.4757080078125, 850.0770263671875, 828.0501708984375, 811.3612670898438, 773.3299560546875, 768.5645751953125, 3293.1015625, 11824.3994140625, 7247.90625, 18144.56640625, 1762.5106201171875, 4170.55322265625, 20406.81640625, 4997.4052734375, 21023.724609375, 1967.5594482421875, 49313.08203125, 7557.23291015625, 4164.29638671875, 38864.41796875, 16623.501953125, 10295.564453125, 16224.53125, 5874.7255859375, 54281.75, 33458.47265625, 51618.06640625, 16962.390625, 11658.1630859375, 11422.013671875, 13192.3837890625, 67362.6171875, 22931.380859375, 26929.8984375, 21820.9609375, 11055.0361328125, 13218.96875, 30697.349609375, 25917.625, 55518.74609375, 17247.814453125, 16934.341796875, 12612.978515625, 4066.09716796875, 2465.083251953125, 2246.451416015625, 1421.8787841796875, 1101.4151611328125, 840.2393188476562, 816.6534423828125, 775.031005859375, 703.7548828125, 695.9000244140625, 689.499755859375, 680.4664916992188, 622.7239990234375, 617.7615966796875, 573.9944458007812, 561.4766845703125, 551.9097290039062, 482.3615417480469, 458.46356201171875, 454.31292724609375, 453.31695556640625, 440.2012939453125, 416.71319580078125, 387.2030334472656, 356.1020812988281, 347.24737548828125, 344.8289794921875, 341.2809753417969, 3186.781982421875, 11131.4892578125, 3935.004150390625, 3550.395263671875, 2590.2158203125, 36691.88671875, 7255.02685546875, 4158.19921875, 3559.52001953125, 25917.625, 3819.597900390625, 67362.6171875, 3782.68017578125, 7568.89453125, 15761.0048828125, 55518.74609375, 2048.96044921875, 84127.1171875, 7340.16015625, 2480.35009765625, 23002.423828125, 8076.31689453125, 20304.525390625, 13053.294921875, 13408.7080078125, 7686.52294921875, 6016.529296875, 51618.06640625, 21517.505859375, 14454.3330078125, 9781.17578125, 28355.8671875, 25678.185546875, 54281.75, 38864.41796875, 26611.36328125, 8397.8740234375, 16014.904296875, 30697.349609375, 17207.677734375, 22931.380859375, 8451.4716796875, 4243.93115234375, 2578.44482421875, 2434.248046875, 1976.922119140625, 1843.4617919921875, 1799.540771484375, 1621.0294189453125, 1452.04248046875, 1266.20703125, 1198.3968505859375, 1177.523681640625, 1030.4259033203125, 992.873291015625, 989.3484497070312, 944.9183349609375, 941.1324462890625, 939.931640625, 890.650634765625, 858.8759765625, 843.1547241210938, 829.3602905273438, 810.4051513671875, 809.7499389648438, 792.3109741210938, 783.7637939453125, 745.67431640625, 736.6913452148438, 688.8925170898438, 681.2632446289062, 29728.83984375, 5076.9208984375, 2431.518798828125, 28355.8671875, 21517.505859375, 23002.423828125, 54281.75, 26611.36328125, 13108.28515625, 14454.3330078125, 7547.2919921875, 11750.8115234375, 7684.6279296875, 17151.224609375, 6024.951171875, 84127.1171875, 5430.76025390625, 9441.8017578125, 51618.06640625, 33458.47265625, 22931.380859375, 55518.74609375, 17216.9296875, 26929.8984375, 49313.08203125, 38864.41796875, 13143.26171875, 30697.349609375, 21820.9609375, 12265.0615234375, 9015.8642578125, 16224.53125, 36691.88671875, 15984.7646484375, 21023.724609375, 22523.177734375, 5956.74658203125, 5670.2978515625, 3578.584716796875, 3499.928955078125, 2587.632568359375, 2362.836181640625, 2313.876953125, 2238.614013671875, 2145.37353515625, 2070.544189453125, 1859.5577392578125, 1832.0848388671875, 1765.3375244140625, 1677.590087890625, 1651.0126953125, 1583.237548828125, 1566.5701904296875, 1528.23974609375, 1496.2235107421875, 1378.7169189453125, 1307.2681884765625, 1218.51513671875, 1202.829345703125, 972.7904663085938, 969.1326293945312, 927.4791259765625, 918.3023681640625, 855.1100463867188, 854.7799072265625, 846.9786376953125, 1663.6483154296875, 2062.238037109375, 2328.84033203125, 1649.63818359375, 5596.9091796875, 5183.78125, 4202.333984375, 11082.7275390625, 10575.3212890625, 5159.27880859375, 11660.94921875, 8722.81640625, 5486.119140625, 8893.849609375, 20304.525390625, 13380.123046875, 26929.8984375, 8206.771484375, 22523.177734375, 13569.689453125, 10569.40625, 17216.9296875, 25678.185546875, 16297.77734375, 17247.814453125, 15761.0048828125, 15984.7646484375, 84127.1171875, 12875.1220703125, 10938.693359375, 9573.017578125, 17151.224609375, 17207.677734375, 26611.36328125, 16014.904296875, 2978.52587890625, 2891.877685546875, 2845.90380859375, 2681.17822265625, 2661.764404296875, 2593.05615234375, 2394.7568359375, 2379.445556640625, 2358.643310546875, 2343.81201171875, 2271.59423828125, 2141.180908203125, 2091.52978515625, 2030.23828125, 1946.864501953125, 1943.15673828125, 1927.190673828125, 1897.5157470703125, 1842.3538818359375, 1806.544189453125, 1786.0123291015625, 1782.6800537109375, 1757.255615234375, 1729.3482666015625, 1705.143310546875, 1670.4757080078125, 1665.6195068359375, 1639.2042236328125, 1513.703857421875, 1495.5533447265625, 3627.541748046875, 3816.278564453125, 1830.4466552734375, 4281.66845703125, 13569.689453125, 4823.53271484375, 3816.447998046875, 3236.9970703125, 2935.659912109375, 2874.165283203125, 2555.656494140625, 1971.97412109375, 1813.5496826171875, 1795.6829833984375, 1327.6986083984375, 1150.218017578125, 1050.1041259765625, 985.609619140625, 976.6983642578125, 926.1710815429688, 907.8579711914062, 888.9385986328125, 856.5391235351562, 817.2655639648438, 814.5098876953125, 748.0274047851562, 732.2734985351562, 731.3588256835938, 712.6262817382812, 698.3167114257812, 690.6303100585938, 686.7508544921875, 650.5945434570312, 628.6741943359375, 626.0717163085938, 10065.732421875, 3916.28369140625, 4073.46826171875, 10027.5986328125, 2006.772216796875, 13579.787109375, 6481.40234375, 19467.130859375, 3426.8515625, 3469.673583984375, 7289.5146484375, 13569.689453125, 19276.197265625, 30697.349609375, 7986.0732421875, 8893.849609375, 15599.2412109375, 12875.1220703125, 21517.505859375, 8832.732421875, 26611.36328125, 6645.05126953125, 3357.26904296875, 2934.0302734375, 2254.253662109375, 1780.52587890625, 1775.1851806640625, 1685.8504638671875, 1467.7054443359375, 1444.46826171875, 1099.4237060546875, 1092.3614501953125, 964.5223999023438, 926.0919799804688, 829.1488647460938, 699.7015380859375, 665.777587890625, 612.9893188476562, 602.2182006835938, 599.9566650390625, 594.4961547851562, 591.5560913085938, 579.7232055664062, 556.5277709960938, 542.6900634765625, 526.1777954101562, 513.7734985351562, 494.1343994140625, 478.1881103515625, 475.42584228515625, 435.744384765625, 13982.3193359375, 2599.407470703125, 1955.559814453125, 3090.19287109375, 3251.032470703125, 4607.91748046875, 1887.45263671875, 2242.927734375, 2201.284423828125, 5605.84619140625, 25678.185546875, 22523.177734375, 6458.47314453125, 7286.2509765625, 16297.77734375, 2459.704345703125, 2068.0673828125, 2615.9765625, 3461.942626953125, 11660.94921875, 5869.12890625, 8320.4833984375, 13569.689453125, 10740.982421875, 5846.76220703125, 3343.92578125, 2749.574462890625, 2275.613525390625, 2238.189208984375, 1687.6314697265625, 1555.1575927734375, 1541.08837890625, 1330.593994140625, 1146.32568359375, 1053.31298828125, 847.9360961914062, 674.1697387695312, 654.1196899414062, 650.6022338867188, 631.4447021484375, 578.7432250976562, 524.6680297851562, 508.546875, 473.6717224121094, 458.1596374511719, 452.4482116699219, 439.7200012207031, 419.0832214355469, 408.73223876953125, 388.7298889160156, 380.46630859375, 374.75384521484375, 358.0564880371094, 333.01708984375, 22503.646484375, 3164.777099609375, 7807.998046875, 6480.59130859375, 2324.324462890625, 2963.2177734375, 3463.20751953125, 3248.237060546875, 21464.607421875, 8395.5703125, 49313.08203125, 67362.6171875, 13053.294921875, 6314.98388671875, 8320.4833984375, 4197.701171875, 84127.1171875, 8893.849609375, 15599.2412109375, 25678.185546875, 7313.24169921875, 3023.578857421875, 2513.004150390625, 2213.813232421875, 2022.598876953125, 1946.4716796875, 1839.0115966796875, 1806.84130859375, 1756.6932373046875, 1635.758544921875, 1573.8834228515625, 1352.6744384765625, 1201.2825927734375, 1177.2808837890625, 1081.7686767578125, 965.2271118164062, 886.23681640625, 812.9351196289062, 750.9999389648438, 737.64892578125, 689.0137329101562, 646.4237060546875, 621.8507080078125, 575.774169921875, 573.6400146484375, 551.46142578125, 548.8956909179688, 548.627197265625, 544.9187622070312, 525.6962890625, 3043.999755859375, 1195.4378662109375, 2945.76904296875, 3878.03369140625, 2671.58544921875, 1967.9951171875, 7443.99658203125, 7493.22900390625, 5000.92333984375, 7340.16015625, 2691.03076171875, 6637.63037109375, 5563.17041015625, 7440.56982421875, 11961.5693359375, 9046.4619140625, 7682.73828125, 6598.23681640625, 5328.09619140625, 3477.9443359375, 3448.5146484375, 2602.34912109375, 1895.94287109375, 1803.5169677734375, 1706.4188232421875, 1575.87451171875, 1428.6956787109375, 1425.8306884765625, 1424.60009765625, 1398.333251953125, 1389.10400390625, 1159.6390380859375, 1055.21533203125, 1023.9541625976562, 936.6394653320312, 929.9189453125, 920.404541015625, 807.066162109375, 765.2183227539062, 748.9437255859375, 701.6060791015625, 674.1053466796875, 672.0676879882812, 655.14697265625, 516.930419921875, 503.6479797363281, 485.6304016113281, 480.74237060546875, 1113.7708740234375, 4504.56591796875, 4489.388671875, 5869.12890625, 17247.814453125, 3350.938232421875, 1453.7269287109375, 8699.416015625, 1435.9691162109375, 2178.407470703125, 3962.08740234375, 3352.344970703125, 2867.65478515625, 1625.803466796875, 10142.123046875, 9046.4619140625, 8741.7373046875, 8076.31689453125, 11824.3994140625, 14903.3896484375, 8920.009765625, 3994.732177734375, 3291.685546875, 2166.75439453125, 2015.7845458984375, 1976.4163818359375, 1425.509521484375, 1109.2252197265625, 954.4697875976562, 822.3662719726562, 791.1006469726562, 786.2993774414062, 723.7876586914062, 628.2432250976562, 546.4530029296875, 529.1724853515625, 503.42669677734375, 486.9091796875, 465.11639404296875, 458.3431396484375, 455.5128479003906, 432.8320007324219, 424.9677429199219, 404.2651672363281, 381.1252746582031, 368.9061584472656, 358.9952697753906, 354.5238342285156, 353.71661376953125, 19693.111328125, 16239.3662109375, 4434.8271484375, 1119.1195068359375, 1460.5406494140625, 13380.123046875, 3766.75830078125, 844.8882446289062, 3959.91357421875, 1438.081298828125, 13143.26171875, 36691.88671875, 3121.30224609375, 9172.892578125, 2671.58544921875, 2459.207763671875, 7568.89453125, 2945.76904296875, 21697.796875, 2872.55517578125, 2421.944091796875, 2305.449951171875, 2247.91650390625, 1632.66748046875, 1582.9844970703125, 1328.55810546875, 1314.253662109375, 1302.887451171875, 1262.1224365234375, 993.6810302734375, 956.0714111328125, 954.806396484375, 878.232421875, 868.2216186523438, 834.5680541992188, 781.2385864257812, 770.4708251953125, 680.4505615234375, 619.7162475585938, 553.3890380859375, 509.86529541015625, 504.33575439453125, 459.6465148925781, 456.2358093261719, 406.8958435058594, 375.3798828125, 370.0365295410156, 363.7408447265625, 2104.02197265625, 3778.237548828125, 4204.85693359375, 1254.9296875, 19276.197265625, 49313.08203125, 84127.1171875, 19467.130859375, 4205.76513671875, 2615.5185546875, 15599.2412109375, 8206.771484375, 55518.74609375, 29728.83984375, 5124.02294921875, 4272.42578125, 3831.991455078125, 3206.492431640625, 2449.851318359375, 1660.806396484375, 1620.1273193359375, 1243.364501953125, 983.9698486328125, 927.8275756835938, 828.8590698242188, 807.0185546875, 774.4324340820312, 722.4583129882812, 709.34619140625, 663.9075317382812, 636.12109375, 616.0588989257812, 613.1923828125, 553.2518920898438, 519.909423828125, 516.8070068359375, 508.649658203125, 500.2977600097656, 476.3387451171875, 452.69110107421875, 430.5755920410156, 426.2061767578125, 422.2176513671875, 408.40771484375, 3107.82421875, 10142.123046875, 1694.454345703125, 6240.22314453125, 3959.91357421875, 19467.130859375, 6893.47265625, 11750.8115234375, 1742.865478515625, 4205.76513671875, 7986.0732421875, 1599.4112548828125, 3455.504638671875, 2593.970458984375, 15599.2412109375, 5920.58203125, 7443.99658203125, 3515.826904296875, 3916.28369140625, 8320.4833984375, 16131.58984375, 4001.551513671875, 3479.818115234375, 2440.402099609375, 2096.336181640625, 2039.2625732421875, 1711.524169921875, 1572.396484375, 1552.1817626953125, 1369.8759765625, 1262.0634765625, 1235.8665771484375, 1125.121826171875, 1117.1864013671875, 1076.2735595703125, 1019.9966430664062, 872.0877075195312, 857.8347778320312, 814.0648193359375, 810.8833618164062, 800.1818237304688, 789.9904174804688, 786.624755859375, 771.8126220703125, 771.6451416015625, 742.212158203125, 694.539794921875, 616.2240600585938, 574.9348754882812, 497.96942138671875, 1516.0257568359375, 13053.294921875, 7807.998046875, 3778.237548828125, 22503.646484375, 4607.91748046875, 6893.47265625, 1790.68505859375, 4471.66552734375, 4785.291015625, 12875.1220703125, 6993.38720703125, 15225.6875, 4319.43994140625, 3214.01513671875, 2751.49853515625, 2414.87109375, 2316.190673828125, 2153.444091796875, 1722.5872802734375, 1408.2208251953125, 1277.75537109375, 1053.938720703125, 1029.7618408203125, 1025.0177001953125, 936.6421508789062, 839.9767456054688, 838.3732299804688, 815.0655517578125, 720.0962524414062, 667.60205078125, 652.9384765625, 636.8751220703125, 576.3291625976562, 517.5363159179688, 512.5872192382812, 509.29547119140625, 482.5549011230469, 469.9634704589844, 462.8301086425781, 416.1280517578125, 408.0000915527344, 21464.607421875, 2107.00048828125, 6481.40234375, 3455.504638671875, 4504.56591796875, 12875.1220703125, 19276.197265625, 4471.66552734375, 7443.99658203125, 10027.5986328125, 15599.2412109375, 49313.08203125, 17207.677734375, 3589.9375, 2838.878173828125, 2768.626953125, 2490.58935546875, 2108.72119140625, 1721.325439453125, 1476.76904296875, 1386.6058349609375, 1165.7735595703125, 1079.3970947265625, 926.2074584960938, 881.5120849609375, 851.4141845703125, 780.50830078125, 733.5379028320312, 682.4718017578125, 668.8587646484375, 666.2094116210938, 649.0247802734375, 633.11865234375, 602.9656372070312, 589.1599731445312, 583.4498291015625, 582.9732055664062, 576.0648803710938, 564.99658203125, 563.6971435546875, 550.7722778320312, 521.8807983398438, 517.7900390625, 8395.5703125, 21464.607421875, 4197.701171875, 1334.28857421875, 4073.46826171875, 1310.09716796875, 1051.52392578125, 3527.39794921875, 2242.927734375, 3515.826904296875, 1312.0972900390625, 6221.92041015625, 2938.670166015625, 2284.576904296875, 2141.544677734375, 1807.6590576171875, 1708.2940673828125, 1591.6142578125, 1474.1094970703125, 1357.2225341796875, 1300.769287109375, 1230.44140625, 1195.574951171875, 1186.06640625, 1157.1474609375, 958.8956298828125, 778.3002319335938, 736.0048217773438, 705.7581176757812, 676.9447631835938, 637.39111328125, 617.08984375, 616.7243041992188, 616.5726318359375, 606.7132568359375, 593.0437622070312, 593.091552734375, 578.9702758789062, 572.0303344726562, 568.8933715820312, 559.0336303710938, 19276.197265625, 2966.244873046875, 10065.732421875, 3248.237060546875, 3527.39794921875, 13380.123046875, 3878.03369140625, 19467.130859375, 2512.69970703125, 3191.619140625, 3819.597900390625, 14503.7216796875, 5113.4853515625, 3123.739013671875, 2784.515625, 2532.545166015625, 1642.1585693359375, 1603.5513916015625, 1062.01220703125, 1024.07373046875, 972.1780395507812, 950.8359985351562, 946.9005737304688, 926.8362426757812, 916.043212890625, 900.5701904296875, 856.886962890625, 856.4697875976562, 771.846435546875, 728.4307250976562, 690.8690185546875, 645.6221923828125, 644.4892578125, 626.0153198242188, 622.0193481445312, 541.8035278320312, 530.0552978515625, 499.4545593261719, 494.6709899902344, 491.0735778808594, 479.8551025390625, 3422.025146484375, 5486.119140625, 4471.66552734375, 4020.617431640625, 1438.081298828125, 3370.299072265625, 13408.7080078125, 7226.8662109375, 4976.6611328125, 3176.047119140625, 2551.89404296875, 2160.9873046875, 2030.7181396484375, 1664.2838134765625, 1610.0294189453125, 1038.0687255859375, 978.216064453125, 877.8646850585938, 852.0040893554688, 787.261962890625, 784.3870849609375, 615.7684326171875, 596.8796997070312, 590.9232788085938, 565.5153198242188, 560.5325927734375, 545.4805297851562, 540.5404052734375, 519.1616821289062, 483.0782470703125, 416.6965026855469, 415.6243591308594, 413.4385681152344, 403.0760498046875, 392.85943603515625, 381.52587890625, 380.76690673828125, 6314.98388671875, 3189.880859375, 916.19189453125, 13579.787109375, 3251.032470703125, 13408.7080078125, 4156.54248046875, 7238.3818359375, 5628.14306640625, 4005.87841796875, 2961.861083984375, 2567.8193359375, 2456.497802734375, 1449.9423828125, 1141.984130859375, 1108.7777099609375, 1100.4735107421875, 1070.1287841796875, 923.5223999023438, 853.7647705078125, 841.1187133789062, 787.9849853515625, 746.6178588867188, 738.5745849609375, 711.6732177734375, 707.7523193359375, 666.2566528320312, 509.3580017089844, 492.9452819824219, 490.13665771484375, 476.24627685546875, 449.9999694824219, 447.9422302246094, 439.0107421875, 406.8440856933594, 405.9230041503906, 405.73626708984375, 5392.197265625, 2289.189453125, 5076.9208984375, 7443.99658203125, 2324.324462890625, 1554.62548828125], \"loglift\": [30.0, 29.0, 28.0, 27.0, 26.0, 25.0, 24.0, 23.0, 22.0, 21.0, 20.0, 19.0, 18.0, 17.0, 16.0, 15.0, 14.0, 13.0, 12.0, 11.0, 10.0, 9.0, 8.0, 7.0, 6.0, 5.0, 4.0, 3.0, 2.0, 1.0, 1.8593000173568726, 1.8593000173568726, 1.8593000173568726, 1.8592000007629395, 1.8592000007629395, 1.8590999841690063, 1.8590999841690063, 1.8590999841690063, 1.8589999675750732, 1.8589999675750732, 1.8588999509811401, 1.8588999509811401, 1.8588999509811401, 1.8588000535964966, 1.8588000535964966, 1.8588000535964966, 1.8587000370025635, 1.8586000204086304, 1.8586000204086304, 1.8586000204086304, 1.8585000038146973, 1.8585000038146973, 1.8583999872207642, 1.858299970626831, 1.858299970626831, 1.858299970626831, 1.858299970626831, 1.858299970626831, 1.858199954032898, 1.858199954032898, 1.8106000423431396, 1.756700038909912, 1.7309999465942383, 1.6359000205993652, 1.805400013923645, 1.7168999910354614, 1.551300048828125, 1.6902999877929688, 1.4507999420166016, 1.7723000049591064, 1.2138999700546265, 1.529099941253662, 1.632699966430664, 1.186900019645691, 1.3083000183105469, 1.4040000438690186, 1.2867000102996826, 1.516700029373169, 0.939300000667572, 1.0449999570846558, 0.9128999710083008, 1.2137999534606934, 1.3035999536514282, 1.3082000017166138, 1.253000020980835, 0.646399974822998, 1.0029000043869019, 0.8471999764442444, 0.8888999819755554, 1.215999960899353, 1.1141999959945679, 0.6003000140190125, 0.6438000202178955, 0.12049999833106995, 0.8615999817848206, 1.9032000303268433, 1.9032000303268433, 1.902999997138977, 1.902899980545044, 1.9027999639511108, 1.9026000499725342, 1.902400016784668, 1.9020999670028687, 1.9020999670028687, 1.9019999504089355, 1.901900053024292, 1.901900053024292, 1.901900053024292, 1.901900053024292, 1.9018000364303589, 1.9017000198364258, 1.9016000032424927, 1.9016000032424927, 1.9016000032424927, 1.9012999534606934, 1.9012000560760498, 1.9012000560760498, 1.9012000560760498, 1.9011000394821167, 1.9010000228881836, 1.9007999897003174, 1.9005999565124512, 1.9005999565124512, 1.9005000591278076, 1.9005000591278076, 1.8730000257492065, 1.843500018119812, 1.8216999769210815, 1.8229999542236328, 1.8162000179290771, 1.6160999536514282, 1.7242000102996826, 1.7486000061035156, 1.736299991607666, 1.5514999628067017, 1.7201999425888062, 1.4079999923706055, 1.705199956893921, 1.6203999519348145, 1.5012999773025513, 1.3076000213623047, 1.733299970626831, 1.114799976348877, 1.513100028038025, 1.6913000345230103, 1.2245999574661255, 1.3889000415802002, 1.176200032234192, 1.2705999612808228, 1.2329000234603882, 1.368399977684021, 1.4354000091552734, 0.6996999979019165, 0.9876999855041504, 1.0794999599456787, 1.2440999746322632, 0.6664999723434448, 0.6787999868392944, 0.2492000013589859, 0.40459999442100525, 0.5467000007629395, 1.2623000144958496, 0.7786999940872192, 0.26190000772476196, 0.6455000042915344, 0.36090001463890076, 1.9362000226974487, 1.9361000061035156, 1.9359999895095825, 1.9359999895095825, 1.9358999729156494, 1.9357999563217163, 1.9357999563217163, 1.9357999563217163, 1.9357000589370728, 1.9356000423431396, 1.9356000423431396, 1.9356000423431396, 1.9354000091552734, 1.9354000091552734, 1.9354000091552734, 1.9354000091552734, 1.9354000091552734, 1.9354000091552734, 1.9352999925613403, 1.9352999925613403, 1.9351999759674072, 1.9351999759674072, 1.9351999759674072, 1.9351999759674072, 1.9351999759674072, 1.9351999759674072, 1.9350999593734741, 1.9350999593734741, 1.934999942779541, 1.934999942779541, 1.516800045967102, 1.6885000467300415, 1.7476999759674072, 1.2041000127792358, 1.253600001335144, 1.2285000085830688, 1.038100004196167, 1.184399962425232, 1.333799958229065, 1.3102999925613403, 1.4501999616622925, 1.3349000215530396, 1.4264999628067017, 1.2201999425888062, 1.4805999994277954, 0.7724999785423279, 1.4886000156402588, 1.3187999725341797, 0.7709000110626221, 0.7926999926567078, 0.9186999797821045, 0.570900022983551, 1.00600004196167, 0.8001999855041504, 0.5429999828338623, 0.612500011920929, 1.0781999826431274, 0.6693000197410583, 0.8122000098228455, 1.0865000486373901, 1.2453999519348145, 0.8876000046730042, 0.26829999685287476, 0.8381999731063843, 0.6154000163078308, 0.5151000022888184, 2.2878000736236572, 2.2878000736236572, 2.2876999378204346, 2.2876999378204346, 2.287600040435791, 2.287600040435791, 2.287600040435791, 2.287600040435791, 2.287600040435791, 2.2874999046325684, 2.2874999046325684, 2.2874999046325684, 2.2874999046325684, 2.287400007247925, 2.287400007247925, 2.287400007247925, 2.287400007247925, 2.287400007247925, 2.287400007247925, 2.2873001098632812, 2.2873001098632812, 2.2871999740600586, 2.2871999740600586, 2.2869999408721924, 2.2869999408721924, 2.2869999408721924, 2.2869999408721924, 2.286900043487549, 2.286900043487549, 2.286900043487549, 2.238600015640259, 2.2054998874664307, 2.1902999877929688, 2.197200059890747, 1.945099949836731, 1.9319000244140625, 1.9558000564575195, 1.7142000198364258, 1.714900016784668, 1.8803999423980713, 1.597599983215332, 1.6586999893188477, 1.8170000314712524, 1.6371999979019165, 1.3198000192642212, 1.287600040435791, 0.9438999891281128, 1.5088000297546387, 1.0047999620437622, 1.2431999444961548, 1.3631999492645264, 1.1044000387191772, 0.891700029373169, 1.1172000169754028, 1.0441999435424805, 1.0710999965667725, 1.055299997329712, -0.07020000368356705, 1.1620999574661255, 1.2640999555587769, 1.333299994468689, 0.8845000267028809, 0.822700023651123, 0.41290000081062317, 0.8062000274658203, 2.7118000984191895, 2.7118000984191895, 2.7118000984191895, 2.7118000984191895, 2.7118000984191895, 2.7118000984191895, 2.711699962615967, 2.711699962615967, 2.711699962615967, 2.711699962615967, 2.711699962615967, 2.711699962615967, 2.711699962615967, 2.711699962615967, 2.711699962615967, 2.711699962615967, 2.7116000652313232, 2.7116000652313232, 2.7116000652313232, 2.7116000652313232, 2.7116000652313232, 2.7116000652313232, 2.7116000652313232, 2.7116000652313232, 2.7116000652313232, 2.7116000652313232, 2.7116000652313232, 2.7116000652313232, 2.7114999294281006, 2.7114999294281006, 2.5627999305725098, 2.444000005722046, 2.6315999031066895, 1.9492000341415405, 0.6858000159263611, 3.2611000537872314, 3.260999917984009, 3.260999917984009, 3.2609000205993652, 3.2609000205993652, 3.2609000205993652, 3.2607998847961426, 3.260699987411499, 3.260699987411499, 3.260499954223633, 3.2604000568389893, 3.2604000568389893, 3.2602999210357666, 3.2602999210357666, 3.260200023651123, 3.260200023651123, 3.260200023651123, 3.260200023651123, 3.2600998878479004, 3.2600998878479004, 3.259999990463257, 3.259999990463257, 3.259999990463257, 3.2599000930786133, 3.2599000930786133, 3.2599000930786133, 3.2599000930786133, 3.2597999572753906, 3.2597999572753906, 3.2597999572753906, 2.9876999855041504, 2.9941000938415527, 2.9711999893188477, 2.756200075149536, 3.0223000049591064, 2.56030011177063, 2.709700107574463, 2.3326001167297363, 2.6993000507354736, 2.650599956512451, 2.313800096511841, 1.7884000539779663, 1.5568000078201294, 1.2346999645233154, 1.9805999994277954, 1.8252999782562256, 1.3438999652862549, 1.3395999670028687, 0.9016000032424927, 1.5973000526428223, 0.6011000275611877, 3.329400062561035, 3.329200029373169, 3.329200029373169, 3.3290998935699463, 3.3289999961853027, 3.3289999961853027, 3.3289999961853027, 3.328900098800659, 3.328900098800659, 3.328700065612793, 3.328700065612793, 3.3285000324249268, 3.3285000324249268, 3.328399896621704, 3.328200101852417, 3.3280999660491943, 3.328000068664551, 3.328000068664551, 3.328000068664551, 3.327899932861328, 3.327899932861328, 3.327899932861328, 3.3278000354766846, 3.3278000354766846, 3.327699899673462, 3.327699899673462, 3.3276000022888184, 3.3276000022888184, 3.327500104904175, 3.327399969100952, 3.0596001148223877, 3.1524999141693115, 3.15310001373291, 3.0399999618530273, 2.989799976348877, 2.890899896621704, 3.0127999782562256, 2.948199987411499, 2.918800115585327, 2.599100112915039, 2.0813000202178955, 2.002700090408325, 2.384500026702881, 2.2836999893188477, 1.8726999759674072, 2.740000009536743, 2.802799940109253, 2.6572000980377197, 2.4214000701904297, 1.5404000282287598, 1.9635000228881836, 1.617799997329712, 1.1800999641418457, 1.385200023651123, 3.4323999881744385, 3.432300090789795, 3.4321999549865723, 3.4321999549865723, 3.4321000576019287, 3.431999921798706, 3.431999921798706, 3.431999921798706, 3.4319000244140625, 3.4316999912261963, 3.4316999912261963, 3.43149995803833, 3.4312000274658203, 3.4310998916625977, 3.4310998916625977, 3.4310998916625977, 3.4309000968933105, 3.430799961090088, 3.4307000637054443, 3.4305999279022217, 3.430500030517578, 3.430500030517578, 3.4303998947143555, 3.430299997329712, 3.430299997329712, 3.4302000999450684, 3.4300999641418457, 3.4300999641418457, 3.4298999309539795, 3.4296998977661133, 3.267899990081787, 3.2964999675750732, 3.055999994277954, 2.9565000534057617, 3.115600109100342, 2.930799961090088, 2.887200117111206, 2.891900062561035, 2.259200096130371, 2.4477999210357666, 1.2581000328063965, 1.0602999925613403, 1.8134000301361084, 2.0797998905181885, 1.8839000463485718, 2.2548000812530518, 0.2842000126838684, 1.7141000032424927, 1.2546000480651855, 0.5821999907493591, 3.4779000282287598, 3.4776999950408936, 3.47760009765625, 3.47760009765625, 3.4774999618530273, 3.4774999618530273, 3.4774999618530273, 3.4774999618530273, 3.4774999618530273, 3.477400064468384, 3.477400064468384, 3.477299928665161, 3.4772000312805176, 3.4772000312805176, 3.477099895477295, 3.4769999980926514, 3.476900100708008, 3.476799964904785, 3.4767000675201416, 3.4767000675201416, 3.476599931716919, 3.4765000343322754, 3.4765000343322754, 3.4763998985290527, 3.4763998985290527, 3.476300001144409, 3.476300001144409, 3.476300001144409, 3.476300001144409, 3.4762001037597656, 3.225100040435791, 3.343600034713745, 3.1826000213623047, 3.0871999263763428, 3.13070011138916, 3.150599956512451, 2.780900001525879, 2.5999999046325684, 2.552799940109253, 2.3477001190185547, 2.8001999855041504, 2.303499937057495, 2.3324999809265137, 2.089900016784668, 1.6757999658584595, 1.6576999425888062, 1.743299961090088, 1.8242000341415405, 3.5390000343322754, 3.5388998985290527, 3.5388998985290527, 3.538800001144409, 3.5387001037597656, 3.5387001037597656, 3.538599967956543, 3.538599967956543, 3.5385000705718994, 3.5385000705718994, 3.5385000705718994, 3.5385000705718994, 3.5385000705718994, 3.5383999347686768, 3.538300037384033, 3.538300037384033, 3.5381999015808105, 3.5381999015808105, 3.5381999015808105, 3.5380001068115234, 3.5380001068115234, 3.537899971008301, 3.537899971008301, 3.5378000736236572, 3.5378000736236572, 3.5378000736236572, 3.537400007247925, 3.5373001098632812, 3.5373001098632812, 3.5371999740600586, 3.458699941635132, 3.171299934387207, 3.146399974822998, 2.9482998847961426, 2.469099998474121, 2.9059998989105225, 3.2309000492095947, 2.413599967956543, 3.216200113296509, 3.006700038909912, 2.6767001152038574, 2.684299945831299, 2.7047998905181885, 3.1157000064849854, 1.5053000450134277, 1.5952999591827393, 1.5920000076293945, 1.611299991607666, 1.2115999460220337, 3.5492000579833984, 3.5492000579833984, 3.549099922180176, 3.5490000247955322, 3.5488998889923096, 3.548799991607666, 3.548799991607666, 3.5485999584198, 3.5485000610351562, 3.54830002784729, 3.5481998920440674, 3.548099994659424, 3.548099994659424, 3.5480000972747803, 3.547800064086914, 3.547600030899048, 3.547499895095825, 3.5473999977111816, 3.5473999977111816, 3.547300100326538, 3.547300100326538, 3.5471999645233154, 3.547100067138672, 3.547100067138672, 3.546999931335449, 3.546799898147583, 3.546799898147583, 3.5467000007629395, 3.5467000007629395, 3.546600103378296, 3.3850998878479004, 3.1198999881744385, 2.8143999576568604, 3.2005999088287354, 3.0841000080108643, 2.263200044631958, 2.6389999389648438, 3.2488999366760254, 2.5480000972747803, 3.004300117492676, 1.6304999589920044, 0.7526000142097473, 2.3473000526428223, 1.486299991607666, 2.322000026702881, 2.3757998943328857, 1.3961999416351318, 2.1846001148223877, 3.6494998931884766, 3.649199962615967, 3.6491000652313232, 3.6491000652313232, 3.6491000652313232, 3.648900032043457, 3.648900032043457, 3.6487998962402344, 3.6487998962402344, 3.6487998962402344, 3.6487998962402344, 3.6486001014709473, 3.6484999656677246, 3.6484999656677246, 3.6484999656677246, 3.648400068283081, 3.648400068283081, 3.6482999324798584, 3.6482999324798584, 3.648099899291992, 3.6480000019073486, 3.6477999687194824, 3.647700071334839, 3.647700071334839, 3.6475000381469727, 3.6475000381469727, 3.647200107574463, 3.6470000743865967, 3.6470000743865967, 3.646899938583374, 3.417799949645996, 3.087599992752075, 3.0399999618530273, 3.2513999938964844, 2.0792999267578125, 1.062600016593933, 0.5884000062942505, 1.2598999738693237, 2.1403000354766846, 2.4663000106811523, 0.8704000115394592, 1.4229999780654907, -0.39320001006126404, 0.04230000078678131, 3.701200008392334, 3.701200008392334, 3.701200008392334, 3.7011001110076904, 3.7009999752044678, 3.7007999420166016, 3.7007999420166016, 3.7005999088287354, 3.7004001140594482, 3.7004001140594482, 3.7002999782562256, 3.700200080871582, 3.700200080871582, 3.7000999450683594, 3.7000999450683594, 3.700000047683716, 3.699899911880493, 3.699899911880493, 3.699899911880493, 3.699700117111206, 3.6995999813079834, 3.6995999813079834, 3.6995999813079834, 3.69950008392334, 3.699399948120117, 3.6993000507354736, 3.699199914932251, 3.699199914932251, 3.699199914932251, 3.6991000175476074, 3.6600000858306885, 3.5611000061035156, 3.5090999603271484, 3.180000066757202, 3.2430999279022217, 2.7909998893737793, 2.688699960708618, 2.468100070953369, 3.1677000522613525, 2.746799945831299, 2.4428999423980713, 3.1366000175476074, 2.6770999431610107, 2.762399911880493, 1.4575999975204468, 2.09689998626709, 1.8289999961853027, 2.372499942779541, 2.2499001026153564, 1.5047999620437622, 3.7964000701904297, 3.7962000370025635, 3.796099901199341, 3.7960000038146973, 3.7960000038146973, 3.7960000038146973, 3.7959001064300537, 3.795799970626831, 3.795799970626831, 3.7957000732421875, 3.7957000732421875, 3.7957000732421875, 3.795599937438965, 3.795599937438965, 3.7955000400543213, 3.7955000400543213, 3.795300006866455, 3.795300006866455, 3.795300006866455, 3.795300006866455, 3.7952001094818115, 3.7952001094818115, 3.7952001094818115, 3.7952001094818115, 3.7952001094818115, 3.7952001094818115, 3.795099973678589, 3.7948999404907227, 3.794800043106079, 3.7945001125335693, 3.507699966430664, 2.4895999431610107, 2.63700008392334, 2.95169997215271, 1.9111000299453735, 2.7604000568389893, 2.089200019836426, 3.1291000843048096, 2.322000026702881, 2.211899995803833, 1.2853000164031982, 1.6651999950408936, 3.800600051879883, 3.80049991607666, 3.8004000186920166, 3.800299882888794, 3.800299882888794, 3.800299882888794, 3.8001999855041504, 3.800100088119507, 3.799999952316284, 3.7999000549316406, 3.799799919128418, 3.799799919128418, 3.799799919128418, 3.7997000217437744, 3.7995998859405518, 3.7995998859405518, 3.799499988555908, 3.7994000911712646, 3.799299955368042, 3.7992000579833984, 3.7992000579833984, 3.7990000247955322, 3.7988998889923096, 3.798799991607666, 3.798799991607666, 3.7987000942230225, 3.7987000942230225, 3.7985999584198, 3.7983999252319336, 3.7983999252319336, 3.038300037384033, 3.4667999744415283, 2.942199945449829, 2.8636999130249023, 2.6217000484466553, 1.7578999996185303, 1.3257999420166016, 2.1273999214172363, 1.6936999559402466, 1.4315999746322632, 0.9523000121116638, -0.15479999780654907, 0.7717000246047974, 3.898900032043457, 3.898900032043457, 3.898900032043457, 3.8987998962402344, 3.8987998962402344, 3.8986001014709473, 3.8986001014709473, 3.8984999656677246, 3.898400068283081, 3.8982999324798584, 3.898200035095215, 3.898099899291992, 3.898099899291992, 3.8980000019073486, 3.897900104522705, 3.8977999687194824, 3.8977999687194824, 3.8977999687194824, 3.8977999687194824, 3.897700071334839, 3.897599935531616, 3.897599935531616, 3.897599935531616, 3.897599935531616, 3.897599935531616, 3.8975000381469727, 3.8975000381469727, 3.8975000381469727, 3.89739990234375, 3.89739990234375, 2.8749001026153564, 2.4035000801086426, 2.6665000915527344, 3.362299919128418, 2.519200086593628, 3.3027000427246094, 3.4212000370025635, 2.423099994659424, 2.749300003051758, 2.3187999725341797, 3.172800064086914, 3.9133999347686768, 3.9131999015808105, 3.913100004196167, 3.913100004196167, 3.9130001068115234, 3.9130001068115234, 3.912899971008301, 3.912899971008301, 3.9128000736236572, 3.9128000736236572, 3.9126999378204346, 3.9126999378204346, 3.9126999378204346, 3.9126999378204346, 3.9124999046325684, 3.9123001098632812, 3.9121999740600586, 3.9121999740600586, 3.912100076675415, 3.9119999408721924, 3.9119999408721924, 3.9119999408721924, 3.9119999408721924, 3.9119999408721924, 3.911900043487549, 3.911900043487549, 3.911900043487549, 3.911900043487549, 3.911900043487549, 3.911799907684326, 3.270900011062622, 3.1698999404907227, 2.483099937438965, 3.0397000312805176, 2.9567999839782715, 2.1572000980377197, 2.78410005569458, 1.7141000032424927, 2.747999906539917, 2.512399911880493, 2.1242001056671143, 3.978300094604492, 3.9781999588012695, 3.978100061416626, 3.9779999256134033, 3.9779999256134033, 3.977799892425537, 3.977799892425537, 3.9774999618530273, 3.977400064468384, 3.977400064468384, 3.977400064468384, 3.977400064468384, 3.977299928665161, 3.977299928665161, 3.977299928665161, 3.977299928665161, 3.977299928665161, 3.977099895477295, 3.977099895477295, 3.9769999980926514, 3.976900100708008, 3.976900100708008, 3.976900100708008, 3.976900100708008, 3.976599931716919, 3.976599931716919, 3.9765000343322754, 3.9765000343322754, 3.9765000343322754, 3.9763998985290527, 3.6219000816345215, 2.752500057220459, 2.421299934387207, 2.340100049972534, 3.109800100326538, 2.3280999660491943, 0.9334999918937683, 4.0644001960754395, 4.064300060272217, 4.064199924468994, 4.064199924468994, 4.0640997886657715, 4.0640997886657715, 4.064000129699707, 4.064000129699707, 4.063600063323975, 4.063600063323975, 4.063499927520752, 4.063399791717529, 4.063300132751465, 4.063300132751465, 4.063000202178955, 4.063000202178955, 4.063000202178955, 4.062900066375732, 4.062900066375732, 4.06279993057251, 4.06279993057251, 4.062699794769287, 4.062600135803223, 4.062300205230713, 4.062300205230713, 4.062300205230713, 4.06220006942749, 4.06220006942749, 4.062099933624268, 4.062099933624268, 3.765199899673462, 3.6103999614715576, 3.723099946975708, 2.0462000370025635, 2.819000005722046, 1.9020999670028687, 2.5306999683380127, 4.113900184631348, 4.113900184631348, 4.113800048828125, 4.113699913024902, 4.113699913024902, 4.113699913024902, 4.113399982452393, 4.1132001876831055, 4.1132001876831055, 4.1132001876831055, 4.1132001876831055, 4.11299991607666, 4.11299991607666, 4.1128997802734375, 4.1128997802734375, 4.112800121307373, 4.112800121307373, 4.11269998550415, 4.11269998550415, 4.11269998550415, 4.112199783325195, 4.112199783325195, 4.112100124359131, 4.112100124359131, 4.111999988555908, 4.111999988555908, 4.1118998527526855, 4.111800193786621, 4.111700057983398, 4.111700057983398, 3.9154000282287598, 3.740600109100342, 2.59689998626709, 2.3034000396728516, 2.8094000816345215, 2.9711999893188477], \"logprob\": [30.0, 29.0, 28.0, 27.0, 26.0, 25.0, 24.0, 23.0, 22.0, 21.0, 20.0, 19.0, 18.0, 17.0, 16.0, 15.0, 14.0, 13.0, 12.0, 11.0, 10.0, 9.0, 8.0, 7.0, 6.0, 5.0, 4.0, 3.0, 2.0, 1.0, -4.395199775695801, -4.471499919891357, -4.551000118255615, -5.093800067901611, -5.237599849700928, -5.412199974060059, -5.648600101470947, -5.672999858856201, -5.769599914550781, -5.825699806213379, -6.046000003814697, -6.049499988555908, -6.111100196838379, -6.183499813079834, -6.2729997634887695, -6.283199787139893, -6.344299793243408, -6.477700233459473, -6.491099834442139, -6.550099849700928, -6.583099842071533, -6.611999988555908, -6.723199844360352, -6.785600185394287, -6.7870001792907715, -6.807300090789795, -6.833499908447266, -6.853899955749512, -6.9019999504089355, -6.908199787139893, -5.500800132751465, -4.276299953460693, -4.791399955749512, -3.968899965286255, -6.13100004196167, -5.3582000732421875, -3.936000108718872, -5.203999996185303, -4.006700038909912, -6.054100036621094, -3.3910000324249268, -4.951600074768066, -5.443999767303467, -3.6561999320983887, -4.384099960327148, -4.767499923706055, -4.429999828338623, -5.215799808502197, -3.5696001052856445, -3.9479000568389893, -3.646399974822998, -4.4583001136779785, -4.743500232696533, -4.759399890899658, -4.670499801635742, -3.646699905395508, -4.367700099945068, -4.36269998550415, -4.531400203704834, -4.884200096130371, -4.807300090789795, -4.478600025177002, -4.604400157928467, -4.365900039672852, -4.793900012969971, -3.7706000804901123, -4.065199851989746, -5.197400093078613, -5.697999954223633, -5.790999889373779, -6.248600006103516, -6.5040998458862305, -6.775100231170654, -6.803599834442139, -6.855999946594238, -6.952499866485596, -6.963799953460693, -6.9730000495910645, -6.986199855804443, -7.074999809265137, -7.083099842071533, -7.156700134277344, -7.178699970245361, -7.196000099182129, -7.330900192260742, -7.381800174713135, -7.390900135040283, -7.393099784851074, -7.422500133514404, -7.477499961853027, -7.55109977722168, -7.6350998878479, -7.660299777984619, -7.667300224304199, -7.677700042724609, -5.471199989318848, -4.249899864196777, -5.311500072479248, -5.413099765777588, -5.735199928283691, -3.2844998836517334, -4.797299861907959, -5.329500198364258, -5.497200012207031, -3.696700096130371, -5.442800045013428, -2.884999990463257, -5.467599868774414, -4.858699798583984, -4.24429988861084, -3.1789000034332275, -6.052499771118164, -2.9560000896453857, -4.996699810028076, -5.903500080108643, -4.14300012588501, -5.025400161743164, -4.316199779510498, -4.66349983215332, -4.674300193786621, -5.095200061798096, -5.2733001708984375, -3.859600067138672, -4.446499824523926, -4.752600193023682, -4.978600025177002, -4.491799831390381, -4.578700065612793, -4.259699821472168, -4.438399791717529, -4.675099849700928, -5.112800121307373, -4.951000213623047, -4.816999912261963, -5.01230001449585, -5.009699821472168, -4.432600021362305, -5.121500015258789, -5.619999885559082, -5.677499771118164, -5.885700225830078, -5.955699920654297, -5.979800224304199, -6.0843000411987305, -6.194499969482422, -6.331500053405762, -6.386600017547607, -6.404200077056885, -6.537700176239014, -6.574900150299072, -6.578499794006348, -6.624499797821045, -6.628499984741211, -6.629700183868408, -6.683700084686279, -6.71999979019165, -6.738500118255615, -6.755000114440918, -6.778200149536133, -6.7789998054504395, -6.80079984664917, -6.811600208282471, -6.861499786376953, -6.873700141906738, -6.940800189971924, -6.952000141143799, -3.5943000316619873, -5.189899921417236, -5.8668999671936035, -3.954200029373169, -4.180699825286865, -4.139100074768066, -3.4707999229431152, -4.037399768829346, -4.596099853515625, -4.521900177001953, -5.031799793243408, -4.704400062561035, -5.037399768829346, -4.440800189971924, -5.2266998291015625, -3.29830002784729, -5.322400093078613, -4.939199924468994, -3.7883999347686768, -4.200200080871582, -4.452000141143799, -3.9154999256134033, -4.651199817657471, -4.4096999168396, -4.061999797821045, -4.230599880218506, -4.849100112915039, -4.409599781036377, -4.608099937438965, -4.909900188446045, -5.058800220489502, -4.828999996185303, -4.632299900054932, -4.8933000564575195, -4.842100143432617, -4.873600006103516, -4.430799961090088, -4.480100154876709, -4.940499782562256, -4.962699890136719, -5.264800071716309, -5.3557000160217285, -5.3765997886657715, -5.4096999168396, -5.452300071716309, -5.487800121307373, -5.595300197601318, -5.610199928283691, -5.64739990234375, -5.698400020599365, -5.714300155639648, -5.75629997253418, -5.766900062561035, -5.7916998863220215, -5.81279993057251, -5.894700050354004, -5.94789981842041, -6.0183000564575195, -6.031300067901611, -6.24370002746582, -6.247499942779541, -6.291500091552734, -6.301400184631348, -6.372799873352051, -6.373199939727783, -6.382400035858154, -5.755499839782715, -5.573800086975098, -5.46750020980835, -5.8053998947143555, -4.8358001708984375, -4.9257001876831055, -5.111700057983398, -4.383600234985352, -4.429699897766113, -4.981900215148926, -4.449399948120117, -4.678500175476074, -4.98390007019043, -4.680600166320801, -4.172500133514404, -4.621799945831299, -4.26609992980957, -4.889400005340576, -4.383800029754639, -4.652100086212158, -4.7820000648498535, -4.5528998374938965, -4.365799903869629, -4.594900131225586, -4.611199855804443, -4.674499988555908, -4.676199913024902, -4.140999794006348, -4.785799980163574, -4.846700191497803, -4.910900115966797, -4.776500225067139, -4.835100173950195, -4.808899879455566, -4.923399925231934, -4.699900150299072, -4.729400157928467, -4.745500087738037, -4.805099964141846, -4.812399864196777, -4.838500022888184, -4.918099880218506, -4.924499988555908, -4.933300018310547, -4.939599990844727, -4.970900058746338, -5.030099868774414, -5.053599834442139, -5.0833001136779785, -5.12529993057251, -5.127200126647949, -5.13539981842041, -5.151000022888184, -5.180500030517578, -5.200099945068359, -5.211599826812744, -5.213399887084961, -5.227799892425537, -5.243800163269043, -5.257900238037109, -5.278500080108643, -5.281400203704834, -5.297399997711182, -5.377099990844727, -5.389100074768066, -4.651800155639648, -4.719799995422363, -5.267000198364258, -5.099699974060059, -5.209499835968018, -3.668600082397461, -3.9028000831604004, -4.067500114440918, -4.165299892425537, -4.186500072479248, -4.303999900817871, -4.563300132751465, -4.64709997177124, -4.6570000648498535, -4.959199905395508, -5.102799892425537, -5.193900108337402, -5.257299900054932, -5.26639986038208, -5.3196001052856445, -5.339600086212158, -5.3607001304626465, -5.397799968719482, -5.444799900054932, -5.448200225830078, -5.5335001945495605, -5.554800033569336, -5.556000232696533, -5.581999778747559, -5.60230016708374, -5.613399982452393, -5.61899995803833, -5.6732001304626465, -5.707499980926514, -5.711699962615967, -3.2063000202178955, -4.143899917602539, -4.127500057220459, -3.4416000843048096, -4.784299850463867, -3.3343000411987305, -3.924499988555908, -3.201900005340576, -4.572199821472168, -4.608500003814697, -4.202899932861328, -4.106900215148926, -3.987499952316284, -3.8441998958587646, -4.444799900054932, -4.492499828338623, -4.4120001792907715, -4.6082000732421875, -4.532700061798096, -4.727399826049805, -4.620699882507324, -3.279900074005127, -3.9628000259399414, -4.097599983215332, -4.361199855804443, -4.5971999168396, -4.600299835205078, -4.651899814605713, -4.790599822998047, -4.80649995803833, -5.079699993133545, -5.086100101470947, -5.210700035095215, -5.251399993896484, -5.362100124359131, -5.532100200653076, -5.5817999839782715, -5.664599895477295, -5.682300090789795, -5.686100006103516, -5.695300102233887, -5.700200080871582, -5.7204999923706055, -5.76140022277832, -5.786600112915039, -5.817500114440918, -5.841400146484375, -5.880499839782715, -5.913300037384033, -5.9191999435424805, -6.006499767303467, -2.805799961090088, -4.395400047302246, -4.6793999671936035, -4.335000038146973, -4.334400177001953, -4.084400177001953, -4.855100154876709, -4.747200012207031, -4.795300006866455, -4.180300235748291, -3.1761999130249023, -3.3859000205993652, -4.253300189971924, -4.233399868011475, -3.8394999504089355, -4.863100051879883, -4.973700046539307, -4.884300231933594, -4.839900016784668, -4.506499767303467, -4.769899845123291, -4.76669979095459, -4.715199947357178, -4.743899822235107, -3.3048999309539795, -3.8636999130249023, -4.059500217437744, -4.248700141906738, -4.2652997970581055, -4.547800064086914, -4.6296000480651855, -4.638700008392334, -4.785699844360352, -4.934800148010254, -5.019499778747559, -5.236599922180176, -5.46619987487793, -5.496500015258789, -5.5019001960754395, -5.531799793243408, -5.619100093841553, -5.717400074005127, -5.748600006103516, -5.819799900054932, -5.8531999588012695, -5.865699768066406, -5.8942999839782715, -5.942500114440918, -5.967599868774414, -6.017899990081787, -6.039400100708008, -6.054599761962891, -6.100299835205078, -6.172999858856201, -2.1215999126434326, -4.054500102996826, -3.3919999599456787, -3.677799940109253, -4.544099807739258, -4.486100196838379, -4.373700141906738, -4.43310022354126, -3.1775999069213867, -3.9275999069213867, -3.34689998626709, -3.232800006866455, -4.120699882507324, -4.58050012588501, -4.500500202178955, -4.813799858093262, -3.786600112915039, -4.603700160980225, -4.501299858093262, -4.675300121307373, -3.035599946975708, -3.9189999103546143, -4.104100227355957, -4.230899810791016, -4.321199893951416, -4.359600067138672, -4.416399955749512, -4.434100151062012, -4.462299823760986, -4.533599853515625, -4.572199821472168, -4.723800182342529, -4.842599868774414, -4.86269998550415, -4.947400093078613, -5.061500072479248, -5.146999835968018, -5.233399868011475, -5.31279993057251, -5.330699920654297, -5.39900016784668, -5.462900161743164, -5.501699924468994, -5.578800201416016, -5.582499980926514, -5.622000217437744, -5.626699924468994, -5.627200126647949, -5.633999824523926, -5.670000076293945, -4.16480016708374, -4.981100082397461, -4.240200042724609, -4.0605998039245605, -4.389800071716309, -4.67549991607666, -3.714900016784668, -3.88919997215271, -4.340700149536133, -4.162099838256836, -4.7129998207092285, -4.3069000244140625, -4.454500198364258, -4.406300067901611, -4.345699787139893, -4.643099784851074, -4.720799922943115, -4.792200088500977, -3.291100025177002, -3.7177999019622803, -3.726300001144409, -4.007900238037109, -4.324699878692627, -4.37470006942749, -4.430099964141846, -4.509699821472168, -4.607800006866455, -4.609899997711182, -4.6107001304626465, -4.629300117492676, -4.636000156402588, -4.816699981689453, -4.911099910736084, -4.941199779510498, -5.030399799346924, -5.037600040435791, -5.047900199890137, -5.179500102996826, -5.232800006866455, -5.254300117492676, -5.319699764251709, -5.3597002029418945, -5.36269998550415, -5.388299942016602, -5.6255998611450195, -5.651700019836426, -5.688199996948242, -5.698299884796143, -4.936699867248535, -3.82669997215271, -3.8550000190734863, -3.785099983215332, -3.1863999366760254, -4.387899875640869, -4.898099899291992, -3.926300048828125, -4.925099849700928, -4.717899799346924, -4.449699878692627, -4.6092000007629395, -4.744900226593018, -4.901400089263916, -4.681099891662598, -4.70550012588501, -4.743100166320801, -4.8028998374938965, -4.821400165557861, -2.2523000240325928, -2.765700101852417, -3.5690999031066895, -3.762700080871582, -4.181000232696533, -4.253300189971924, -4.2729997634887695, -4.599999904632568, -4.85099983215332, -5.001399993896484, -5.150599956512451, -5.1894001960754395, -5.195499897003174, -5.27839994430542, -5.420199871063232, -5.559899806976318, -5.592100143432617, -5.642000198364258, -5.67549991607666, -5.72130012512207, -5.736000061035156, -5.742199897766113, -5.793399810791016, -5.811800003051758, -5.8618998527526855, -5.920899868011475, -5.95359992980957, -5.980899810791016, -5.993500232696533, -5.995800018310547, -2.1377999782562256, -2.5957999229431152, -4.19920015335083, -5.190000057220459, -5.040299892425537, -3.646199941635132, -4.537899971008301, -5.422800064086914, -4.57889986038208, -5.135499954223633, -4.2967000007629395, -4.147900104522705, -5.017600059509277, -4.800600051879883, -5.198400020599365, -5.227499961853027, -5.082900047302246, -5.2382001876831055, -1.7764999866485596, -3.798799991607666, -3.969399929046631, -4.018799781799316, -4.044000148773193, -4.363999843597412, -4.394899845123291, -4.570199966430664, -4.581099987030029, -4.589799880981445, -4.621600151062012, -4.860899925231934, -4.899499893188477, -4.900899887084961, -4.984499931335449, -4.995999813079834, -5.035600185394287, -5.1016998291015625, -5.115600109100342, -5.239999771118164, -5.333600044250488, -5.447000026702881, -5.529099941253662, -5.539999961853027, -5.632999897003174, -5.640399932861328, -5.755099773406982, -5.835899829864502, -5.850299835205078, -5.867499828338623, -4.3414998054504395, -4.086299896240234, -4.026899814605713, -5.024600028991699, -3.4649999141693115, -3.5423998832702637, -3.4823999404907227, -4.274499893188477, -4.926400184631348, -5.075399875640869, -4.885499954223633, -4.975200176239014, -4.8796000480651855, -5.06879997253418, -3.1679999828338623, -3.3498001098632812, -3.4586000442504883, -3.636899948120117, -3.906100034713745, -4.295000076293945, -4.319799900054932, -4.584700107574463, -4.818900108337402, -4.877699851989746, -4.990600109100342, -5.017300128936768, -5.058599948883057, -5.1280999183654785, -5.146500110626221, -5.212800025939941, -5.2555999755859375, -5.287700176239014, -5.292399883270264, -5.395400047302246, -5.457699775695801, -5.463699817657471, -5.479599952697754, -5.496200084686279, -5.545300006866455, -5.596399784088135, -5.646599769592285, -5.656799793243408, -5.666200160980225, -5.69950008392334, -3.7093000411987305, -2.6254000663757324, -4.466700077056885, -3.4921000003814697, -3.8838000297546387, -2.743499994277954, -3.8838999271392822, -3.571199893951416, -4.779900074005127, -4.319900035858154, -3.9825000762939453, -4.896900177001953, -4.585999965667725, -4.787499904632568, -4.298299789428711, -4.627900123596191, -4.6666998863220215, -4.8734002113342285, -4.8881001472473145, -4.8796000480651855, -1.9259999990463257, -3.3203001022338867, -3.4600000381469727, -3.815000057220459, -3.9670000076293945, -3.9946000576019287, -4.169899940490723, -4.254700183868408, -4.2677001953125, -4.3927001953125, -4.474699974060059, -4.495699882507324, -4.589700222015381, -4.596799850463867, -4.634099960327148, -4.687900066375732, -4.844699859619141, -4.861199855804443, -4.913599967956543, -4.917500019073486, -4.930799961090088, -4.943699836730957, -4.94789981842041, -4.9670000076293945, -4.967199802398682, -5.006100177764893, -5.0725998878479, -5.192399978637695, -5.261899948120117, -5.405799865722656, -4.5792999267578125, -3.4446001052856445, -3.811000108718872, -4.2221999168396, -3.4783999919891357, -4.215000152587891, -4.483399868011475, -4.791500091552734, -4.6834001541137695, -4.7256999015808105, -4.662600040435791, -4.89300012588501, -1.979599952697754, -3.2395999431610107, -3.5352001190185547, -3.690700054168701, -3.821199893951416, -3.86299991607666, -3.935800075531006, -4.159200191497803, -4.360799789428711, -4.458099842071533, -4.6508002281188965, -4.674099922180176, -4.678699970245361, -4.768899917602539, -4.877999782562256, -4.879899978637695, -4.908100128173828, -5.032100200653076, -5.107900142669678, -5.130199909210205, -5.155099868774414, -5.255199909210205, -5.36299991607666, -5.372600078582764, -5.379000186920166, -5.43310022354126, -5.45959997177124, -5.474899768829346, -5.581500053405762, -5.60129976272583, -2.3984999656677246, -4.291100025177002, -3.691999912261963, -4.399499893188477, -4.376399993896484, -4.189899921417236, -4.218500137329102, -4.877999782562256, -4.802000045776367, -4.766200065612793, -4.803599834442139, -4.759799957275391, -4.886099815368652, -3.3261001110076904, -3.5608999729156494, -3.585900068283081, -3.691800117492676, -3.858299970626831, -4.061399936676025, -4.214700222015381, -4.2778000831604, -4.451399803161621, -4.52839994430542, -4.681600093841553, -4.731100082397461, -4.765900135040283, -4.853000164031982, -4.91510009765625, -4.987400054931641, -5.007500171661377, -5.011499881744385, -5.037700176239014, -5.0625, -5.111400127410889, -5.1346001625061035, -5.144400119781494, -5.145199775695801, -5.157100200653076, -5.176599979400635, -5.178899765014648, -5.202099800109863, -5.256100177764893, -5.263999938964844, -3.5006000995635986, -3.0332000255584717, -4.402100086212158, -4.852499961853027, -4.579400062561035, -4.9303998947143555, -5.031700134277344, -4.819499969482422, -4.946100234985352, -4.92710018157959, -5.058700084686279, -2.761699914932251, -3.51200008392334, -3.7639000415802, -3.8285999298095703, -3.9981000423431396, -4.054699897766113, -4.125500202178955, -4.202199935913086, -4.284900188446045, -4.327400207519531, -4.382999897003174, -4.411799907684326, -4.4197998046875, -4.444499969482422, -4.632599830627441, -4.8414998054504395, -4.89739990234375, -4.939499855041504, -4.981200218200684, -5.041500091552734, -5.07390022277832, -5.07450008392334, -5.074699878692627, -5.09089994430542, -5.113699913024902, -5.11359977722168, -5.137800216674805, -5.149799823760986, -5.155399799346924, -5.172900199890137, -2.273400068283081, -4.245999813079834, -3.710900068283081, -4.285399913787842, -4.285699844360352, -3.7520999908447266, -4.363699913024902, -3.8203001022338867, -4.833799839019775, -4.8302001953125, -5.03879976272583, -1.8504999876022339, -2.8931000232696533, -3.3861000537872314, -3.5011000633239746, -3.595900058746338, -4.029399871826172, -4.053199768066406, -4.4654998779296875, -4.5019001960754395, -4.553999900817871, -4.576200008392334, -4.5802998542785645, -4.601799964904785, -4.613500118255615, -4.6305999755859375, -4.680300235748291, -4.680799961090088, -4.784999847412109, -4.842899799346924, -4.895999908447266, -4.963799953460693, -4.9654998779296875, -4.994699954986572, -5.001100063323975, -5.139400005340576, -5.161300182342529, -5.220900058746338, -5.230500221252441, -5.2378997802734375, -5.261000156402588, -3.651099920272827, -4.048399925231934, -4.584099769592285, -4.771599769592285, -5.030099868774414, -4.960100173950195, -4.973700046539307, -2.460900068283081, -2.8340001106262207, -3.2832999229431152, -3.5020999908447266, -3.6684999465942383, -3.7307000160217285, -3.929800033569336, -3.962899923324585, -4.402200222015381, -4.461599826812744, -4.569900035858154, -4.599899768829346, -4.678999900817871, -4.682700157165527, -4.925000190734863, -4.956200122833252, -4.966300010681152, -5.010300159454346, -5.019199848175049, -5.04640007019043, -5.055500030517578, -5.0960001945495605, -5.168099880218506, -5.316299915313721, -5.31879997253418, -5.324100017547607, -5.349599838256836, -5.37529993057251, -5.404600143432617, -5.406599998474121, -2.8949999809265137, -3.7327001094818115, -4.867599964141846, -3.848299980163574, -4.505199909210205, -4.005199909210205, -4.547699928283691, -2.4098000526428223, -2.6614999771118164, -3.0016000270843506, -3.3036000728607178, -3.4463999271392822, -3.4907000064849854, -4.018199920654297, -4.2571001052856445, -4.2866997718811035, -4.2941999435424805, -4.322199821472168, -4.469699859619141, -4.548299789428711, -4.563199996948242, -4.628600120544434, -4.682600021362305, -4.693399906158447, -4.730500221252441, -4.736100196838379, -4.796599864959717, -5.065499782562256, -5.098400115966797, -5.104100227355957, -5.132900238037109, -5.189700126647949, -5.194300174713135, -5.2144999504089355, -5.2906999588012695, -5.293000221252441, -5.293499946594238, -2.9028000831604004, -3.934299945831299, -4.281499862670898, -4.192399978637695, -4.850299835205078, -5.090700149536133]}, \"token.table\": {\"Topic\": [18, 14, 2, 2, 5, 11, 16, 12, 17, 7, 3, 7, 1, 2, 3, 4, 6, 8, 2, 2, 3, 5, 13, 9, 8, 1, 19, 11, 5, 11, 3, 4, 7, 6, 10, 2, 4, 10, 1, 3, 1, 10, 16, 2, 4, 11, 15, 11, 18, 19, 11, 13, 14, 15, 9, 17, 1, 1, 2, 3, 18, 1, 2, 8, 12, 8, 10, 12, 17, 16, 20, 4, 11, 6, 13, 7, 16, 17, 8, 3, 15, 4, 16, 3, 8, 15, 11, 6, 11, 13, 8, 12, 13, 20, 7, 9, 11, 20, 1, 2, 3, 4, 8, 13, 2, 4, 7, 15, 2, 17, 17, 8, 4, 4, 11, 3, 6, 8, 10, 12, 14, 5, 16, 19, 6, 17, 20, 2, 17, 8, 8, 11, 20, 20, 13, 8, 16, 17, 17, 1, 10, 16, 15, 15, 7, 15, 9, 17, 16, 9, 4, 17, 9, 13, 20, 19, 1, 12, 13, 5, 9, 8, 2, 20, 13, 10, 4, 13, 9, 10, 15, 10, 2, 8, 20, 6, 12, 15, 17, 6, 18, 17, 7, 19, 8, 14, 10, 8, 15, 6, 13, 3, 6, 19, 6, 20, 3, 11, 20, 16, 10, 2, 3, 4, 9, 12, 11, 8, 9, 19, 16, 6, 19, 20, 1, 2, 3, 4, 6, 8, 11, 7, 12, 7, 4, 9, 12, 9, 10, 12, 10, 13, 7, 2, 3, 4, 11, 8, 10, 1, 3, 4, 6, 14, 3, 4, 10, 19, 18, 18, 16, 18, 11, 19, 14, 7, 16, 17, 20, 20, 12, 5, 9, 20, 1, 2, 1, 4, 12, 13, 15, 16, 2, 20, 3, 2, 4, 16, 2, 7, 2, 3, 4, 18, 2, 3, 6, 19, 3, 12, 13, 12, 12, 16, 4, 13, 14, 13, 1, 2, 3, 4, 1, 6, 20, 2, 7, 10, 1, 2, 3, 4, 7, 3, 13, 3, 1, 15, 3, 7, 18, 7, 20, 10, 15, 16, 10, 16, 7, 14, 12, 3, 5, 10, 11, 6, 14, 1, 4, 11, 9, 11, 7, 13, 15, 17, 2, 2, 10, 3, 5, 5, 1, 2, 3, 6, 8, 12, 15, 14, 10, 8, 20, 19, 15, 2, 3, 4, 7, 11, 18, 9, 7, 1, 2, 3, 4, 6, 2, 3, 7, 2, 3, 2, 7, 12, 20, 4, 8, 1, 2, 3, 4, 7, 18, 12, 14, 20, 7, 12, 11, 4, 18, 15, 19, 1, 2, 5, 12, 18, 7, 12, 13, 20, 4, 2, 8, 5, 16, 2, 3, 12, 12, 4, 3, 20, 2, 1, 1, 2, 3, 4, 7, 9, 12, 9, 10, 1, 3, 4, 19, 9, 3, 7, 8, 13, 5, 6, 15, 17, 4, 10, 20, 9, 1, 2, 8, 16, 12, 15, 16, 18, 12, 2, 3, 6, 14, 19, 6, 1, 17, 2, 3, 4, 10, 11, 2, 14, 8, 15, 16, 2, 5, 18, 10, 5, 12, 2, 8, 3, 1, 2, 3, 8, 12, 18, 6, 19, 1, 2, 3, 4, 8, 12, 10, 14, 17, 4, 18, 1, 2, 3, 17, 1, 2, 3, 4, 8, 12, 15, 17, 19, 4, 20, 6, 10, 2, 3, 11, 3, 6, 20, 3, 8, 14, 15, 18, 3, 1, 2, 4, 10, 3, 9, 11, 9, 4, 13, 18, 20, 11, 20, 13, 9, 6, 13, 8, 2, 4, 2, 2, 7, 9, 12, 12, 2, 10, 9, 12, 13, 15, 20, 16, 11, 9, 12, 2, 10, 2, 3, 8, 12, 16, 17, 1, 2, 3, 4, 12, 14, 2, 8, 20, 18, 16, 14, 11, 18, 4, 8, 1, 12, 6, 6, 7, 2, 12, 14, 2, 3, 7, 6, 16, 19, 11, 15, 9, 6, 17, 2, 10, 18, 1, 2, 3, 4, 9, 4, 1, 9, 2, 4, 8, 10, 12, 13, 1, 17, 1, 17, 19, 14, 1, 12, 18, 1, 2, 4, 5, 7, 14, 17, 5, 8, 5, 5, 6, 7, 1, 3, 4, 8, 3, 13, 1, 18, 11, 4, 11, 11, 1, 2, 3, 4, 6, 8, 12, 14, 7, 2, 17, 2, 9, 1, 20, 16, 1, 8, 2, 3, 7, 2, 8, 14, 17, 7, 6, 9, 13, 19, 10, 1, 2, 3, 4, 5, 6, 9, 10, 1, 11, 7, 10, 14, 3, 14, 14, 14, 7, 2, 13, 3, 7, 9, 12, 1, 2, 3, 4, 7, 8, 3, 6, 8, 15, 5, 15, 10, 11, 8, 9, 2, 3, 4, 7, 11, 15, 15, 10, 18, 8, 15, 15, 1, 1, 4, 12, 13, 9, 1, 8, 17, 2, 4, 9, 6, 1, 2, 3, 4, 6, 8, 12, 15, 5, 15, 11, 5, 16, 9, 2, 7, 18, 4, 16, 13, 7, 11, 2, 12, 1, 2, 3, 2, 3, 4, 9, 10, 12, 3, 4, 9, 10, 14, 4, 8, 2, 3, 4, 15, 15, 1, 4, 11, 17, 7, 8, 5, 3, 13, 5, 2, 3, 4, 6, 7, 8, 9, 10, 2, 19, 1, 8, 10, 19, 2, 3, 4, 6, 7, 9, 11, 15, 2, 12, 4, 7, 12, 15, 4, 11, 15, 18, 6, 20, 20, 13, 6, 16, 1, 2, 3, 6, 7, 13, 1, 3, 7, 8, 12, 15, 12, 19, 4, 13, 17, 4, 18, 19, 6, 19, 4, 5, 17, 3, 20, 20, 19, 2, 7, 3, 2, 9, 14, 4, 10, 4, 10, 7, 14, 16, 3, 5, 11, 15, 1, 2, 9, 10, 7, 8, 14, 16, 20, 12, 2, 3, 6, 13, 3, 13, 3, 3, 14, 16, 6, 1, 6, 8, 13, 19, 8, 2, 3, 12, 18, 19, 12, 1, 2, 3, 4, 12, 17, 4, 7, 10, 11, 18, 4, 13, 14, 10, 10, 9, 3, 7, 8, 3, 2, 7, 8, 13, 11, 6, 15, 16, 8, 13, 19, 12, 2, 7, 4, 1, 2, 3, 4, 8, 12, 2, 4, 8, 13, 7, 9, 18, 13, 11, 17, 20, 2, 4, 8, 12, 19, 13, 13, 2, 2, 4, 7, 8, 3, 10, 13, 18, 20, 6, 1, 12, 1, 2, 3, 4, 2, 8, 5, 13, 11, 19, 6, 13, 10, 17, 12, 12, 4, 2, 16, 15, 14, 3, 10, 7, 1, 2, 3, 4, 7, 8, 7, 10, 1, 3, 4, 9, 8, 13, 8, 16, 9, 2, 3, 4, 6, 9, 10, 12, 15, 17, 3, 8, 19, 10, 1, 1, 11, 18, 15, 19, 14, 7, 14, 19, 15, 7, 16, 7, 4, 11, 18, 19, 1, 17, 6, 12, 13, 17, 12, 20, 17, 1, 2, 3, 4, 12, 3, 16, 5, 15, 1, 4, 10, 5, 7, 1, 2, 3, 4, 5, 9, 1, 4, 8, 11, 14, 1, 2, 4, 5, 6, 7, 8, 1, 2, 4, 7, 10, 1, 2, 16, 7, 9, 12, 11, 1, 10, 3, 13, 1, 2, 3, 4, 6, 14, 15, 1, 14, 1, 2, 4, 11, 13, 10, 6, 5, 9, 11, 2, 3, 4, 7, 8, 12, 5, 1, 5, 5, 15, 2, 7, 13, 1, 4, 8, 9, 9, 8, 14, 2, 13, 5, 2, 3, 4, 8, 11, 11, 13, 3, 8, 19, 7, 12, 6, 14, 19, 2, 7, 2, 14, 1, 3, 10, 17, 12, 4, 7, 5, 2, 4, 6, 10, 14, 18, 6, 14, 1, 3, 18, 19, 17, 1, 8, 7, 5, 18, 2, 3, 6, 17, 19, 9, 3, 6, 13, 15, 1, 4, 10, 3, 1, 2, 3, 8, 12, 19, 3, 1, 3, 4, 6, 7, 8, 12, 13, 15, 4, 6, 8, 13, 14, 1, 19, 8, 17, 5, 8, 20, 14, 8, 5, 13, 6, 1, 2, 3, 4, 1, 3, 4, 1, 12, 10, 2, 1, 2, 3, 2, 10, 20, 5, 18, 8, 19, 6, 3, 4, 6, 10, 12, 15, 2, 16, 3, 5, 11, 15, 1, 2, 3, 4, 12, 19, 16, 18, 4, 1, 7, 11, 13, 4, 1, 2, 3, 4, 5, 6, 8, 12, 6, 6, 7, 2, 7, 6, 6, 3, 4, 20, 17, 15, 1, 2, 7, 1, 10, 10, 1, 4, 9, 1, 2, 3, 12, 1, 10, 18, 5, 10, 9, 2, 5, 5, 1, 2, 3, 4, 7, 13, 15, 2, 11, 6, 8, 14, 13, 5, 4, 17, 14, 8, 2, 3, 9, 11, 12, 18, 1, 2, 3, 4, 14, 9, 2, 7, 9, 12, 8, 1, 12, 14, 17, 12], \"Freq\": [0.9992408752441406, 0.9991573691368103, 0.9968929886817932, 0.9987066984176636, 0.9996185302734375, 0.9972276091575623, 0.9983985424041748, 0.9973514676094055, 0.998824417591095, 0.9984054565429688, 0.9986162185668945, 0.9988209009170532, 0.034083183854818344, 0.2575215697288513, 0.4714527428150177, 0.15335553884506226, 0.06993252784013748, 0.013603211380541325, 0.9999207854270935, 0.4606112241744995, 0.5393038392066956, 0.9994047284126282, 0.9996662735939026, 0.9991632699966431, 0.9983626008033752, 0.9992585182189941, 0.9984977841377258, 0.9988954067230225, 0.9995559453964233, 0.9977843165397644, 0.2471778690814972, 0.40116652846336365, 0.3513466715812683, 0.9994738101959229, 0.9995787739753723, 0.5977972745895386, 0.2565525770187378, 0.14548711478710175, 0.9997044205665588, 0.999364972114563, 0.9023714065551758, 0.09751024097204208, 0.999419093132019, 0.7536107301712036, 0.13013789057731628, 0.1161332055926323, 0.9976937174797058, 0.9970695972442627, 0.9990363121032715, 0.9996703267097473, 0.36743226647377014, 0.6323370337486267, 0.9988166689872742, 0.9988500475883484, 0.6766315698623657, 0.32335975766181946, 0.9990310668945312, 0.42465823888778687, 0.21389903128147125, 0.36142611503601074, 0.9999051094055176, 0.6341565847396851, 0.21630674600601196, 0.09062154591083527, 0.05886029824614525, 0.07631731033325195, 0.9229905605316162, 0.9988793730735779, 0.9996412396430969, 0.9993487596511841, 0.9994343519210815, 0.15142351388931274, 0.848520040512085, 0.4131127893924713, 0.5863906145095825, 0.515967845916748, 0.48395800590515137, 0.9986347556114197, 0.9997910857200623, 0.8282889127731323, 0.17149774730205536, 0.9997256994247437, 0.9982361197471619, 0.23619721829891205, 0.579520583152771, 0.18364478647708893, 0.9999067783355713, 0.9989485740661621, 0.9975436329841614, 0.9971895217895508, 0.39380335807800293, 0.3062490224838257, 0.29974934458732605, 0.9973831176757812, 0.663249135017395, 0.33662164211273193, 0.9996107816696167, 0.9973338842391968, 0.002080315025523305, 0.09002090245485306, 0.2852868437767029, 0.5637654066085815, 0.044632215052843094, 0.014089406467974186, 0.09124613553285599, 0.7004539370536804, 0.20834212005138397, 0.9998188018798828, 0.9975959658622742, 0.9983294010162354, 0.9995191097259521, 0.9987158179283142, 0.9995772242546082, 0.6904662847518921, 0.3094492554664612, 0.13465091586112976, 0.2595151960849762, 0.6054229140281677, 0.3275083899497986, 0.6717507839202881, 0.9992988109588623, 0.9996535778045654, 0.9992290139198303, 0.9986216425895691, 0.7606997489929199, 0.2392275035381317, 0.9998090863227844, 0.9970948696136475, 0.9990659952163696, 0.9995535612106323, 0.9988435506820679, 0.9988741278648376, 0.9979252815246582, 0.9997969269752502, 0.9982507824897766, 0.24654659628868103, 0.5503408312797546, 0.20151177048683167, 0.9997456669807434, 0.9995856285095215, 0.9992052316665649, 0.9996579885482788, 0.9986926913261414, 0.9999548196792603, 0.9996758103370667, 0.9996392726898193, 0.9998085498809814, 0.9997474551200867, 0.9984741806983948, 0.9997576475143433, 0.9997000694274902, 0.9982339143753052, 0.9994387030601501, 0.9595137238502502, 0.040221065282821655, 0.997767984867096, 0.8444381952285767, 0.15548068284988403, 0.9993041753768921, 0.9997128248214722, 0.9987286925315857, 0.996945858001709, 0.9971773624420166, 0.9987499713897705, 0.9995144605636597, 0.9994489550590515, 0.952124297618866, 0.047485996037721634, 0.28093916177749634, 0.5871261358261108, 0.1312885731458664, 0.9984079003334045, 0.820317804813385, 0.17950235307216644, 0.9991382360458374, 0.1818823516368866, 0.20797669887542725, 0.08419710397720337, 0.5259336233139038, 0.9981420636177063, 0.9990898966789246, 0.9986043572425842, 0.7120814919471741, 0.28790852427482605, 0.8481736779212952, 0.15179762244224548, 0.9991361498832703, 0.9997231364250183, 0.9998981356620789, 0.998906672000885, 0.9998463988304138, 0.9987044334411621, 0.9984514713287354, 0.9984375834465027, 0.9991211891174316, 0.9986699819564819, 0.6346709728240967, 0.3005155920982361, 0.0643961951136589, 0.9994792342185974, 0.9993172883987427, 0.2641512155532837, 0.15057219564914703, 0.0957823097705841, 0.3965267837047577, 0.09298282861709595, 0.9998167157173157, 0.9988960027694702, 0.9998301863670349, 0.9985261559486389, 0.9983389973640442, 0.9982882142066956, 0.9996463656425476, 0.9989451766014099, 0.4428773522377014, 0.12361592054367065, 0.3186337947845459, 0.1079547181725502, 0.0004483169468585402, 0.006425876170396805, 0.9991710186004639, 0.8381232023239136, 0.16107919812202454, 0.999458372592926, 0.9997372031211853, 0.9986685514450073, 0.9991554617881775, 0.874156653881073, 0.12464052438735962, 0.999579906463623, 0.1308404505252838, 0.8690488338470459, 0.997761607170105, 0.21291516721248627, 0.37034496665000916, 0.014070454053580761, 0.40246808528900146, 0.999009370803833, 0.9995027184486389, 0.4746209979057312, 0.29987210035324097, 0.2081100344657898, 0.017247941344976425, 0.999022901058197, 0.28246209025382996, 0.7172204852104187, 0.9987134337425232, 0.9996496438980103, 0.9990489482879639, 0.9978138208389282, 0.9993364214897156, 0.9998148083686829, 0.7409263849258423, 0.258022278547287, 0.999380886554718, 0.25542908906936646, 0.22849704325199127, 0.3841358423233032, 0.13182522356510162, 0.9976977109909058, 0.9998067021369934, 0.278964102268219, 0.7210384011268616, 0.9997092485427856, 0.7970134019851685, 0.20267529785633087, 0.11490895599126816, 0.1103581041097641, 0.16070188581943512, 0.26480257511138916, 0.1430673450231552, 0.20592595636844635, 0.6805497407913208, 0.3190478980541229, 0.9990254640579224, 0.9964078068733215, 0.9996461272239685, 0.99831223487854, 0.5964859127998352, 0.4032418131828308, 0.4387611746788025, 0.5347185730934143, 0.026497244834899902, 0.9980359077453613, 0.400325208902359, 0.5052165389060974, 0.09443473815917969, 0.9990887641906738, 0.9981457591056824, 0.7932426929473877, 0.20627160370349884, 0.999610185623169, 0.9983028769493103, 0.9985978007316589, 0.4553582966327667, 0.36324217915534973, 0.18133096396923065, 0.9986631870269775, 0.12004305422306061, 0.12136803567409515, 0.6149225234985352, 0.14349517226219177, 0.9988508820533752, 0.9989410638809204, 0.9996809363365173, 0.19082899391651154, 0.25506341457366943, 0.55391526222229, 0.04150605574250221, 0.23643015325069427, 0.05351193994283676, 0.5013313889503479, 0.16713905334472656, 0.99982750415802, 0.9986330270767212, 0.9994872808456421, 0.9991579055786133, 0.9979498982429504, 0.23651297390460968, 0.7634641528129578, 0.9989514946937561, 0.9982916712760925, 0.9977778196334839, 0.6921865344047546, 0.30768781900405884, 0.9997735619544983, 0.41445305943489075, 0.584581196308136, 0.748496949672699, 0.2511170208454132, 0.9995911717414856, 0.9990956783294678, 0.9998127222061157, 0.998678982257843, 0.9992833733558655, 0.9989275932312012, 0.999693751335144, 0.2109072506427765, 0.13818272948265076, 0.6508874893188477, 0.9996053576469421, 0.9968704581260681, 0.24887827038764954, 0.3591371178627014, 0.39183858036994934, 0.9992424845695496, 0.9962465763092041, 0.2750755548477173, 0.724249541759491, 0.9995552897453308, 0.9996300339698792, 0.9996839761734009, 0.37890174984931946, 0.21965119242668152, 0.3249169588088989, 0.026304982602596283, 0.03226255625486374, 0.017918551340699196, 0.9975488185882568, 0.9989471435546875, 0.9987018704414368, 0.1800750195980072, 0.8198884129524231, 0.9973304271697998, 0.998854398727417, 0.2720617353916168, 0.2976589500904083, 0.359183669090271, 0.0526571124792099, 0.018375137820839882, 0.9993668794631958, 0.9988843202590942, 0.9998418092727661, 0.5762925148010254, 0.1527957171201706, 0.2515113949775696, 0.01918969862163067, 0.00024062317970674485, 0.4200373888015747, 0.5011166930198669, 0.07886099070310593, 0.8361099362373352, 0.16388636827468872, 0.9989888668060303, 0.9989973902702332, 0.998596727848053, 0.9977261424064636, 0.9068891406059265, 0.09275002777576447, 0.33125460147857666, 0.27455589175224304, 0.0010241148993372917, 0.24997712671756744, 0.14309677481651306, 0.9988611936569214, 0.570107102394104, 0.4295653700828552, 0.9992985725402832, 0.8378832340240479, 0.16195999085903168, 0.9975997805595398, 0.9994800090789795, 0.9992944598197937, 0.9986259341239929, 0.9979858994483948, 0.11254872381687164, 0.8566207885742188, 0.004328797105699778, 0.02621326968073845, 0.9989033341407776, 0.29721108078956604, 0.2211250364780426, 0.3849477767944336, 0.09677192568778992, 0.9991887807846069, 0.9217271208763123, 0.0780177041888237, 0.3794492781162262, 0.6200524568557739, 0.5173202157020569, 0.4603740870952606, 0.022185472771525383, 0.9984145760536194, 0.9988312721252441, 0.7803942561149597, 0.21942433714866638, 0.9972710609436035, 0.9998390078544617, 0.17623105645179749, 0.1998901665210724, 0.24612155556678772, 0.1642761081457138, 0.016302209347486496, 0.16494491696357727, 0.03218641132116318, 0.9977975487709045, 0.9984113574028015, 0.459598183631897, 0.42747440934181213, 0.11284085363149643, 0.9998801350593567, 0.9985287189483643, 0.5479621291160583, 0.0758245512843132, 0.08476010710000992, 0.2912990152835846, 0.45681530237197876, 0.5429905652999878, 0.9982064366340637, 0.9988255500793457, 0.3444450795650482, 0.6550607085227966, 0.9991724491119385, 0.99891197681427, 0.29730138182640076, 0.6094181537628174, 0.09327131509780884, 0.9982330799102783, 0.9963240623474121, 0.9989637136459351, 0.9996906518936157, 0.9990469217300415, 0.9993889331817627, 0.3024347722530365, 0.06494947522878647, 0.49610498547554016, 0.003534665098413825, 0.1328444927930832, 0.9992849826812744, 0.6877065300941467, 0.31161701679229736, 0.1076597273349762, 0.4239434599876404, 0.2524487376213074, 0.06908483058214188, 0.14676721394062042, 0.9999223947525024, 0.9989380240440369, 0.30929985642433167, 0.46653544902801514, 0.2240898162126541, 0.8461815118789673, 0.15367239713668823, 0.9997847080230713, 0.9982492923736572, 0.999560534954071, 0.9972912669181824, 0.9986697435379028, 0.9982882738113403, 0.99907386302948, 0.3984764814376831, 0.19127975404262543, 0.40730080008506775, 0.0002579135762061924, 0.0026712478138506413, 0.9983612298965454, 0.28814923763275146, 0.7105498313903809, 0.5243364572525024, 0.07215964049100876, 0.23298603296279907, 0.1553436666727066, 0.008017737418413162, 0.007074474357068539, 0.20550793409347534, 0.5132114291191101, 0.2808980941772461, 0.9997345805168152, 0.9990977644920349, 0.3881005644798279, 0.30012747645378113, 0.3117706775665283, 0.9990083575248718, 0.04675067961215973, 0.45455023646354675, 0.3122774362564087, 0.09459494799375534, 0.04292314127087593, 0.046833887696266174, 0.0020682986360043287, 0.9989258050918579, 0.9978123307228088, 0.9996209740638733, 0.9991042613983154, 0.7873340249061584, 0.21228119730949402, 0.7503566145896912, 0.18859754502773285, 0.06102166324853897, 0.3367522656917572, 0.5702027082443237, 0.09308835864067078, 0.24621698260307312, 0.12635113298892975, 0.22899745404720306, 0.18762584030628204, 0.21065975725650787, 0.9983598589897156, 0.9994304776191711, 0.18071281909942627, 0.39701294898986816, 0.4219997823238373, 0.9986370205879211, 0.7441180944442749, 0.2556208670139313, 0.9995362758636475, 0.624302864074707, 0.0820251926779747, 0.2934679388999939, 0.9992220401763916, 0.9997917413711548, 0.9976809620857239, 0.9987227916717529, 0.9995014071464539, 0.9996196627616882, 0.9989025592803955, 0.9990743398666382, 0.3345428705215454, 0.6652092337608337, 0.9987671375274658, 0.999560534954071, 0.9990599751472473, 0.99912029504776, 0.9993780851364136, 0.9993188381195068, 0.9982674717903137, 0.9984557628631592, 0.49798518419265747, 0.0630037933588028, 0.15381522476673126, 0.12157447636127472, 0.16348744928836823, 0.9997633695602417, 0.998021125793457, 0.9995343685150146, 0.9991106986999512, 0.9989273548126221, 0.9991685152053833, 0.1365005522966385, 0.03335092216730118, 0.3735302984714508, 0.060269877314567566, 0.3589988350868225, 0.03740067407488823, 0.9998043775558472, 0.1193239837884903, 0.18368788063526154, 0.42672431468963623, 0.06519979983568192, 0.20500320196151733, 0.9983516931533813, 0.7283836603164673, 0.27147671580314636, 0.9987882375717163, 0.9995630979537964, 0.999362587928772, 0.9980777502059937, 0.9980090856552124, 0.9996360540390015, 0.9974689483642578, 0.999504804611206, 0.9985934495925903, 0.9981144666671753, 0.9996919631958008, 0.9997046589851379, 0.26326698064804077, 0.5436570048332214, 0.19287219643592834, 0.2726650536060333, 0.3386249244213104, 0.3886367380619049, 0.9993705749511719, 0.999308705329895, 0.9983970522880554, 0.2833411693572998, 0.7161839604377747, 0.9986319541931152, 0.9990549683570862, 0.9994086027145386, 0.5745232105255127, 0.4253738820552826, 0.9991207718849182, 0.545314610004425, 0.04752742126584053, 0.32018473744392395, 0.0036384628619998693, 0.08330564200878143, 0.9997555613517761, 0.9992282390594482, 0.9996004104614258, 0.22907912731170654, 0.45876750349998474, 0.0788373351097107, 0.11600176990032196, 0.10795962810516357, 0.009138794615864754, 0.5242318511009216, 0.47534847259521484, 0.9996595978736877, 0.9982399940490723, 0.9982316493988037, 0.9989106059074402, 0.8672710061073303, 0.04507795348763466, 0.0875183641910553, 0.7186492681503296, 0.04499001055955887, 0.14065994322299957, 0.04221121594309807, 0.053458720445632935, 0.7493276596069336, 0.24999575316905975, 0.7648812532424927, 0.23504573106765747, 0.9997152090072632, 0.4661734104156494, 0.2751263976097107, 0.2583105266094208, 0.0754958763718605, 0.6391370296478271, 0.28301745653152466, 0.0023937716614454985, 0.9983453750610352, 0.9990143775939941, 0.9522937536239624, 0.047371756285429, 0.9977228045463562, 0.5202006697654724, 0.4796128273010254, 0.9981327652931213, 0.009990166872739792, 0.2689213454723358, 0.39443734288215637, 0.3061521351337433, 0.004878918640315533, 0.003368777222931385, 0.012255378998816013, 0.9992057681083679, 0.9994955062866211, 0.8328101634979248, 0.16703328490257263, 0.6769607067108154, 0.3230174779891968, 0.9999275207519531, 0.9981138706207275, 0.9984210729598999, 0.9992231130599976, 0.9994686841964722, 0.5072943568229675, 0.4926871955394745, 0.9995193481445312, 0.5312068462371826, 0.19803428649902344, 0.2706596255302429, 0.9997719526290894, 0.997704267501831, 0.2818073630332947, 0.2582913041114807, 0.39090654253959656, 0.06862067431211472, 0.9982001185417175, 0.28390073776245117, 0.19373008608818054, 0.28168556094169617, 0.09206006675958633, 0.0005863698315806687, 0.13180291652679443, 0.01609259471297264, 0.00013030441186856478, 0.9163636565208435, 0.08284375071525574, 0.9988320469856262, 0.9994815587997437, 0.998752772808075, 0.9988343715667725, 0.9983739256858826, 0.9985230565071106, 0.9980136156082153, 0.9986144304275513, 0.9991998672485352, 0.9982811808586121, 0.4206320345401764, 0.17732231318950653, 0.3089958131313324, 0.09310551732778549, 0.13449686765670776, 0.1673847883939743, 0.11032178997993469, 0.3101036250591278, 0.23297655582427979, 0.044668667018413544, 0.21660220623016357, 0.6035343408584595, 0.08626192808151245, 0.09354183822870255, 0.9997272491455078, 0.9996590614318848, 0.9987398982048035, 0.9995077848434448, 0.9992937445640564, 0.9983682036399841, 0.2023693174123764, 0.2413957715034485, 0.27713674306869507, 0.26532667875289917, 0.01371920108795166, 0.9991093277931213, 0.9996841549873352, 0.7346634268760681, 0.26483651995658875, 0.9982649087905884, 0.9984776377677917, 0.9990981817245483, 0.9993026852607727, 0.9998931288719177, 0.998844563961029, 0.9985929727554321, 0.9981021881103516, 0.9989323019981384, 0.9995920658111572, 0.9989246129989624, 0.9996140599250793, 0.9988373517990112, 0.9993597865104675, 0.9996326565742493, 0.9989441633224487, 0.2026304453611374, 0.11592288315296173, 0.3335050642490387, 0.2915275990962982, 0.004003812558948994, 0.026275020092725754, 0.0259622223675251, 0.00012511914246715605, 0.8611892461776733, 0.13838572800159454, 0.9996518492698669, 0.9992653727531433, 0.9981846213340759, 0.998856782913208, 0.9987151622772217, 0.9979771375656128, 0.9994514584541321, 0.9990298748016357, 0.9987160563468933, 0.9981503486633301, 0.9983860850334167, 0.9986087083816528, 0.9165259599685669, 0.0830046683549881, 0.5735895037651062, 0.2895824909210205, 0.1367282271385193, 0.3488980233669281, 0.3128792643547058, 0.029298830777406693, 0.24957765638828278, 0.04206667095422745, 0.017202982679009438, 0.6338640451431274, 0.10041575133800507, 0.10008379817008972, 0.14705513417720795, 0.01842338591814041, 0.9987018704414368, 0.9982085227966309, 0.48329126834869385, 0.13691529631614685, 0.3797675669193268, 0.9992601871490479, 0.9974563717842102, 0.18318216502666473, 0.3677096366882324, 0.2763053774833679, 0.17271888256072998, 0.999165415763855, 0.9970493912696838, 0.9992854595184326, 0.9997805953025818, 0.9996525049209595, 0.9995350241661072, 0.2635909616947174, 0.18487320840358734, 0.3966163992881775, 0.041534971445798874, 0.001513803144916892, 0.03822352737188339, 0.05307772010564804, 0.020530954003334045, 0.9985250234603882, 0.9989704489707947, 0.9987330436706543, 0.9987534880638123, 0.9990681409835815, 0.9991190433502197, 0.17140942811965942, 0.026067569851875305, 0.27158769965171814, 0.10320939123630524, 0.1741374284029007, 0.19126321375370026, 0.04425424709916115, 0.018035121262073517, 0.9227141737937927, 0.07689284533262253, 0.9993104934692383, 0.9975153803825378, 0.9990460872650146, 0.9988371729850769, 0.5056437253952026, 0.18280774354934692, 0.11689747124910355, 0.194248765707016, 0.9986265301704407, 0.9993500709533691, 0.9990540146827698, 0.9971699714660645, 0.7482567429542542, 0.2516283392906189, 0.9982802271842957, 0.5267999768257141, 0.286620169878006, 0.13848742842674255, 0.04798833653330803, 0.9977372288703918, 0.5244044661521912, 0.24823027849197388, 0.019284943118691444, 0.1136615201830864, 0.07525386661291122, 0.019142992794513702, 0.999319314956665, 0.9987568259239197, 0.9208442568778992, 0.07855543494224548, 0.9978175163269043, 0.9129274487495422, 0.08607947826385498, 0.9993606209754944, 0.9990873336791992, 0.9990498423576355, 0.9991874098777771, 0.9998234510421753, 0.9981595277786255, 0.999749481678009, 0.9981853365898132, 0.9989370107650757, 0.9990150332450867, 0.9997990727424622, 0.9990516901016235, 0.9990615248680115, 0.49200478196144104, 0.5076121687889099, 0.9990029335021973, 0.9994834065437317, 0.9998507499694824, 0.9992183446884155, 0.9994174242019653, 0.6449768543243408, 0.3548240661621094, 0.9980311393737793, 0.9992694854736328, 0.3710954487323761, 0.6278496980667114, 0.9983620047569275, 0.5762556791305542, 0.32840093970298767, 0.008930124342441559, 0.08641208708286285, 0.2656215727329254, 0.3080257475376129, 0.06170043721795082, 0.29158815741539, 0.07313527166843414, 0.9993146657943726, 0.24321933090686798, 0.494377076625824, 0.06131153926253319, 0.20099374651908875, 0.9990467429161072, 0.9998003840446472, 0.9986304640769958, 0.9987967014312744, 0.9992228150367737, 0.9992666840553284, 0.9997431039810181, 0.10152669250965118, 0.322383314371109, 0.20305338501930237, 0.15710172057151794, 0.21580436825752258, 0.9985818862915039, 0.511533260345459, 0.29018455743789673, 0.035573896020650864, 0.0475810207426548, 0.11507447063922882, 0.9999632835388184, 0.1757064163684845, 0.5511832237243652, 0.25526511669158936, 0.00027017900720238686, 0.017543623223900795, 0.9996353983879089, 0.47379109263420105, 0.4816400408744812, 0.044417914003133774, 0.5799394249916077, 0.41930869221687317, 0.99924236536026, 0.9980554580688477, 0.998053252696991, 0.9997285008430481, 0.9990465641021729, 0.9992894530296326, 0.9991204142570496, 0.12702316045761108, 0.8727312684059143, 0.9982661008834839, 0.4956442713737488, 0.18051835894584656, 0.21248765289783478, 0.1111714243888855, 0.9983385801315308, 0.5761098861694336, 0.42382803559303284, 0.9983305931091309, 0.9981223940849304, 0.8250443339347839, 0.17468750476837158, 0.9971988201141357, 0.4451754689216614, 0.5545381903648376, 0.9985817670822144, 0.06968508660793304, 0.32475998997688293, 0.3044663965702057, 0.22722584009170532, 0.05482393130660057, 0.01898231729865074, 0.6689928770065308, 0.296174019575119, 0.03483280539512634, 0.9965531826019287, 0.9984944462776184, 0.998604416847229, 0.9985169172286987, 0.9984384775161743, 0.999642550945282, 0.9990712404251099, 0.9995697140693665, 0.585830569267273, 0.23781883716583252, 0.058674123138189316, 0.06934214383363724, 0.04839639365673065, 0.9987378716468811, 0.9989635348320007, 0.9997301697731018, 0.17098723351955414, 0.7096773982048035, 0.06521456688642502, 0.05395835265517235, 0.9990281462669373, 0.9988482594490051, 0.999108076095581, 0.9986435770988464, 0.9978965520858765, 0.9993814826011658, 0.9475120306015015, 0.052198268473148346, 0.1463894546031952, 0.2903102934360504, 0.480852872133255, 0.08241680264472961, 0.9702577590942383, 0.02949684113264084, 0.9996987581253052, 0.997406005859375, 0.7059121131896973, 0.2939811050891876, 0.7655216455459595, 0.23415055871009827, 0.9995130896568298, 0.9981988072395325, 0.9977983236312866, 0.9993378520011902, 0.9998366236686707, 0.9982885122299194, 0.9986963272094727, 0.9972891807556152, 0.9991118907928467, 0.3245430886745453, 0.6751475930213928, 0.9993323683738708, 0.11017133295536041, 0.2939070463180542, 0.0035438640043139458, 0.24752527475357056, 0.28701403737068176, 0.05783119052648544, 0.9987524747848511, 0.998360276222229, 0.4897993206977844, 0.24249166250228882, 0.09111334383487701, 0.17649957537651062, 0.9992556571960449, 0.9971160292625427, 0.9998696446418762, 0.9981514811515808, 0.9983139634132385, 0.15619365870952606, 0.3659994304180145, 0.11971531063318253, 0.010280261747539043, 0.1619417667388916, 0.14314988255500793, 0.04266861453652382, 0.9985626935958862, 0.9991008639335632, 0.99900883436203, 0.25859132409095764, 0.7414112091064453, 0.9997942447662354, 0.9995461106300354, 0.9994678497314453, 0.9979740381240845, 0.9983780980110168, 0.9990071654319763, 0.9989392161369324, 0.9999634623527527, 0.15298376977443695, 0.21160665154457092, 0.6351334452629089, 0.9994859099388123, 0.6830358505249023, 0.3165505528450012, 0.9994438886642456, 0.9994078874588013, 0.9971660375595093, 0.9999502301216125, 0.998821496963501, 0.7535360455513, 0.24626998603343964, 0.395076185464859, 0.09164164960384369, 0.40237054228782654, 0.11085352301597595, 0.3110271096229553, 0.6884532570838928, 0.9990992546081543, 0.6645825505256653, 0.02578039839863777, 0.26688894629478455, 0.04214286431670189, 0.0005707837408408523, 0.9996994733810425, 0.9987632632255554, 0.9994484782218933, 0.9993144273757935, 0.3685304820537567, 0.3069171607494354, 0.32438957691192627, 0.9997383952140808, 0.9987050294876099, 0.5254618525505066, 0.017186736688017845, 0.18480265140533447, 0.18652132153511047, 0.005879673175513744, 0.0799635574221611, 0.44423726201057434, 0.5329700708389282, 0.022699089720845222, 0.9998868107795715, 0.9993605613708496, 0.09698084741830826, 0.06956680864095688, 0.3517398238182068, 0.13183794915676117, 0.22926095128059387, 0.11658336222171783, 0.003979457542300224, 0.47244614362716675, 0.056167323142290115, 0.3095494508743286, 0.018989359959959984, 0.14264899492263794, 0.2965163588523865, 0.7034595012664795, 0.9987056851387024, 0.9987284541130066, 0.7766097784042358, 0.22306178510189056, 0.9989117383956909, 0.5656189918518066, 0.43415266275405884, 0.4062354862689972, 0.59372878074646, 0.004893157631158829, 0.0735526978969574, 0.2399977296590805, 0.3243464529514313, 0.14632870256900787, 0.08116427809000015, 0.12970751523971558, 0.9991968870162964, 0.9991639256477356, 0.5727745890617371, 0.04611413553357124, 0.25390028953552246, 0.12711367011070251, 0.99974125623703, 0.9984740018844604, 0.999775230884552, 0.9997466802597046, 0.7066964507102966, 0.29308438301086426, 0.1967024803161621, 0.17766384780406952, 0.5633991956710815, 0.036362890154123306, 0.009474202059209347, 0.016421949490904808, 0.9994332194328308, 0.998649537563324, 0.9992203712463379, 0.9993900656700134, 0.9994088411331177, 0.8438425660133362, 0.05173354968428612, 0.10444320738315582, 0.9997072815895081, 0.9990875720977783, 0.9979884028434753, 0.9988496899604797, 0.9994499087333679, 0.6862194538116455, 0.31365275382995605, 0.9969051480293274, 0.9982376098632812, 0.9996964931488037, 0.40655937790870667, 0.13611173629760742, 0.3849360942840576, 0.006163156125694513, 0.06622780859470367, 0.997047483921051, 0.9984733462333679, 0.3181808292865753, 0.6212396025657654, 0.06048830598592758, 0.7284951210021973, 0.2707352638244629, 0.9990861415863037, 0.9983668327331543, 0.9990002512931824, 0.9420123100280762, 0.05794372782111168, 0.8091599941253662, 0.19069889187812805, 0.23956917226314545, 0.600549578666687, 0.09174159169197083, 0.06792781502008438, 0.9998048543930054, 0.9998746514320374, 0.9970009326934814, 0.9997282028198242, 0.5222076177597046, 0.2303604781627655, 0.06820729374885559, 0.06048571318387985, 0.11868354678153992, 0.9987421631813049, 0.9982609152793884, 0.999026894569397, 0.3109516203403473, 0.49698853492736816, 0.191971093416214, 0.9983285069465637, 0.9992473721504211, 0.9983222484588623, 0.9997304081916809, 0.9987536668777466, 0.9992651343345642, 0.9997634291648865, 0.6262747049331665, 0.37347114086151123, 0.00016620877431705594, 0.9981510639190674, 0.9998671412467957, 0.9986754655838013, 0.3750278651714325, 0.277858704328537, 0.2841196060180664, 0.0629846453666687, 0.3686843812465668, 0.2883263826370239, 0.3429419994354248, 0.9999442100524902, 0.7348034977912903, 0.11334448307752609, 0.11290345340967178, 0.019356276839971542, 0.019503287971019745, 0.9987520575523376, 0.9995335340499878, 0.07615754753351212, 0.2631538212299347, 0.1616104245185852, 0.14699432253837585, 0.012757030315697193, 0.11327473819255829, 0.06211840733885765, 0.10603079944849014, 0.057951536029577255, 0.5215964317321777, 0.2379172295331955, 0.17933741211891174, 0.061053428798913956, 0.9998621940612793, 0.9998849630355835, 0.9977623820304871, 0.5824698209762573, 0.4174572229385376, 0.9227256178855896, 0.07703037559986115, 0.9997807145118713, 0.9992386698722839, 0.999295711517334, 0.4307835102081299, 0.5683341026306152, 0.9996969103813171, 0.3008784055709839, 0.11260054260492325, 0.5474400520324707, 0.039059266448020935, 0.2655787169933319, 0.48865315318107605, 0.24575504660606384, 0.9994516372680664, 0.9979632496833801, 0.9994450807571411, 0.9992752075195312, 0.5104411840438843, 0.22344346344470978, 0.2661045789718628, 0.999381959438324, 0.9997133612632751, 0.9997973442077637, 0.9996824264526367, 0.9982179999351501, 0.9996258020401001, 0.9995431303977966, 0.9998895525932312, 0.21825869381427765, 0.24336324632167816, 0.38768014311790466, 0.05542207136750221, 0.03196372091770172, 0.06310433894395828, 0.9993144273757935, 0.999738872051239, 0.9989801049232483, 0.9993821978569031, 0.9985224008560181, 0.9991330504417419, 0.1562119424343109, 0.1547991782426834, 0.657341480255127, 0.004507407546043396, 0.0271117202937603, 0.9992285966873169, 0.9992299675941467, 0.9989649057388306, 0.9996482729911804, 0.9996445178985596, 0.5904062986373901, 0.11846809089183807, 0.2906094789505005, 0.9991822838783264, 0.36772313714027405, 0.11763064563274384, 0.1880505234003067, 0.04505966976284981, 0.02490735426545143, 0.18940910696983337, 0.014151905663311481, 0.052871521562337875, 0.9987355470657349, 0.9995059967041016, 0.9996488690376282, 0.48930102586746216, 0.5107079148292542, 0.9998826384544373, 0.9993739724159241, 0.9992820620536804, 0.9993866086006165, 0.9980823993682861, 0.9983241558074951, 0.9997937679290771, 0.799688458442688, 0.2002803385257721, 0.9996219873428345, 0.8795643448829651, 0.12031060457229614, 0.9990118145942688, 0.7098203897476196, 0.17379535734653473, 0.11626075208187103, 0.5639608502388, 0.08561110496520996, 0.3503953218460083, 0.9974899291992188, 0.9987317323684692, 0.2995302379131317, 0.7001702189445496, 0.4688239097595215, 0.5308960676193237, 0.9986554384231567, 0.9991509914398193, 0.9995927214622498, 0.9996280670166016, 0.042481038719415665, 0.28429171442985535, 0.2803399860858917, 0.23100154101848602, 0.07990619540214539, 0.03358965739607811, 0.048350509256124496, 0.9971100687980652, 0.9983474612236023, 0.9995945692062378, 0.9987267851829529, 0.9997649192810059, 0.9993656277656555, 0.9993295073509216, 0.9997711181640625, 0.9998520612716675, 0.998691976070404, 0.9974152445793152, 0.39035239815711975, 0.07953847199678421, 0.41557517647743225, 0.05858622491359711, 0.055650241672992706, 0.9996561408042908, 0.363425076007843, 0.05473470315337181, 0.3210557997226715, 0.26075106859207153, 0.99942547082901, 0.9997038841247559, 0.5374633073806763, 0.0524880550801754, 0.31798413395881653, 0.09185409545898438, 0.9987743496894836, 0.9992654323577881, 0.9995923042297363, 0.9987462759017944, 0.9984296560287476, 0.9988442063331604], \"Term\": [\"_\", \"accommodate\", \"accord\", \"actual\", \"addition\", \"adequate\", \"affordable\", \"age\", \"ago\", \"air\", \"airport\", \"allow\", \"also\", \"also\", \"also\", \"also\", \"also\", \"also\", \"always\", \"amazing\", \"amazing\", \"american\", \"amount\", \"ample\", \"annoying\", \"answer\", \"anyways\", \"anywhere\", \"app\", \"appeal\", \"appetizer\", \"appetizer\", \"appetizer\", \"apple\", \"appreciate\", \"area\", \"area\", \"area\", \"arrive\", \"asian\", \"ask\", \"ask\", \"assume\", \"atmosphere\", \"atmosphere\", \"atmosphere\", \"attempt\", \"attend\", \"attitude\", \"authentic\", \"average\", \"average\", \"avocado\", \"aware\", \"away\", \"away\", \"awful\", \"back\", \"back\", \"back\", \"bacon\", \"bad\", \"bad\", \"bad\", \"bad\", \"bag\", \"bag\", \"bagel\", \"bake\", \"bakery\", \"banana\", \"bar\", \"bar\", \"base\", \"base\", \"basically\", \"basically\", \"basket\", \"bbq\", \"bean\", \"bean\", \"beautiful\", \"bed\", \"beef\", \"beef\", \"beef\", \"beer\", \"beet\", \"belgian\", \"berry\", \"best\", \"best\", \"best\", \"bf\", \"bill\", \"bill\", \"birthday\", \"biscuit\", \"bit\", \"bit\", \"bit\", \"bit\", \"bit\", \"bit\", \"bite\", \"bite\", \"bite\", \"bland\", \"bloomfield\", \"blow\", \"blue\", \"bomb\", \"booth\", \"bottle\", \"bottle\", \"bowl\", \"bowl\", \"bowl\", \"box\", \"box\", \"boy\", \"boyfriend\", \"braise\", \"brand\", \"bread\", \"bread\", \"breakfast\", \"brewery\", \"bright\", \"brisket\", \"broccoli\", \"brother\", \"brownie\", \"brunch\", \"brussel_sprout\", \"buck\", \"buck\", \"buck\", \"buffalo\", \"buffet\", \"build\", \"bun\", \"burgatory\", \"burger\", \"burn\", \"burrito\", \"business\", \"butter\", \"buttery\", \"buy\", \"byob\", \"caesar\", \"cafe\", \"cake\", \"cake\", \"california\", \"call\", \"call\", \"can\", \"care\", \"carry\", \"cat\", \"cater\", \"cauliflower\", \"certainly\", \"chair\", \"chance\", \"chance\", \"charge\", \"charge\", \"charge\", \"chat\", \"cheap\", \"cheap\", \"cheddar\", \"cheese\", \"cheese\", \"cheese\", \"cheese\", \"cheesecake\", \"cheesesteak\", \"cheesy\", \"chef\", \"chef\", \"chicken\", \"chicken\", \"child\", \"chinese\", \"chip\", \"chipotle\", \"chocolate\", \"chorizo\", \"chunk\", \"church\", \"cilantro\", \"cinnamon\", \"city\", \"city\", \"city\", \"classic\", \"clear\", \"close\", \"close\", \"close\", \"close\", \"close\", \"cocktail\", \"coconut\", \"coffee\", \"cole_slaw\", \"coleslaw\", \"color\", \"combination\", \"combo\", \"come\", \"come\", \"come\", \"come\", \"come\", \"come\", \"company\", \"completely\", \"completely\", \"concept\", \"consider\", \"consistent\", \"consistently\", \"continue\", \"continue\", \"conversation\", \"cook\", \"cook\", \"cooking\", \"cool\", \"cool\", \"cool\", \"cool\", \"cornbread\", \"cost\", \"could\", \"could\", \"could\", \"could\", \"coupon\", \"course\", \"course\", \"coworker\", \"crab\", \"craft\", \"crap\", \"crazy\", \"cream\", \"creative\", \"creative\", \"crepe\", \"crispy\", \"crispy\", \"crispy\", \"crispy\", \"croissant\", \"crust\", \"cup\", \"cup\", \"curry\", \"customer\", \"customer\", \"cut\", \"cut\", \"cut\", \"cut\", \"cut\", \"cut\", \"cute\", \"cute\", \"damn\", \"dance\", \"date\", \"decision\", \"decor\", \"decor\", \"definitely\", \"definitely\", \"definitely\", \"deli\", \"delicious\", \"delicious\", \"delicious\", \"delightful\", \"delish\", \"deliver\", \"deliver\", \"delivery\", \"depend\", \"desire\", \"dessert\", \"dessert\", \"dessert\", \"diet\", \"different\", \"different\", \"different\", \"different\", \"din\", \"dine\", \"diner\", \"dining\", \"dining\", \"dining\", \"dinner\", \"dinner\", \"dinner\", \"dinner\", \"dinner\", \"dip\", \"dipping\", \"disappoint\", \"disappointing\", \"disgusting\", \"dish\", \"dish\", \"dive\", \"diverse\", \"divine\", \"do\", \"do\", \"dog\", \"dollar\", \"dollar\", \"door\", \"door\", \"dough\", \"downstairs\", \"downtown\", \"dozen\", \"draft\", \"dream\", \"dress\", \"drink\", \"drink\", \"drink\", \"drive\", \"drunk\", \"dry\", \"dry\", \"dry\", \"duck\", \"dude\", \"due\", \"due\", \"dumpling\", \"easily\", \"easy\", \"eat\", \"eat\", \"eat\", \"eat\", \"eat\", \"eat\", \"edible\", \"efficient\", \"effort\", \"egg\", \"egg\", \"emiliano\", \"enchilada\", \"enjoy\", \"enjoy\", \"enjoy\", \"enjoy\", \"enjoy\", \"enjoyable\", \"entrance\", \"entree\", \"even\", \"even\", \"even\", \"even\", \"even\", \"everything\", \"everything\", \"everything\", \"excellent\", \"excellent\", \"exception\", \"exceptional\", \"excite\", \"exist\", \"expensive\", \"expensive\", \"experience\", \"experience\", \"experience\", \"experience\", \"experience\", \"extensive\", \"extra\", \"extra\", \"fabulous\", \"fact\", \"fact\", \"fail\", \"fair\", \"fairly\", \"fajita\", \"familiar\", \"family\", \"family\", \"family\", \"family\", \"famous\", \"fan\", \"fan\", \"fan\", \"fan\", \"fancy\", \"fast\", \"fast\", \"fat\", \"fat\", \"favorite\", \"favorite\", \"favorite\", \"feta\", \"filet\", \"fill\", \"fill\", \"filling\", \"finally\", \"find\", \"find\", \"find\", \"find\", \"find\", \"find\", \"find\", \"finger\", \"fire\", \"first\", \"first\", \"first\", \"fish\", \"fix\", \"flavor\", \"flavor\", \"flavor\", \"flavor\", \"flavorful\", \"flavorful\", \"flavorless\", \"flight\", \"floor\", \"floor\", \"fluffy\", \"folk\", \"food\", \"food\", \"food\", \"form\", \"frank\", \"freeze\", \"french\", \"french_toast\", \"frequent\", \"fresh\", \"fresh\", \"fresh\", \"fresh\", \"fresh\", \"freshly\", \"friday\", \"friday\", \"friend\", \"friend\", \"friend\", \"friend\", \"friend\", \"friendly\", \"fruit\", \"fry\", \"fry\", \"fry\", \"fun\", \"fun\", \"game\", \"garden\", \"garlic\", \"gelato\", \"gem\", \"general_tso\", \"generally\", \"get\", \"get\", \"get\", \"get\", \"get\", \"giant\", \"ginger\", \"ginger\", \"give\", \"give\", \"give\", \"give\", \"give\", \"give\", \"glad\", \"glad\", \"glad\", \"glass\", \"gnocchi\", \"go\", \"go\", \"go\", \"goat\", \"good\", \"good\", \"good\", \"good\", \"good\", \"good\", \"good\", \"goodness\", \"gorgeous\", \"grab\", \"gravy\", \"greasy\", \"greasy\", \"great\", \"great\", \"great\", \"green\", \"green\", \"green\", \"grill\", \"grill\", \"grill\", \"grill\", \"grill\", \"grit\", \"gross\", \"group\", \"group\", \"group\", \"guacamole\", \"guess\", \"guess\", \"gyro\", \"half\", \"half\", \"half\", \"ham\", \"happy_hour\", \"hash\", \"hat\", \"hate\", \"healthy\", \"heat\", \"hibachi\", \"high\", \"high\", \"highly\", \"highly_recommend\", \"hint\", \"hipster\", \"hoagie\", \"hold\", \"hole\", \"holiday\", \"home\", \"home\", \"home\", \"home\", \"home\", \"homemade\", \"honest\", \"honestly\", \"horrible\", \"host\", \"hostess\", \"hot\", \"hot\", \"hot\", \"hot\", \"hot\", \"hot\", \"hour\", \"house\", \"house\", \"house\", \"house\", \"house\", \"hubby\", \"hungry\", \"hungry\", \"hype\", \"ice\", \"ice_cream\", \"ignore\", \"important\", \"impressed\", \"improvement\", \"indian\", \"inedible\", \"inexpensive\", \"ingredient\", \"issue\", \"italian\", \"italian\", \"italian\", \"item\", \"item\", \"item\", \"jalapeno\", \"jam\", \"japanese\", \"joint\", \"joint\", \"joke\", \"juice\", \"juicy\", \"kid\", \"kid\", \"kinda\", \"know\", \"know\", \"know\", \"know\", \"know\", \"lack\", \"lady\", \"lamb\", \"large\", \"large\", \"large\", \"large\", \"large\", \"large\", \"late\", \"late\", \"later\", \"lawrenceville\", \"lay\", \"learn\", \"least\", \"least\", \"least\", \"leave\", \"leave\", \"leave\", \"leave\", \"leave\", \"lemon\", \"lemon\", \"less\", \"less\", \"life\", \"light\", \"light\", \"light\", \"like\", \"like\", \"like\", \"like\", \"limit\", \"limited\", \"line\", \"line\", \"liquor\", \"list\", \"list\", \"listen\", \"little\", \"little\", \"little\", \"little\", \"little\", \"little\", \"little\", \"load\", \"lobster\", \"local\", \"local\", \"location\", \"location\", \"long\", \"look_forward\", \"looking_forward\", \"lose\", \"loud\", \"love\", \"love\", \"lovely\", \"lunch\", \"lunch\", \"lunch\", \"mac\", \"machine\", \"main\", \"main\", \"main\", \"main\", \"major\", \"make\", \"make\", \"make\", \"make\", \"make\", \"make\", \"make\", \"make\", \"man\", \"man\", \"management\", \"manager\", \"mango\", \"margarita\", \"marinara\", \"market\", \"market_square\", \"martini\", \"massive\", \"match\", \"may\", \"may\", \"may\", \"may\", \"meal\", \"meal\", \"meal\", \"meal\", \"meal\", \"meal\", \"meat\", \"meat\", \"meat\", \"meat\", \"meatball\", \"medium\", \"medium_rare\", \"meh\", \"melt\", \"member\", \"menu\", \"menu\", \"menu\", \"menu\", \"menu\", \"mess\", \"mexican\", \"middle\", \"middle\", \"mild\", \"milk\", \"milkshake\", \"min\", \"minute\", \"mistake\", \"modern\", \"moist\", \"mom\", \"money\", \"monroeville\", \"morning\", \"mother\", \"mouth\", \"move\", \"mozzarella\", \"much\", \"much\", \"much\", \"much\", \"much\", \"much\", \"much\", \"much\", \"mushroom\", \"mushroom\", \"music\", \"mussel\", \"mustard\", \"naan\", \"nachos\", \"nalso\", \"nand\", \"nas\", \"nbut\", \"nearby\", \"neat\", \"negative\", \"neighborhood\", \"neighborhood\", \"never\", \"never\", \"never\", \"new\", \"new\", \"new\", \"new\", \"new\", \"new\", \"next\", \"next\", \"next\", \"next\", \"next\", \"nfood\", \"nhowever\", \"nice\", \"nice\", \"nice\", \"nicely\", \"nif\", \"night\", \"night\", \"night\", \"night\", \"nin\", \"nnot\", \"non\", \"noodle\", \"not\", \"notice\", \"nthe\", \"nthe\", \"nthe\", \"nthe\", \"nthe\", \"nthe\", \"nthe\", \"nthe\", \"ntheir\", \"nthere\", \"nwhen\", \"oakland\", \"obviously\", \"octopus\", \"offer\", \"offer\", \"offer\", \"offer\", \"offer\", \"offer\", \"offer\", \"offer\", \"often\", \"often\", \"oil\", \"oily\", \"ok\", \"okay\", \"old\", \"old\", \"old\", \"old\", \"olive\", \"omelet\", \"omelette\", \"omg\", \"onion\", \"onion\", \"online\", \"option\", \"option\", \"option\", \"option\", \"orange\", \"order\", \"order\", \"order\", \"order\", \"order\", \"order\", \"ordering\", \"original\", \"other\", \"other\", \"outdoor\", \"outside\", \"outside\", \"outstanding\", \"oven\", \"overlook\", \"overprice\", \"pack\", \"packed\", \"pad_thai\", \"paint\", \"pamela\", \"pan\", \"pancake\", \"panera\", \"parent\", \"parking\", \"parking\", \"parmesan\", \"particularly\", \"party\", \"pass\", \"past\", \"pasta\", \"pasta\", \"pastrami\", \"pastry\", \"patio\", \"patio\", \"patty\", \"people\", \"people\", \"people\", \"people\", \"pepper\", \"pepper\", \"pepper\", \"pepper\", \"pepper\", \"pepperoni\", \"perfect\", \"perfect\", \"perfect\", \"perfect\", \"perfection\", \"perfectly\", \"personal\", \"personally\", \"pesto\", \"picture\", \"pie\", \"piece\", \"piece\", \"piece\", \"piece\", \"piece\", \"pitcher\", \"pittsburgh\", \"pittsburgh\", \"pittsburgh\", \"pittsburgh\", \"pittsburgh\", \"pizza\", \"place\", \"place\", \"place\", \"place\", \"place\", \"plan\", \"plate\", \"plate\", \"plate\", \"play\", \"play\", \"pleasant\", \"pleased\", \"plentiful\", \"pm\", \"poor\", \"pop\", \"popular\", \"pork\", \"pork\", \"pork_belly\", \"portion\", \"portion\", \"portion\", \"portion\", \"post\", \"potato\", \"potato\", \"pound\", \"practically\", \"prefer\", \"prefer\", \"preference\", \"prepare\", \"prepare\", \"presentation\", \"pretty\", \"pretty\", \"pretty\", \"pretty\", \"pretty\", \"pretty\", \"price\", \"price\", \"price\", \"pricy\", \"prime\", \"product\", \"proper\", \"properly\", \"pub\", \"pulled_pork\", \"pumpkin\", \"quality\", \"quality\", \"quality\", \"quality\", \"quality\", \"quantity\", \"quesadilla\", \"quick\", \"quite\", \"quite\", \"quite\", \"quite\", \"raman\", \"ranch\", \"rare\", \"rarely\", \"raspberry\", \"raw\", \"ready\", \"ready\", \"really\", \"really\", \"really\", \"really\", \"reasonable\", \"reasonable\", \"receive\", \"recipe\", \"recommendation\", \"recommendation\", \"red\", \"red\", \"refill\", \"refresh\", \"register\", \"regret\", \"regular\", \"regularly\", \"relatively\", \"replace\", \"request\", \"reservation\", \"reservation\", \"rest\", \"restaurant\", \"restaurant\", \"restaurant\", \"restaurant\", \"restaurant\", \"restaurant\", \"restroom\", \"reuben\", \"review\", \"review\", \"review\", \"review\", \"rib\", \"ribeye\", \"rice\", \"ricotta\", \"ridiculous\", \"right\", \"right\", \"right\", \"right\", \"right\", \"right\", \"right\", \"risotto\", \"roast\", \"rock\", \"roll\", \"roll\", \"room\", \"rude\", \"rush\", \"rustic\", \"rye\", \"sad\", \"sake\", \"salad\", \"salmon\", \"salmon\", \"salmon\", \"salsa\", \"salt\", \"salt\", \"salty\", \"sample\", \"sampler\", \"sandwich\", \"sashimi\", \"saturday\", \"saturday\", \"sauce\", \"sauce\", \"sauce\", \"sauce\", \"sausage\", \"sausage\", \"save\", \"say\", \"say\", \"say\", \"say\", \"say\", \"scallop\", \"scoop\", \"seafood\", \"seasonal\", \"seat\", \"seat\", \"seat\", \"seating\", \"section\", \"see\", \"see\", \"see\", \"see\", \"see\", \"see\", \"seem\", \"seem\", \"seem\", \"selection\", \"sell\", \"serve\", \"serve\", \"serve\", \"serve\", \"serve\", \"serve\", \"serve\", \"server\", \"server\", \"server\", \"server\", \"server\", \"service\", \"service\", \"shake\", \"shame\", \"shop\", \"shop\", \"shot\", \"show\", \"show\", \"shrimp\", \"shrimp\", \"side\", \"side\", \"side\", \"side\", \"side\", \"side\", \"side\", \"sign\", \"sister\", \"sit\", \"sit\", \"sit\", \"sit\", \"size\", \"skip\", \"slice\", \"slightly\", \"slow\", \"slow\", \"small\", \"small\", \"small\", \"small\", \"small\", \"small\", \"smell\", \"smile\", \"smoke\", \"soft\", \"soggy\", \"solid\", \"solid\", \"solid\", \"someone\", \"somewhat\", \"soooo\", \"sorry\", \"sound\", \"soup\", \"soup\", \"south_hill\", \"soy\", \"space\", \"special\", \"special\", \"special\", \"special\", \"special\", \"specific\", \"spice_level\", \"spicy\", \"spicy\", \"spicy\", \"spinach\", \"spinach\", \"spoon\", \"square\", \"squirrel_hill\", \"staff\", \"staff\", \"standard\", \"standard\", \"start\", \"start\", \"start\", \"start\", \"stay\", \"steak\", \"steep\", \"stick\", \"stop\", \"stop\", \"stop\", \"stop\", \"stop\", \"story\", \"straight\", \"strawberry\", \"street\", \"street\", \"street\", \"strip_mall\", \"sub\", \"suck\", \"suggest\", \"suggestion\", \"summer\", \"sunday\", \"super\", \"super\", \"super\", \"support\", \"sushi\", \"swear\", \"sweet\", \"sweet\", \"sweet\", \"sweet\", \"table\", \"table\", \"table\", \"taco\", \"take\", \"take\", \"take\", \"take\", \"take\", \"takeout\", \"tap\", \"taste\", \"taste\", \"taste\", \"taste\", \"taste\", \"taste\", \"taste\", \"taste\", \"taste\", \"tasty\", \"tasty\", \"tasty\", \"tasty\", \"tea\", \"tell\", \"tempura\", \"tender\", \"tender\", \"terrible\", \"terrible\", \"thai\", \"thank\", \"theme\", \"thick\", \"thick\", \"thin\", \"thing\", \"thing\", \"thing\", \"thing\", \"think\", \"think\", \"think\", \"third\", \"thoroughly_enjoy\", \"throw\", \"thursday\", \"time\", \"time\", \"time\", \"tiny\", \"tip\", \"toast\", \"today\", \"toddler\", \"tofu\", \"together\", \"tomato\", \"top\", \"top\", \"top\", \"top\", \"top\", \"top\", \"top_notch\", \"topping\", \"tortilla\", \"traditional\", \"trivium\", \"truly\", \"try\", \"try\", \"try\", \"try\", \"try\", \"tuna\", \"turkey\", \"tv\", \"typical\", \"understand\", \"unfortunately\", \"unfortunately\", \"unfortunately\", \"upstairs\", \"use\", \"use\", \"use\", \"use\", \"use\", \"use\", \"use\", \"use\", \"usual\", \"vegan\", \"vegetable\", \"vegetarian\", \"vegetarian\", \"veggie\", \"version\", \"vibe\", \"view\", \"vinaigrette\", \"vinegar\", \"waffle\", \"wait\", \"wait\", \"waiter\", \"waitress\", \"waitress\", \"waitstaff\", \"walk\", \"walk\", \"walk\", \"want\", \"want\", \"want\", \"warn\", \"waste\", \"watch\", \"watch\", \"water\", \"water\", \"wear\", \"wednesday\", \"weekend\", \"welcome\", \"well\", \"well\", \"well\", \"well\", \"well\", \"well\", \"well\", \"whenever\", \"whiskey\", \"white\", \"wide\", \"wife\", \"win\", \"window\", \"wine\", \"wing\", \"winter\", \"wonton\", \"work\", \"work\", \"work\", \"work\", \"work\", \"world\", \"would\", \"would\", \"would\", \"would\", \"wrap\", \"write\", \"year\", \"year\", \"year\", \"year\", \"yellow\", \"yesterday\", \"yet\", \"yum\", \"yum_yum\", \"zucchini\"]}, \"R\": 30, \"lambda.step\": 0.01, \"plot.opts\": {\"xlab\": \"PC1\", \"ylab\": \"PC2\"}, \"topic.order\": [18, 17, 14, 13, 2, 10, 11, 16, 1, 8, 4, 7, 12, 19, 6, 15, 3, 5, 20, 9]};\n",
       "\n",
       "function LDAvis_load_lib(url, callback){\n",
       "  var s = document.createElement('script');\n",
       "  s.src = url;\n",
       "  s.async = true;\n",
       "  s.onreadystatechange = s.onload = callback;\n",
       "  s.onerror = function(){console.warn(\"failed to load library \" + url);};\n",
       "  document.getElementsByTagName(\"head\")[0].appendChild(s);\n",
       "}\n",
       "\n",
       "if(typeof(LDAvis) !== \"undefined\"){\n",
       "   // already loaded: just create the visualization\n",
       "   !function(LDAvis){\n",
       "       new LDAvis(\"#\" + \"ldavis_el4612021346809431368588031118\", ldavis_el4612021346809431368588031118_data);\n",
       "   }(LDAvis);\n",
       "}else if(typeof define === \"function\" && define.amd){\n",
       "   // require.js is available: use it to load d3/LDAvis\n",
       "   require.config({paths: {d3: \"https://cdnjs.cloudflare.com/ajax/libs/d3/3.5.5/d3.min\"}});\n",
       "   require([\"d3\"], function(d3){\n",
       "      window.d3 = d3;\n",
       "      LDAvis_load_lib(\"https://cdn.rawgit.com/bmabey/pyLDAvis/files/ldavis.v1.0.0.js\", function(){\n",
       "        new LDAvis(\"#\" + \"ldavis_el4612021346809431368588031118\", ldavis_el4612021346809431368588031118_data);\n",
       "      });\n",
       "    });\n",
       "}else{\n",
       "    // require.js not available: dynamically load d3 & LDAvis\n",
       "    LDAvis_load_lib(\"https://cdnjs.cloudflare.com/ajax/libs/d3/3.5.5/d3.min.js\", function(){\n",
       "         LDAvis_load_lib(\"https://cdn.rawgit.com/bmabey/pyLDAvis/files/ldavis.v1.0.0.js\", function(){\n",
       "                 new LDAvis(\"#\" + \"ldavis_el4612021346809431368588031118\", ldavis_el4612021346809431368588031118_data);\n",
       "            })\n",
       "         });\n",
       "}\n",
       "</script>"
      ],
      "text/plain": [
       "PreparedData(topic_coordinates=              x         y  topics  cluster       Freq\n",
       "topic                                                \n",
       "17     0.300391  0.023748  1       1        15.576320\n",
       "16     0.313733 -0.010681  2       1        14.908145\n",
       "13     0.326615 -0.020786  3       1        14.422888\n",
       "12     0.243245  0.053823  4       1        10.147038\n",
       "1     -0.130036  0.109918  5       1        6.639475 \n",
       "9     -0.042338 -0.148467  6       1        3.834022 \n",
       "10     0.034083  0.019105  7       1        3.581025 \n",
       "15     0.040122 -0.224247  8       1        3.230392 \n",
       "0      0.003679  0.173346  9       1        3.086933 \n",
       "7     -0.033093  0.180223  10      1        2.903666 \n",
       "3     -0.051947  0.234848  11      1        2.874458 \n",
       "6      0.061975 -0.125265  12      1        2.600354 \n",
       "11    -0.115829 -0.085727  13      1        2.468896 \n",
       "18    -0.109587 -0.099164  14      1        2.245117 \n",
       "5     -0.107583 -0.146883  15      1        2.235567 \n",
       "14    -0.163279 -0.099708  16      1        2.025823 \n",
       "2     -0.150464 -0.054560  17      1        1.997030 \n",
       "4     -0.126314  0.151196  18      1        1.871631 \n",
       "19    -0.135068  0.022991  19      1        1.717095 \n",
       "8     -0.158306  0.046288  20      1        1.634133 , topic_info=     Category          Freq          Term         Total  loglift  logprob\n",
       "term                                                                     \n",
       "25    Default  67362.000000  food          67362.000000  30.0000  30.0000\n",
       "437   Default  21697.000000  pizza         21697.000000  29.0000  29.0000\n",
       "59    Default  84127.000000  good          84127.000000  28.0000  28.0000\n",
       "314   Default  22503.000000  chicken       22503.000000  27.0000  27.0000\n",
       "54    Default  19693.000000  bar           19693.000000  26.0000  26.0000\n",
       "152   Default  49313.000000  order         49313.000000  25.0000  25.0000\n",
       "505   Default  16131.000000  salad         16131.000000  24.0000  24.0000\n",
       "196   Default  21464.000000  fry           21464.000000  23.0000  23.0000\n",
       "298   Default  15225.000000  burger        15225.000000  22.0000  22.0000\n",
       "11    Default  14503.000000  sandwich      14503.000000  21.0000  21.0000\n",
       "55    Default  14903.000000  beer          14903.000000  20.0000  20.0000\n",
       "233   Default  19276.000000  cheese        19276.000000  19.0000  19.0000\n",
       "89    Default  36691.000000  great         36691.000000  18.0000  18.0000\n",
       "137   Default  16239.000000  drink         16239.000000  17.0000  17.0000\n",
       "9     Default  55518.000000  place         55518.000000  16.0000  16.0000\n",
       "110   Default  19467.000000  sauce         19467.000000  15.0000  15.0000\n",
       "5     Default  54281.000000  get           54281.000000  14.0000  14.0000\n",
       "85    Default  13982.000000  dish          13982.000000  13.0000  13.0000\n",
       "27    Default  51618.000000  go            51618.000000  12.0000  12.0000\n",
       "65    Default  25678.000000  restaurant    25678.000000  11.0000  11.0000\n",
       "167   Default  17247.000000  table         17247.000000  10.0000  10.0000\n",
       "98    Default  22523.000000  menu          22523.000000  9.0000   9.0000 \n",
       "601   Default  10142.000000  cook          10142.000000  8.0000   8.0000 \n",
       "162   Default  25917.000000  service       25917.000000  7.0000   7.0000 \n",
       "169   Default  38864.000000  time          38864.000000  6.0000   6.0000 \n",
       "4     Default  13579.000000  fresh         13579.000000  5.0000   5.0000 \n",
       "411   Default  16934.000000  always        16934.000000  4.0000   4.0000 \n",
       "506   Default  8920.000000   selection     8920.000000   3.0000   3.0000 \n",
       "31    Default  13053.000000  lunch         13053.000000  2.0000   2.0000 \n",
       "70    Default  29728.000000  try           29728.000000  1.0000   1.0000 \n",
       "...       ...           ...    ...                  ...     ...      ... \n",
       "2588  Topic20  1449.005737   omelet        1449.942383   4.1134  -4.0182 \n",
       "232   Topic20  1141.047485   cheddar       1141.984131   4.1132  -4.2571 \n",
       "2444  Topic20  1107.841064   fabulous      1108.777710   4.1132  -4.2867 \n",
       "1227  Topic20  1099.536865   pumpkin       1100.473511   4.1132  -4.2942 \n",
       "234   Topic20  1069.192139   combo         1070.128784   4.1132  -4.3222 \n",
       "3213  Topic20  922.585754    banana        923.522400    4.1130  -4.4697 \n",
       "2916  Topic20  852.828125    gravy         853.764771    4.1130  -4.5483 \n",
       "2894  Topic20  840.182068    cinnamon      841.118713    4.1129  -4.5632 \n",
       "1856  Topic20  787.048340    cauliflower   787.984985    4.1129  -4.6286 \n",
       "3512  Topic20  745.681213    fluffy        746.617859    4.1128  -4.6826 \n",
       "1212  Topic20  737.637939    ham           738.574585    4.1128  -4.6934 \n",
       "469   Topic20  710.736572    omelette      711.673218    4.1127  -4.7305 \n",
       "4001  Topic20  706.815674    pamela        707.752319    4.1127  -4.7361 \n",
       "2991  Topic20  665.320007    look_forward  666.256653    4.1127  -4.7966 \n",
       "3758  Topic20  508.421387    biscuit       509.358002    4.1122  -5.0655 \n",
       "2641  Topic20  492.008667    vinaigrette   492.945282    4.1122  -5.0984 \n",
       "5082  Topic20  489.200043    hash          490.136658    4.1121  -5.1041 \n",
       "3049  Topic20  475.309662    bf            476.246277    4.1121  -5.1329 \n",
       "4076  Topic20  449.063354    divine        449.999969    4.1120  -5.1897 \n",
       "2459  Topic20  447.005615    raspberry     447.942230    4.1120  -5.1943 \n",
       "2492  Topic20  438.074127    croissant     439.010742    4.1119  -5.2145 \n",
       "3865  Topic20  405.907471    brownie       406.844086    4.1118  -5.2907 \n",
       "3563  Topic20  404.986389    exist         405.923004    4.1117  -5.2930 \n",
       "4180  Topic20  404.799652    paint         405.736267    4.1117  -5.2935 \n",
       "3     Topic20  4420.574707   egg           5392.197266   3.9154  -2.9028 \n",
       "251   Topic20  1575.809570   sausage       2289.189453   3.7406  -3.9343 \n",
       "921   Topic20  1113.545288   fill          5076.920898   2.5969  -4.2815 \n",
       "542   Topic20  1217.401489   home          7443.996582   2.3034  -4.1924 \n",
       "239   Topic20  630.535583    hungry        2324.324463   2.8094  -4.8503 \n",
       "463   Topic20  495.801453    cute          1554.625488   2.9712  -5.0907 \n",
       "\n",
       "[1003 rows x 6 columns], token_table=      Topic      Freq         Term\n",
       "term                              \n",
       "7347  18     0.999241  _          \n",
       "782   14     0.999157  accommodate\n",
       "935   2      0.996893  accord     \n",
       "1152  2      0.998707  actual     \n",
       "1800  5      0.999619  addition   \n",
       "1359  11     0.997228  adequate   \n",
       "1924  16     0.998399  affordable \n",
       "732   12     0.997351  age        \n",
       "1124  17     0.998824  ago        \n",
       "516   7      0.998405  air        \n",
       "4337  3      0.998616  airport    \n",
       "517   7      0.998821  allow      \n",
       "72    1      0.034083  also       \n",
       "72    2      0.257522  also       \n",
       "72    3      0.471453  also       \n",
       "72    4      0.153356  also       \n",
       "72    6      0.069933  also       \n",
       "72    8      0.013603  also       \n",
       "411   2      0.999921  always     \n",
       "705   2      0.460611  amazing    \n",
       "705   3      0.539304  amazing    \n",
       "1428  5      0.999405  american   \n",
       "539   13     0.999666  amount     \n",
       "4310  9      0.999163  ample      \n",
       "2977  8      0.998363  annoying   \n",
       "3110  1      0.999259  answer     \n",
       "6651  19     0.998498  anyways    \n",
       "461   11     0.998895  anywhere   \n",
       "1557  5      0.999556  app        \n",
       "3363  11     0.997784  appeal     \n",
       "...  ..           ...  ...        \n",
       "4091  8      0.998727  wide       \n",
       "295   14     0.999765  wife       \n",
       "3010  13     0.999366  win        \n",
       "1923  5      0.999330  window     \n",
       "173   4      0.999771  wine       \n",
       "712   17     0.999852  wing       \n",
       "2695  14     0.998692  winter     \n",
       "2335  8      0.997415  wonton     \n",
       "174   2      0.390352  work       \n",
       "174   3      0.079538  work       \n",
       "174   9      0.415575  work       \n",
       "174   11     0.058586  work       \n",
       "174   12     0.055650  work       \n",
       "2106  18     0.999656  world      \n",
       "175   1      0.363425  would      \n",
       "175   2      0.054735  would      \n",
       "175   3      0.321056  would      \n",
       "175   4      0.260751  would      \n",
       "1261  14     0.999425  wrap       \n",
       "1479  9      0.999704  write      \n",
       "594   2      0.537463  year       \n",
       "594   7      0.052488  year       \n",
       "594   9      0.317984  year       \n",
       "594   12     0.091854  year       \n",
       "2675  8      0.998774  yellow     \n",
       "4043  1      0.999265  yesterday  \n",
       "866   12     0.999592  yet        \n",
       "2327  14     0.998746  yum        \n",
       "599   17     0.998430  yum_yum    \n",
       "1063  12     0.998844  zucchini   \n",
       "\n",
       "[1405 rows x 3 columns], R=30, lambda_step=0.01, plot_opts={'xlab': 'PC1', 'ylab': 'PC2'}, topic_order=[18, 17, 14, 13, 2, 10, 11, 16, 1, 8, 4, 7, 12, 19, 6, 15, 3, 5, 20, 9])"
      ]
     },
     "execution_count": 18,
     "metadata": {},
     "output_type": "execute_result"
    }
   ],
   "source": [
    "data_vis"
   ]
  },
  {
   "cell_type": "code",
   "execution_count": 12,
   "metadata": {},
   "outputs": [
    {
     "name": "stdout",
     "output_type": "stream",
     "text": [
      "no stored variable corpus_new\n"
     ]
    }
   ],
   "source": [
    "%store -r corpus_new"
   ]
  },
  {
   "cell_type": "code",
   "execution_count": 2,
   "metadata": {},
   "outputs": [
    {
     "ename": "NameError",
     "evalue": "name 'preprocess_text' is not defined",
     "output_type": "error",
     "traceback": [
      "\u001b[1;31m---------------------------------------------------------------------------\u001b[0m",
      "\u001b[1;31mNameError\u001b[0m                                 Traceback (most recent call last)",
      "\u001b[1;32m<ipython-input-2-21f492fa94e7>\u001b[0m in \u001b[0;36m<module>\u001b[1;34m\u001b[0m\n\u001b[0;32m      3\u001b[0m \u001b[0mvalid_data\u001b[0m\u001b[1;33m[\u001b[0m\u001b[1;34m'new_text'\u001b[0m\u001b[1;33m]\u001b[0m\u001b[1;33m=\u001b[0m\u001b[0mvalid_data\u001b[0m\u001b[1;33m[\u001b[0m\u001b[1;34m'text'\u001b[0m\u001b[1;33m]\u001b[0m\u001b[1;33m+\u001b[0m\u001b[1;34m\" \"\u001b[0m\u001b[1;33m+\u001b[0m\u001b[1;33m(\u001b[0m\u001b[0mvalid_data\u001b[0m\u001b[1;33m[\u001b[0m\u001b[1;34m'stars'\u001b[0m\u001b[1;33m]\u001b[0m\u001b[1;33m)\u001b[0m\u001b[1;33m.\u001b[0m\u001b[0mastype\u001b[0m\u001b[1;33m(\u001b[0m\u001b[0mstr\u001b[0m\u001b[1;33m)\u001b[0m\u001b[1;33m+\u001b[0m\u001b[1;34m\"stars\"\u001b[0m\u001b[1;33m\u001b[0m\u001b[0m\n\u001b[0;32m      4\u001b[0m \u001b[0mvalid_data\u001b[0m \u001b[1;33m=\u001b[0m \u001b[0mvalid_data\u001b[0m\u001b[1;33m.\u001b[0m\u001b[0mdrop\u001b[0m\u001b[1;33m(\u001b[0m\u001b[1;33m[\u001b[0m\u001b[1;34m'funny'\u001b[0m\u001b[1;33m,\u001b[0m\u001b[1;34m'stars'\u001b[0m\u001b[1;33m,\u001b[0m\u001b[1;34m'date'\u001b[0m\u001b[1;33m,\u001b[0m\u001b[1;34m'useful'\u001b[0m\u001b[1;33m,\u001b[0m\u001b[1;34m'cool'\u001b[0m\u001b[1;33m,\u001b[0m\u001b[1;34m'text'\u001b[0m\u001b[1;33m]\u001b[0m\u001b[1;33m,\u001b[0m\u001b[0maxis\u001b[0m\u001b[1;33m=\u001b[0m\u001b[1;36m1\u001b[0m\u001b[1;33m)\u001b[0m\u001b[1;33m\u001b[0m\u001b[0m\n\u001b[1;32m----> 5\u001b[1;33m \u001b[0mcorpus_new\u001b[0m\u001b[1;33m,\u001b[0m\u001b[0m_\u001b[0m\u001b[1;33m=\u001b[0m \u001b[0mpreprocess_text\u001b[0m\u001b[1;33m(\u001b[0m\u001b[0mvalid_data\u001b[0m\u001b[1;33m[\u001b[0m\u001b[1;33m[\u001b[0m\u001b[1;34m\"new_text\"\u001b[0m\u001b[1;33m]\u001b[0m\u001b[1;33m]\u001b[0m\u001b[1;33m.\u001b[0m\u001b[0mvalues\u001b[0m\u001b[1;33m.\u001b[0m\u001b[0mtolist\u001b[0m\u001b[1;33m(\u001b[0m\u001b[1;33m)\u001b[0m\u001b[1;33m)\u001b[0m\u001b[1;33m\u001b[0m\u001b[0m\n\u001b[0m\u001b[0;32m      6\u001b[0m \u001b[0mvalid_data_df\u001b[0m \u001b[1;33m=\u001b[0m \u001b[0mget_topics_weight\u001b[0m\u001b[1;33m(\u001b[0m\u001b[0mvalid_data\u001b[0m\u001b[1;33m,\u001b[0m\u001b[0mlda_model_20_21\u001b[0m\u001b[1;33m,\u001b[0m\u001b[0mcorpus_new\u001b[0m\u001b[1;33m)\u001b[0m\u001b[1;33m\u001b[0m\u001b[0m\n\u001b[0;32m      7\u001b[0m \u001b[0mvalid_data_df\u001b[0m\u001b[1;33m.\u001b[0m\u001b[0mto_csv\u001b[0m\u001b[1;33m(\u001b[0m\u001b[1;34m'valid/reviews_topic_valid.csv'\u001b[0m\u001b[1;33m,\u001b[0m\u001b[0mindex\u001b[0m\u001b[1;33m=\u001b[0m\u001b[1;32mFalse\u001b[0m\u001b[1;33m)\u001b[0m\u001b[1;33m\u001b[0m\u001b[0m\n",
      "\u001b[1;31mNameError\u001b[0m: name 'preprocess_text' is not defined"
     ]
    }
   ],
   "source": [
    "import pandas as pd\n",
    "valid_data = pd.read_csv('D:\\\\Data Mining\\\\yelp_dataset\\\\PA\\\\Restaurants-new\\\\Restaurants\\\\valid\\\\PA_valid_yelp_academic_dataset_review.csv', error_bad_lines=False);\n",
    "valid_data['new_text']=valid_data['text']+\" \"+(valid_data['stars']).astype(str)+\"stars\"\n",
    "valid_data = valid_data.drop(['funny','stars','date','useful','cool','text'],axis=1)\n",
    "corpus_new,_= preprocess_text(valid_data[[\"new_text\"]].values.tolist())\n",
    "valid_data_df = get_topics_weight(valid_data,lda_model_20_21,corpus_new)\n",
    "valid_data_df.to_csv('valid/reviews_topic_valid.csv',index=False)"
   ]
  },
  {
   "cell_type": "code",
   "execution_count": 64,
   "metadata": {},
   "outputs": [],
   "source": [
    "test_data = pd.read_csv('D:\\\\Data Mining\\\\yelp_dataset\\\\PA\\\\Restaurants-new\\\\Restaurants\\\\test\\\\PA_test_yelp_academic_dataset_review.csv', error_bad_lines=False);\n",
    "test_data['new_text']= test_data['text']+\" \"+(test_data['stars']).astype(str)+\"stars\"\n",
    "test_data = test_data.drop(['funny','stars','date','useful','cool','text'],axis=1)\n",
    "corpus_new,_= preprocess_text(test_data[[\"new_text\"]].values.tolist())\n",
    "test_data_df = get_topics_weight(test_data,lda_model_20_21,corpus_new)\n",
    "test_data_df.to_csv('test/reviews_topic_test.csv',index=False)"
   ]
  },
  {
   "cell_type": "code",
   "execution_count": 37,
   "metadata": {},
   "outputs": [],
   "source": [
    "with open('lda_model_20_21.pkl', 'rb') as fp:\n",
    "    lda_model_20_21 = pickle.load(fp)"
   ]
  },
  {
   "cell_type": "code",
   "execution_count": 25,
   "metadata": {},
   "outputs": [],
   "source": [
    "data_valid = pd.read_csv('D:\\\\Data Mining\\\\yelp_dataset\\\\PA\\\\Restaurants-new\\\\Restaurants\\\\valid\\\\PA_valid_yelp_academic_dataset_review.csv', error_bad_lines=False);\n",
    "data_valid['new_text']=data_valid['text']+\" \"+(data_valid['stars']).astype(str)+\"stars\"\n",
    "data_valid = data_valid.drop(['funny','stars','date','useful','cool','text'],axis=1)\n",
    "user_reviews_valid = data_valid.groupby([\"user_id\"])[\"new_text\"].apply(lambda x:' '.join(x)).reset_index()\n",
    "business_reviews_valid = data_valid.groupby([\"business_id\"])[\"new_text\"].apply(lambda x:' '.join(x)).reset_index()\n",
    "corpus_valid,_= preprocess_text(business_reviews_valid[[\"new_text\"]].values.tolist())\n"
   ]
  },
  {
   "cell_type": "code",
   "execution_count": 55,
   "metadata": {},
   "outputs": [],
   "source": [
    "data_test = pd.read_csv('D:\\\\Data Mining\\\\yelp_dataset\\\\PA\\\\Restaurants-new\\\\Restaurants\\\\test\\\\PA_test_yelp_academic_dataset_review.csv', error_bad_lines=False);\n",
    "data_test['new_text']=data_test['text'].astype(str)+\" \"+(data_test['stars']).astype(str)+\"stars\"\n",
    "data_test = data_test.drop(['funny','stars','date','useful','cool','text'],axis=1)\n",
    "user_reviews_test = data_test.groupby([\"user_id\"])[\"new_text\"].apply(lambda x:' '.join(x)).reset_index()\n",
    "business_reviews_test = data_test.groupby([\"business_id\"])[\"new_text\"].apply(lambda x:' '.join(x)).reset_index()\n",
    "corpus_test,_= preprocess_text(business_reviews_test[\"new_text\"].tolist())\n"
   ]
  },
  {
   "cell_type": "code",
   "execution_count": 57,
   "metadata": {},
   "outputs": [],
   "source": [
    "business_reviews_topic = get_topics_weight(business_reviews_valid,lda_model_20_21,corpus_valid)\n",
    "business_reviews_topic.to_csv('valid/business_reviews_topic_valid.csv',index=False)\n",
    "\n"
   ]
  },
  {
   "cell_type": "code",
   "execution_count": 58,
   "metadata": {},
   "outputs": [],
   "source": [
    "business_reviews_topic = get_topics_weight(business_reviews_test,lda_model_20_21,corpus_test)\n",
    "business_reviews_topic.to_csv('test/business_reviews_topic_test.csv',index=False)"
   ]
  }
 ],
 "metadata": {
  "kernelspec": {
   "display_name": "Python 3",
   "language": "python",
   "name": "python3"
  },
  "language_info": {
   "codemirror_mode": {
    "name": "ipython",
    "version": 3
   },
   "file_extension": ".py",
   "mimetype": "text/x-python",
   "name": "python",
   "nbconvert_exporter": "python",
   "pygments_lexer": "ipython3",
   "version": "3.7.0"
  }
 },
 "nbformat": 4,
 "nbformat_minor": 2
}
