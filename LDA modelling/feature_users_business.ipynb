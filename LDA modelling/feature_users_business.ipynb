{
 "cells": [
  {
   "cell_type": "code",
   "execution_count": null,
   "metadata": {},
   "outputs": [],
   "source": [
    "import pyspark"
   ]
  },
  {
   "cell_type": "code",
   "execution_count": 23,
   "metadata": {},
   "outputs": [],
   "source": [
    "import findspark\n",
    "findspark.init()\n",
    "import os\n",
    "os.environ[\"JAVA_HOME\"] = \"C:\\\\Java\\\\jdk1.8.0_191\"\n",
    "import pyspark\n",
    "import string\n",
    "from pyspark import SparkContext\n",
    "from pyspark.sql import SQLContext\n",
    "from pyspark.mllib.util import MLUtils\n",
    "from pyspark.sql.types import *\n",
    "from pyspark.ml.feature import CountVectorizer, CountVectorizerModel, Tokenizer, RegexTokenizer, StopWordsRemover"
   ]
  },
  {
   "cell_type": "code",
   "execution_count": 8,
   "metadata": {},
   "outputs": [],
   "source": [
    "import pandas as pd\n",
    "review_data = pd.read_csv('..\\\\..\\\\PA\\\\Restaurants-new\\\\Restaurants\\\\train\\\\PA_train_yelp_academic_dataset_review.csv', error_bad_lines=False)\n",
    "user_data = pd.read_csv('..\\\\..\\\\PA\\\\Restaurants-new\\\\Restaurants\\\\train\\\\PA_train_yelp_academic_dataset_user.csv', error_bad_lines=False)\n",
    "business_data = pd.read_csv('..\\\\..\\\\PA\\\\Restaurants-new\\\\Restaurants\\\\train\\\\PA_train_yelp_academic_dataset_business.csv', error_bad_lines=False)\n",
    "user_review=pd.read_csv(\"reviews_topic_new.csv\")"
   ]
  },
  {
   "cell_type": "code",
   "execution_count": 7,
   "metadata": {},
   "outputs": [],
   "source": [
    "import pickle"
   ]
  },
  {
   "cell_type": "code",
   "execution_count": 8,
   "metadata": {},
   "outputs": [
    {
     "name": "stderr",
     "output_type": "stream",
     "text": [
      "c:\\users\\ragini\\appdata\\local\\programs\\python\\python37\\lib\\site-packages\\gensim\\utils.py:1212: UserWarning: detected Windows; aliasing chunkize to chunkize_serial\n",
      "  warnings.warn(\"detected Windows; aliasing chunkize to chunkize_serial\")\n"
     ]
    }
   ],
   "source": [
    "with open('lda_model_20_21.pkl', 'rb') as fp:\n",
    "    lda_model_20 = pickle.load(fp)"
   ]
  },
  {
   "cell_type": "code",
   "execution_count": 5,
   "metadata": {},
   "outputs": [],
   "source": [
    "def get_user_features(review,user_data):\n",
    "    new_user_review_df=review.join(user_data.set_index('user_id'),on='user_id').drop(['cool','name','friends','elite','yelping_since','review_count','fans','useful','funny'],axis=1)\n",
    "    return new_user_review_df\n",
    "    "
   ]
  },
  {
   "cell_type": "code",
   "execution_count": 12,
   "metadata": {},
   "outputs": [],
   "source": [
    "new_user_review_df=get_user_features(user_review,user_data)"
   ]
  },
  {
   "cell_type": "code",
   "execution_count": 13,
   "metadata": {},
   "outputs": [],
   "source": [
    "new_user_review_df.to_csv('user_FeatureVec.csv',index=False)"
   ]
  },
  {
   "cell_type": "code",
   "execution_count": 3,
   "metadata": {},
   "outputs": [],
   "source": [
    "def get_categ(business_data):\n",
    "    allCategories=set()\n",
    "    for row in business_data['categories']:\n",
    "        row_set = set(row.replace('\\\\','').replace('/','').strip(\" \").split(','))\n",
    "        row_set = set(x.strip() for x in row_set)\n",
    "        allCategories=allCategories.union(row_set)\n",
    "    allCategories=sorted(allCategories)\n",
    "    return allCategories"
   ]
  },
  {
   "cell_type": "code",
   "execution_count": 4,
   "metadata": {},
   "outputs": [],
   "source": [
    "def getBusinessCategVector(row,allCategories):\n",
    "    row = str(row)\n",
    "    categ_row=row.replace('\\\\','').replace('/','').strip(\" \").split(',')\n",
    "    categ_row =[ x.strip() for x in sorted(categ_row)]\n",
    "    one_hot_categ = [categ_row.count(x) for x in allCategories]\n",
    "    return one_hot_categ"
   ]
  },
  {
   "cell_type": "code",
   "execution_count": 5,
   "metadata": {},
   "outputs": [],
   "source": [
    "def get_business_features(business_data,review,train_business):\n",
    "    filtered_business_data = business_data.loc[:,['business_id','stars','is_open','categories','attributes.Ambience.casual','attributes.BikeParking','attributes.BusinessAcceptsCreditCards','attributes.BusinessParking.street','attributes.HasTV','attributes.RestaurantsDelivery','attributes.GoodForMeal.breakfast','attributes.GoodForMeal.brunch','attributes.GoodForMeal.dessert','attributes.GoodForMeal.dinner','attributes.GoodForMeal.latenight','attributes.GoodForMeal.lunch','attributes.Alcohol','attributes.NoiseLevel','attributes.RestaurantsPriceRange2']]\n",
    "    #new_business_review_df= user_review.join(business_data.set_index('business_id'),on='business_id')\n",
    "    filtered_business_data.rename(index=str,columns={'stars':'business_stars'},inplace=True)\n",
    "    new_business_review_df= review.join(filtered_business_data.set_index('business_id'),on='business_id')\n",
    "    allCategories = get_categ(train_business)\n",
    "    business_categ_vector = list(map(lambda x:getBusinessCategVector(x,allCategories),new_business_review_df['categories'].tolist()))\n",
    "    business_categ_vector_df = pd.DataFrame(business_categ_vector,columns=[x for x in (allCategories)])\n",
    "    business_reviews_df_categ= pd.concat([new_business_review_df,business_categ_vector_df],axis=1).drop(['categories'],axis=1)\n",
    "    return business_reviews_df_categ"
   ]
  },
  {
   "cell_type": "code",
   "execution_count": 35,
   "metadata": {},
   "outputs": [],
   "source": [
    "business_reviews_df_categ = get_business_features(business_data,user_review)"
   ]
  },
  {
   "cell_type": "code",
   "execution_count": 37,
   "metadata": {},
   "outputs": [],
   "source": [
    "business_reviews_df_categ.to_csv('business_FeatureVec.csv',index=False)"
   ]
  },
  {
   "cell_type": "code",
   "execution_count": 2,
   "metadata": {},
   "outputs": [],
   "source": [
    "# busi_review_busi_vec_df = pd.concat([categ_vec,business_data_filtered.drop([\"categories\"],axis=1)],axis=1)\n",
    "# busi_review_busi_vec_df.rename(index=str,columns={'stars':'business_stars'},inplace=True)\n",
    "# busi_review_busi_vec_df = user_review_df_load.join(busi_review_busi_vec_df.set_index('business_id'),on='business_id').drop(['text','user_id','stars'],axis=1)\n",
    "# print(busi_review_busi_vec_df.count())\n",
    "# busi_review_busi_vec_df.to_csv('busi_review_featureVec.csv',index=False)"
   ]
  },
  {
   "cell_type": "code",
   "execution_count": 14,
   "metadata": {},
   "outputs": [],
   "source": [
    "\n",
    "review_data_valid = pd.read_csv('..\\\\..\\\\PA\\\\Restaurants-new\\\\Restaurants\\\\valid\\\\PA_valid_yelp_academic_dataset_review.csv', error_bad_lines=False)\n",
    "user_data_valid = pd.read_csv('..\\\\..\\\\PA\\\\Restaurants-new\\\\Restaurants\\\\valid\\\\PA_valid_yelp_academic_dataset_user.csv', error_bad_lines=False)\n",
    "business_data_valid = pd.read_csv('..\\\\..\\\\PA\\\\Restaurants-new\\\\Restaurants\\\\valid\\\\PA_valid_yelp_academic_dataset_business.csv', error_bad_lines=False)\n",
    "review_topic_valid = pd.read_csv(\"valid/reviews_topic_valid.csv\")\n"
   ]
  },
  {
   "cell_type": "code",
   "execution_count": null,
   "metadata": {},
   "outputs": [],
   "source": [
    "user_review_df_valid=get_user_features(review_topic_valid,user_data_valid)\n",
    "user_review_df_valid.to_csv('valid/user_FeatureVec_valid.csv',index=False)\n",
    "business_reviews_df_categ_valid = get_business_features(business_data_valid,review_topic_valid,business_data)\n",
    "business_reviews_df_categ_valid.to_csv('valid/business_FeatureVec_valid.csv',index=False)"
   ]
  },
  {
   "cell_type": "code",
   "execution_count": 10,
   "metadata": {},
   "outputs": [],
   "source": [
    "review_data_test = pd.read_csv('..\\\\..\\\\PA\\\\Restaurants-new\\\\Restaurants\\\\test\\\\PA_test_yelp_academic_dataset_review.csv', error_bad_lines=False)\n",
    "user_data_test = pd.read_csv('..\\\\..\\\\PA\\\\Restaurants-new\\\\Restaurants\\\\test\\\\PA_test_yelp_academic_dataset_user.csv', error_bad_lines=False)\n",
    "business_data_test = pd.read_csv('..\\\\..\\\\PA\\\\Restaurants-new\\\\Restaurants\\\\test\\\\PA_test_yelp_academic_dataset_business.csv', error_bad_lines=False)\n"
   ]
  },
  {
   "cell_type": "code",
   "execution_count": null,
   "metadata": {},
   "outputs": [],
   "source": [
    "review_topic_test = pd.read_csv(\"test/reviews_topic_test.csv\")\n",
    "user_review_df_test = get_user_features(review_topic_test,user_data_test)\n",
    "user_review_df_test.to_csv('test/user_FeatureVec_test.csv',index=False)\n",
    "business_reviews_df_categ_test = get_business_features(business_data_test,review_topic_test,business_data)\n",
    "business_reviews_df_categ_test.to_csv('test/business_FeatureVec_test.csv',index=False)"
   ]
  },
  {
   "cell_type": "code",
   "execution_count": 43,
   "metadata": {},
   "outputs": [
    {
     "data": {
      "text/plain": [
       "(65591, 338)"
      ]
     },
     "execution_count": 43,
     "metadata": {},
     "output_type": "execute_result"
    }
   ],
   "source": [
    "business_reviews_df_categ_test.shape"
   ]
  },
  {
   "cell_type": "code",
   "execution_count": 60,
   "metadata": {},
   "outputs": [],
   "source": [
    "business_reviews_topic_attr=get_business_features(business_data,pd.read_csv('business_reviews_topic.csv'),business_data)\n",
    "#business_reviews_topic_attr = pd.read_csv('business_reviews_topic.csv').join(business_data.set_index('business_id'),on='business_id')"
   ]
  },
  {
   "cell_type": "code",
   "execution_count": 61,
   "metadata": {},
   "outputs": [],
   "source": [
    "business_reviews_topic_attr.to_csv('business_reviews_topic_attr.csv',index=False)"
   ]
  },
  {
   "cell_type": "code",
   "execution_count": 13,
   "metadata": {},
   "outputs": [],
   "source": [
    "business_reviews_topic_attr_test = get_business_features(business_data_test,pd.read_csv('test/business_reviews_topic_test.csv'),business_data)\n",
    "business_reviews_topic_attr_test.to_csv('test/business_reviews_topic_attr_test.csv',index=False)"
   ]
  },
  {
   "cell_type": "code",
   "execution_count": 15,
   "metadata": {},
   "outputs": [],
   "source": [
    "business_reviews_topic_attr_valid = get_business_features(business_data_valid,pd.read_csv('valid/business_reviews_topic_valid.csv'),business_data)\n",
    "business_reviews_topic_attr_valid.to_csv('valid/business_reviews_topic_attr_valid.csv',index=False)"
   ]
  }
 ],
 "metadata": {
  "kernelspec": {
   "display_name": "Python 3",
   "language": "python",
   "name": "python3"
  },
  "language_info": {
   "codemirror_mode": {
    "name": "ipython",
    "version": 3
   },
   "file_extension": ".py",
   "mimetype": "text/x-python",
   "name": "python",
   "nbconvert_exporter": "python",
   "pygments_lexer": "ipython3",
   "version": "3.7.0"
  }
 },
 "nbformat": 4,
 "nbformat_minor": 2
}
