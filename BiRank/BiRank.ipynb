{
 "cells": [
  {
   "cell_type": "code",
   "execution_count": 130,
   "metadata": {},
   "outputs": [],
   "source": [
    "train_dataset = \"/Users/arun/Downloads/Restaurants/train/PA_train_yelp_academic_dataset_review.csv\"\n",
    "test_dataset='/Users/arun/Downloads/Restaurants/test/PA_test_yelp_academic_dataset_review.csv'\n",
    "valid_dataset = '/Users/arun/Downloads/Restaurants/valid/PA_valid_yelp_academic_dataset_review.csv'"
   ]
  },
  {
   "cell_type": "code",
   "execution_count": 131,
   "metadata": {},
   "outputs": [],
   "source": [
    "import pyspark\n",
    "from pyspark import SparkContext"
   ]
  },
  {
   "cell_type": "code",
   "execution_count": 163,
   "metadata": {},
   "outputs": [],
   "source": [
    "from pyspark.sql import SparkSession\n",
    "spark = SparkSession.builder.appName(\"graph analysis\").getOrCreate()"
   ]
  },
  {
   "cell_type": "code",
   "execution_count": 133,
   "metadata": {},
   "outputs": [],
   "source": [
    "sc = spark.sparkContext"
   ]
  },
  {
   "cell_type": "code",
   "execution_count": 134,
   "metadata": {},
   "outputs": [],
   "source": [
    "pyspark.SparkContext.setCheckpointDir(sc, '/tmp/spark-checkpoints')"
   ]
  },
  {
   "cell_type": "code",
   "execution_count": 135,
   "metadata": {},
   "outputs": [],
   "source": [
    "train_df = spark.read.csv(train_dataset, header=True, quote='\"', escape='\"', multiLine=True)\n",
    "valid_df = spark.read.csv(valid_dataset, header=True, quote='\"', escape='\"', multiLine=True)\n",
    "test_df = spark.read.csv(test_dataset, header=True, quote='\"', escape='\"', multiLine=True)"
   ]
  },
  {
   "cell_type": "code",
   "execution_count": 136,
   "metadata": {},
   "outputs": [
    {
     "data": {
      "text/plain": [
       "['funny',\n",
       " 'user_id',\n",
       " 'review_id',\n",
       " 'text',\n",
       " 'business_id',\n",
       " 'stars',\n",
       " 'date',\n",
       " 'useful',\n",
       " 'cool',\n",
       " '1overN',\n",
       " '2overN',\n",
       " 'percentile\\r']"
      ]
     },
     "execution_count": 136,
     "metadata": {},
     "output_type": "execute_result"
    }
   ],
   "source": [
    "train_df.columns"
   ]
  },
  {
   "cell_type": "code",
   "execution_count": 137,
   "metadata": {},
   "outputs": [
    {
     "data": {
      "text/plain": [
       "84887"
      ]
     },
     "execution_count": 137,
     "metadata": {},
     "output_type": "execute_result"
    }
   ],
   "source": [
    "train_df.count()"
   ]
  },
  {
   "cell_type": "code",
   "execution_count": 138,
   "metadata": {},
   "outputs": [
    {
     "data": {
      "text/plain": [
       "65591"
      ]
     },
     "execution_count": 138,
     "metadata": {},
     "output_type": "execute_result"
    }
   ],
   "source": [
    "test_df.count()"
   ]
  },
  {
   "cell_type": "code",
   "execution_count": 139,
   "metadata": {},
   "outputs": [
    {
     "data": {
      "text/plain": [
       "27255"
      ]
     },
     "execution_count": 139,
     "metadata": {},
     "output_type": "execute_result"
    }
   ],
   "source": [
    "valid_df.count()"
   ]
  },
  {
   "cell_type": "code",
   "execution_count": 140,
   "metadata": {},
   "outputs": [],
   "source": [
    "train_rdd = train_df.select(\"user_id\", \"business_id\", \"stars\").rdd.map(lambda (user, business, star): (user, business, int(star)))\n",
    "test_rdd = test_df.select(\"user_id\", \"business_id\", \"stars\").rdd.map(lambda (user, business, star): (user, business, int(star)))"
   ]
  },
  {
   "cell_type": "code",
   "execution_count": 141,
   "metadata": {},
   "outputs": [
    {
     "data": {
      "text/plain": [
       "[(u'eG6HneK9zLcuZpVuKcsCGQ', u'XqNDr54eLDLRfZwo4l4dVA', 4),\n",
       " (u'AlzerMK7z84E4KU6GjPzIQ', u'PyTHy9VPOhBCiGLsi-PA2Q', 3),\n",
       " (u'AlzerMK7z84E4KU6GjPzIQ', u'zzwhN7x37nyjP0ZM8oiHmw', 4),\n",
       " (u'AlzerMK7z84E4KU6GjPzIQ', u'Ul6JwluSTm12PVDIqnNaTg', 4),\n",
       " (u'AlzerMK7z84E4KU6GjPzIQ', u'2Ezp_HYCIVE-h7hpBBvtxw', 4)]"
      ]
     },
     "execution_count": 141,
     "metadata": {},
     "output_type": "execute_result"
    }
   ],
   "source": [
    "train_rdd.take(5)"
   ]
  },
  {
   "cell_type": "code",
   "execution_count": 142,
   "metadata": {},
   "outputs": [],
   "source": [
    "def preprocess_data(train, test):\n",
    "    \n",
    "    train_dev_test = sc.union([train, test])\n",
    "    \n",
    "    user_index = train_dev_test.map(lambda x: x[0]).distinct().zipWithIndex()\n",
    "    bus_index = train_dev_test.map(lambda x: x[1]).distinct().zipWithIndex()\n",
    "    \n",
    "    train_index = train.map(lambda x: (x[0], (x[1], x[2]))).join(user_index)\\\n",
    "    .map(lambda x: (x[1][0][0], (x[1][0][1], x[1][1]))).join(bus_index)\\\n",
    "    .map(lambda x: (x[1][0][1], x[1][1], int(x[1][0][0])))\n",
    "    \n",
    "    test_index = test.map(lambda x: (x[0], (x[1], x[2]))).join(user_index)\\\n",
    "    .map(lambda x: (x[1][0][0], (x[1][0][1], x[1][1]))).join(bus_index)\\\n",
    "    .map(lambda x: (x[1][0][1], x[1][1], int(x[1][0][0])))\n",
    "    \n",
    "    return (train_index, test_index, user_index, bus_index)"
   ]
  },
  {
   "cell_type": "code",
   "execution_count": 143,
   "metadata": {},
   "outputs": [],
   "source": [
    "train, test, user_index, bus_index = preprocess_data(train_rdd, test_rdd)"
   ]
  },
  {
   "cell_type": "code",
   "execution_count": 144,
   "metadata": {},
   "outputs": [],
   "source": [
    "train.checkpoint()\n",
    "# dev.checkpoint()\n",
    "test.checkpoint()"
   ]
  },
  {
   "cell_type": "code",
   "execution_count": 145,
   "metadata": {},
   "outputs": [
    {
     "data": {
      "text/plain": [
       "[(50221, 932, 5),\n",
       " (11002, 932, 2),\n",
       " (48676, 932, 5),\n",
       " (14468, 932, 5),\n",
       " (49833, 932, 5)]"
      ]
     },
     "execution_count": 145,
     "metadata": {},
     "output_type": "execute_result"
    }
   ],
   "source": [
    "train.take(5)"
   ]
  },
  {
   "cell_type": "markdown",
   "metadata": {},
   "source": [
    "## Compute weight matrix"
   ]
  },
  {
   "cell_type": "code",
   "execution_count": 146,
   "metadata": {},
   "outputs": [],
   "source": [
    "from scipy import sparse\n",
    "import numpy as np"
   ]
  },
  {
   "cell_type": "code",
   "execution_count": 147,
   "metadata": {},
   "outputs": [],
   "source": [
    "rcv = np.array(train.collect())"
   ]
  },
  {
   "cell_type": "code",
   "execution_count": 148,
   "metadata": {},
   "outputs": [],
   "source": [
    "user_indexes = rcv[:, 0]\n",
    "business_indexes = rcv[:, 1]\n",
    "ratings = rcv[:, 2]"
   ]
  },
  {
   "cell_type": "code",
   "execution_count": 149,
   "metadata": {},
   "outputs": [],
   "source": [
    "num_users = max(user_indexes) + 1\n",
    "num_businesses = max(business_indexes) + 1"
   ]
  },
  {
   "cell_type": "code",
   "execution_count": 150,
   "metadata": {},
   "outputs": [],
   "source": [
    "weight_matrix = sparse.csr_matrix((ratings, (user_indexes, business_indexes)), shape=(num_users, num_businesses))"
   ]
  },
  {
   "cell_type": "code",
   "execution_count": 151,
   "metadata": {},
   "outputs": [
    {
     "data": {
      "text/plain": [
       "(56141, 3782)"
      ]
     },
     "execution_count": 151,
     "metadata": {},
     "output_type": "execute_result"
    }
   ],
   "source": [
    "weight_matrix.shape"
   ]
  },
  {
   "cell_type": "markdown",
   "metadata": {},
   "source": [
    "## User and business diagonal vectors"
   ]
  },
  {
   "cell_type": "code",
   "execution_count": 152,
   "metadata": {},
   "outputs": [],
   "source": [
    "d_user = np.array(train.map(lambda x: (x[0], x[2])).reduceByKey(lambda x, y: x+y).mapValues(lambda x: 1/np.sqrt(x)).collect())"
   ]
  },
  {
   "cell_type": "code",
   "execution_count": 153,
   "metadata": {},
   "outputs": [],
   "source": [
    "user_diag_matrix = sparse.csr_matrix((d_user[:, 1], (d_user[:,0], d_user[:,0])), shape=(num_users, num_users))"
   ]
  },
  {
   "cell_type": "code",
   "execution_count": 154,
   "metadata": {},
   "outputs": [],
   "source": [
    "d_business = np.array(train.map(lambda x: (x[1], x[2])).reduceByKey(lambda x, y: x+y).mapValues(lambda x: 1/np.sqrt(x)).collect())\n",
    "bus_diag_matrix = sparse.csr_matrix((d_business[:, 1], (d_business[:,0], d_business[:,0])), shape=(num_businesses, num_businesses))\n"
   ]
  },
  {
   "cell_type": "markdown",
   "metadata": {},
   "source": [
    "## Product of all 3 matrices"
   ]
  },
  {
   "cell_type": "code",
   "execution_count": 155,
   "metadata": {},
   "outputs": [
    {
     "name": "stdout",
     "output_type": "stream",
     "text": [
      "CPU times: user 8.46 ms, sys: 45.4 ms, total: 53.9 ms\n",
      "Wall time: 167 ms\n"
     ]
    }
   ],
   "source": [
    "%%time\n",
    "S = sparse.csr_matrix.dot((sparse.csr_matrix.dot(user_diag_matrix, weight_matrix)), bus_diag_matrix)"
   ]
  },
  {
   "cell_type": "code",
   "execution_count": 72,
   "metadata": {},
   "outputs": [],
   "source": [
    "## Is it ok to initialize all values to less than 0\n"
   ]
  },
  {
   "cell_type": "code",
   "execution_count": 156,
   "metadata": {},
   "outputs": [],
   "source": [
    "p0 = np.zeros(num_businesses)\n",
    "u0 = np.zeros(num_users)"
   ]
  },
  {
   "cell_type": "code",
   "execution_count": 157,
   "metadata": {},
   "outputs": [
    {
     "name": "stdout",
     "output_type": "stream",
     "text": [
      "[0.54340494 0.27836939 0.42451759 ... 0.32243079 0.00827528 0.97578537]\n",
      "[0.27138646 0.36400738 0.15940905 ... 0.06023534 0.44394428 0.6714796 ]\n",
      "32.26305413906152\n",
      "131.85173805941514\n",
      "2.235201699724393e-22\n",
      "3.1379647877223362e-22\n",
      "2.955094942859544e-45\n",
      "4.148611678406025e-45\n",
      "3.906844792749965e-68\n",
      "5.484758441377981e-68\n"
     ]
    }
   ],
   "source": [
    "np.random.seed(100)\n",
    "\n",
    "p = np.random.rand(num_businesses)\n",
    "u = np.random.rand(num_users)\n",
    "\n",
    "print p\n",
    "print u\n",
    "alpha = 0.9\n",
    "beta = 0.9\n",
    "\n",
    "\n",
    "for i in range(2000):\n",
    "    p_new = alpha * sparse.csc_matrix.dot(S.T, u) + (1 - alpha) * p0\n",
    "    u_new = beta * sparse.csr_matrix.dot(S, p) + (1 - beta) * u0\n",
    "    \n",
    "    # Change\n",
    "    if i%500 == 0:\n",
    "        print np.linalg.norm(p_new - p)\n",
    "        print np.linalg.norm(u_new - u)\n",
    "    \n",
    "    p = p_new\n",
    "    u = u_new"
   ]
  },
  {
   "cell_type": "code",
   "execution_count": 99,
   "metadata": {},
   "outputs": [],
   "source": [
    "b_index = dict()\n",
    "reverse_b_index = dict()\n",
    "\n",
    "for row in bus_index.collect():\n",
    "    b_index[row[0]] = row[1]\n",
    "    reverse_b_index[row[1]] = row[0]"
   ]
  },
  {
   "cell_type": "code",
   "execution_count": 172,
   "metadata": {},
   "outputs": [],
   "source": [
    "u_index = dict()\n",
    "reverse_u_index = dict()\n",
    "\n",
    "for row in user_index.collect():\n",
    "    u_index[row[0]] = row[1]\n",
    "    reverse_u_index[row[1]] = row[0]"
   ]
  },
  {
   "cell_type": "code",
   "execution_count": 124,
   "metadata": {},
   "outputs": [
    {
     "data": {
      "text/plain": [
       "5583"
      ]
     },
     "execution_count": 124,
     "metadata": {},
     "output_type": "execute_result"
    }
   ],
   "source": [
    "most_popular_business = np.argmax(p)\n",
    "np.sum(weight_matrix[:,most_popular_business].toarray())"
   ]
  },
  {
   "cell_type": "code",
   "execution_count": 125,
   "metadata": {},
   "outputs": [
    {
     "data": {
      "text/plain": [
       "3618"
      ]
     },
     "execution_count": 125,
     "metadata": {},
     "output_type": "execute_result"
    }
   ],
   "source": [
    "most_active_user = np.argmax(u)\n",
    "np.sum(weight_matrix[most_active_user].toarray())"
   ]
  },
  {
   "cell_type": "markdown",
   "metadata": {},
   "source": [
    "## Predict top 50 business for each business in test"
   ]
  },
  {
   "cell_type": "code",
   "execution_count": 160,
   "metadata": {},
   "outputs": [],
   "source": [
    "test_user_set = set()\n",
    "\n",
    "for (user, business, rating) in test.collect():\n",
    "    test_user_set.add(user)"
   ]
  },
  {
   "cell_type": "code",
   "execution_count": 189,
   "metadata": {},
   "outputs": [
    {
     "name": "stdout",
     "output_type": "stream",
     "text": [
      "CPU times: user 1min 8s, sys: 940 ms, total: 1min 9s\n",
      "Wall time: 1min 19s\n"
     ]
    }
   ],
   "source": [
    "%%time\n",
    "\n",
    "predictions = dict()\n",
    "count = 0\n",
    "for user in test_user_set:\n",
    "    count += 1\n",
    "    u0 = get_user_prior(user)\n",
    "    p0 = np.zeros(num_businesses)\n",
    "\n",
    "    p = np.random.rand(num_businesses)\n",
    "    u = np.random.rand(num_users)\n",
    "\n",
    "    alpha = 0.1\n",
    "    beta = 0.2\n",
    "\n",
    "    for i in range(500):\n",
    "        p_new = alpha * sparse.csc_matrix.dot(S.T, u) + (1 - alpha) * p0\n",
    "        u_new = beta * sparse.csr_matrix.dot(S, p) + (1 - beta) * u0\n",
    "\n",
    "        # Change\n",
    "#         if i%500 == 0:\n",
    "#             print np.linalg.norm(p_new - p)\n",
    "#             print np.linalg.norm(u_new - u)\n",
    "\n",
    "        p = p_new\n",
    "        u = u_new\n",
    "        \n",
    "    predictions[user] = get_business_predictions(p)\n",
    "    \n",
    "    if count > 100:\n",
    "        break"
   ]
  },
  {
   "cell_type": "code",
   "execution_count": 190,
   "metadata": {},
   "outputs": [],
   "source": [
    "write_predictions(predictions)"
   ]
  },
  {
   "cell_type": "code",
   "execution_count": 166,
   "metadata": {},
   "outputs": [],
   "source": [
    "def get_user_prior(user_id):\n",
    "    u0 = np.zeros(num_users)\n",
    "    t_f = train.filter(lambda (x, y, z): x==user_id)\n",
    "    for (u, b, r) in t_f.collect():\n",
    "        u0[b] = r\n",
    "    \n",
    "    return u0"
   ]
  },
  {
   "cell_type": "code",
   "execution_count": 178,
   "metadata": {},
   "outputs": [],
   "source": [
    "def get_business_predictions(b_vector):\n",
    "    return np.argsort(b_vector)[-50:]"
   ]
  },
  {
   "cell_type": "code",
   "execution_count": 180,
   "metadata": {},
   "outputs": [],
   "source": [
    "def write_predictions(predictions):\n",
    "    with open(\"birank_predictions.txt\", \"w\") as out:\n",
    "        for user in predictions:\n",
    "            res = [reverse_u_index[user]]\n",
    "            for pred in predictions[user]:\n",
    "                res.append(reverse_b_index[pred])\n",
    "            out.write(\",\".join(res) + '\\n')"
   ]
  },
  {
   "cell_type": "code",
   "execution_count": null,
   "metadata": {},
   "outputs": [],
   "source": []
  }
 ],
 "metadata": {
  "kernelspec": {
   "display_name": "Python 2",
   "language": "python",
   "name": "python2"
  },
  "language_info": {
   "codemirror_mode": {
    "name": "ipython",
    "version": 2
   },
   "file_extension": ".py",
   "mimetype": "text/x-python",
   "name": "python",
   "nbconvert_exporter": "python",
   "pygments_lexer": "ipython2",
   "version": "2.7.14"
  }
 },
 "nbformat": 4,
 "nbformat_minor": 2
}
